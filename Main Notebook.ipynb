{
 "cells": [
  {
   "cell_type": "markdown",
   "id": "1aaaf376-8ebd-436e-8bb2-773fa9d9df58",
   "metadata": {},
   "source": [
    "# Итоговый проект по программе \"Специалист по Data Science\"\n",
    "\n",
    "## Тема: Определение вероятности покупки товара на основе данных о клиенте и его покупательской истории с помощью методов машинного обучения"
   ]
  },
  {
   "cell_type": "markdown",
   "id": "ff8fd132-bf63-4a04-baaf-eb7048784d37",
   "metadata": {},
   "source": [
    "**Цель проекта:** Продемонстрировать освоение ключевых методов анализа данных и их приминение на практике на основе задачи определения вероятности совершения покупки на основе данных о клиенте и его покупательской истории\n",
    "\n",
    "\n",
    "**Задачи проекта:** \n",
    "1. Провести предобработку и исследовательский анализ данных полученного датасета\n",
    "2. Составить портрет покупателя\n",
    "3. Провести кластеризацию покупателей\n",
    "4. Выбрать и обучить модель определения вероятности покупки товара\n",
    "\n",
    "\n",
    "**Исходные данные:**\n",
    "* Датасет [\"Superstore Marketing Campaign Dataset\"](https://www.kaggle.com/datasets/ahsan81/superstore-marketing-campaign-dataset)\n",
    "\n",
    "**Содержание отчета:**\n",
    "* 1. Загрузка датасета и знакомство с данными\n",
    "* 2. Предобработка данных\n",
    "     * 2.1 Типы данных\n",
    "     * 2.2 Пропуски данных\n",
    "     * 2.3 Дубликаты данных\n",
    "     * 2.4 Дообогащение данных\n",
    "     * 2.5. Выводы по предобработке данных\n",
    "* 3. Исследовательский анализ данных\n",
    "* 4. Портрет покупателя\n",
    "* 5. Кластеризация покупателей\n",
    "* 6. Выбор и обучение модели для определения вероятности покупки товара\n",
    "* 7. Общие выводы по результатам работы"
   ]
  },
  {
   "cell_type": "markdown",
   "id": "df0adeaf-b23a-45b1-b0b3-f4ec1cf23f5b",
   "metadata": {},
   "source": [
    "## 1. Загрузка датасета и знакомство с данными"
   ]
  },
  {
   "cell_type": "markdown",
   "id": "0301e9bf-109d-45fb-8ae3-28f552980292",
   "metadata": {},
   "source": [
    "Задачи данного раздела:\n",
    "* Импортировать необходимые библиотеки\n",
    "* Загрузить датасет\n",
    "* Ознакомиться с общей информацией о датасете"
   ]
  },
  {
   "cell_type": "markdown",
   "id": "a66ba4f6-0944-47e0-a6d3-9fe519ad66df",
   "metadata": {},
   "source": [
    "Импортируем необходимые библиотеки:"
   ]
  },
  {
   "cell_type": "code",
   "execution_count": 97,
   "id": "d4ea5eac-028e-4cb5-ad9d-053580cb6cba",
   "metadata": {},
   "outputs": [],
   "source": [
    "# Работа с данными\n",
    "import pandas as pd\n",
    "\n",
    "# Визуализация\n",
    "import plotly.graph_objects as go\n",
    "import plotly.express as px\n",
    "from plotly.subplots import make_subplots\n",
    "\n",
    "# Настройка отображения Jupiter\n",
    "import warnings\n",
    "warnings.filterwarnings('ignore')\n",
    "pd.set_option('display.max_columns', None) # вывод результатов без сокращения количества столбцов"
   ]
  },
  {
   "cell_type": "markdown",
   "id": "1a143b51-9be8-49a7-a6a2-86d592e1e897",
   "metadata": {},
   "source": [
    "Загрузим датасет:"
   ]
  },
  {
   "cell_type": "code",
   "execution_count": 2,
   "id": "aae1a8d3-821f-48fc-a091-3c733bcaf36d",
   "metadata": {},
   "outputs": [],
   "source": [
    "data = pd.read_csv('superstore_data.csv')"
   ]
  },
  {
   "cell_type": "markdown",
   "id": "77220db5-1107-497d-8bdc-99d0bf6bb403",
   "metadata": {},
   "source": [
    "Откроем датасет и посмотрим на данные:"
   ]
  },
  {
   "cell_type": "code",
   "execution_count": 3,
   "id": "199117fd-2877-4117-8c9c-f1658f320adf",
   "metadata": {},
   "outputs": [
    {
     "data": {
      "text/html": [
       "<div>\n",
       "<style scoped>\n",
       "    .dataframe tbody tr th:only-of-type {\n",
       "        vertical-align: middle;\n",
       "    }\n",
       "\n",
       "    .dataframe tbody tr th {\n",
       "        vertical-align: top;\n",
       "    }\n",
       "\n",
       "    .dataframe thead th {\n",
       "        text-align: right;\n",
       "    }\n",
       "</style>\n",
       "<table border=\"1\" class=\"dataframe\">\n",
       "  <thead>\n",
       "    <tr style=\"text-align: right;\">\n",
       "      <th></th>\n",
       "      <th>Id</th>\n",
       "      <th>Year_Birth</th>\n",
       "      <th>Education</th>\n",
       "      <th>Marital_Status</th>\n",
       "      <th>Income</th>\n",
       "      <th>Kidhome</th>\n",
       "      <th>Teenhome</th>\n",
       "      <th>Dt_Customer</th>\n",
       "      <th>Recency</th>\n",
       "      <th>MntWines</th>\n",
       "      <th>MntFruits</th>\n",
       "      <th>MntMeatProducts</th>\n",
       "      <th>MntFishProducts</th>\n",
       "      <th>MntSweetProducts</th>\n",
       "      <th>MntGoldProds</th>\n",
       "      <th>NumDealsPurchases</th>\n",
       "      <th>NumWebPurchases</th>\n",
       "      <th>NumCatalogPurchases</th>\n",
       "      <th>NumStorePurchases</th>\n",
       "      <th>NumWebVisitsMonth</th>\n",
       "      <th>Response</th>\n",
       "      <th>Complain</th>\n",
       "    </tr>\n",
       "  </thead>\n",
       "  <tbody>\n",
       "    <tr>\n",
       "      <th>0</th>\n",
       "      <td>1826</td>\n",
       "      <td>1970</td>\n",
       "      <td>Graduation</td>\n",
       "      <td>Divorced</td>\n",
       "      <td>84835.0</td>\n",
       "      <td>0</td>\n",
       "      <td>0</td>\n",
       "      <td>6/16/2014</td>\n",
       "      <td>0</td>\n",
       "      <td>189</td>\n",
       "      <td>104</td>\n",
       "      <td>379</td>\n",
       "      <td>111</td>\n",
       "      <td>189</td>\n",
       "      <td>218</td>\n",
       "      <td>1</td>\n",
       "      <td>4</td>\n",
       "      <td>4</td>\n",
       "      <td>6</td>\n",
       "      <td>1</td>\n",
       "      <td>1</td>\n",
       "      <td>0</td>\n",
       "    </tr>\n",
       "    <tr>\n",
       "      <th>1</th>\n",
       "      <td>1</td>\n",
       "      <td>1961</td>\n",
       "      <td>Graduation</td>\n",
       "      <td>Single</td>\n",
       "      <td>57091.0</td>\n",
       "      <td>0</td>\n",
       "      <td>0</td>\n",
       "      <td>6/15/2014</td>\n",
       "      <td>0</td>\n",
       "      <td>464</td>\n",
       "      <td>5</td>\n",
       "      <td>64</td>\n",
       "      <td>7</td>\n",
       "      <td>0</td>\n",
       "      <td>37</td>\n",
       "      <td>1</td>\n",
       "      <td>7</td>\n",
       "      <td>3</td>\n",
       "      <td>7</td>\n",
       "      <td>5</td>\n",
       "      <td>1</td>\n",
       "      <td>0</td>\n",
       "    </tr>\n",
       "    <tr>\n",
       "      <th>2</th>\n",
       "      <td>10476</td>\n",
       "      <td>1958</td>\n",
       "      <td>Graduation</td>\n",
       "      <td>Married</td>\n",
       "      <td>67267.0</td>\n",
       "      <td>0</td>\n",
       "      <td>1</td>\n",
       "      <td>5/13/2014</td>\n",
       "      <td>0</td>\n",
       "      <td>134</td>\n",
       "      <td>11</td>\n",
       "      <td>59</td>\n",
       "      <td>15</td>\n",
       "      <td>2</td>\n",
       "      <td>30</td>\n",
       "      <td>1</td>\n",
       "      <td>3</td>\n",
       "      <td>2</td>\n",
       "      <td>5</td>\n",
       "      <td>2</td>\n",
       "      <td>0</td>\n",
       "      <td>0</td>\n",
       "    </tr>\n",
       "    <tr>\n",
       "      <th>3</th>\n",
       "      <td>1386</td>\n",
       "      <td>1967</td>\n",
       "      <td>Graduation</td>\n",
       "      <td>Together</td>\n",
       "      <td>32474.0</td>\n",
       "      <td>1</td>\n",
       "      <td>1</td>\n",
       "      <td>11/5/2014</td>\n",
       "      <td>0</td>\n",
       "      <td>10</td>\n",
       "      <td>0</td>\n",
       "      <td>1</td>\n",
       "      <td>0</td>\n",
       "      <td>0</td>\n",
       "      <td>0</td>\n",
       "      <td>1</td>\n",
       "      <td>1</td>\n",
       "      <td>0</td>\n",
       "      <td>2</td>\n",
       "      <td>7</td>\n",
       "      <td>0</td>\n",
       "      <td>0</td>\n",
       "    </tr>\n",
       "    <tr>\n",
       "      <th>4</th>\n",
       "      <td>5371</td>\n",
       "      <td>1989</td>\n",
       "      <td>Graduation</td>\n",
       "      <td>Single</td>\n",
       "      <td>21474.0</td>\n",
       "      <td>1</td>\n",
       "      <td>0</td>\n",
       "      <td>8/4/2014</td>\n",
       "      <td>0</td>\n",
       "      <td>6</td>\n",
       "      <td>16</td>\n",
       "      <td>24</td>\n",
       "      <td>11</td>\n",
       "      <td>0</td>\n",
       "      <td>34</td>\n",
       "      <td>2</td>\n",
       "      <td>3</td>\n",
       "      <td>1</td>\n",
       "      <td>2</td>\n",
       "      <td>7</td>\n",
       "      <td>1</td>\n",
       "      <td>0</td>\n",
       "    </tr>\n",
       "  </tbody>\n",
       "</table>\n",
       "</div>"
      ],
      "text/plain": [
       "      Id  Year_Birth   Education Marital_Status   Income  Kidhome  Teenhome  \\\n",
       "0   1826        1970  Graduation       Divorced  84835.0        0         0   \n",
       "1      1        1961  Graduation         Single  57091.0        0         0   \n",
       "2  10476        1958  Graduation        Married  67267.0        0         1   \n",
       "3   1386        1967  Graduation       Together  32474.0        1         1   \n",
       "4   5371        1989  Graduation         Single  21474.0        1         0   \n",
       "\n",
       "  Dt_Customer  Recency  MntWines  MntFruits  MntMeatProducts  MntFishProducts  \\\n",
       "0   6/16/2014        0       189        104              379              111   \n",
       "1   6/15/2014        0       464          5               64                7   \n",
       "2   5/13/2014        0       134         11               59               15   \n",
       "3   11/5/2014        0        10          0                1                0   \n",
       "4    8/4/2014        0         6         16               24               11   \n",
       "\n",
       "   MntSweetProducts  MntGoldProds  NumDealsPurchases  NumWebPurchases  \\\n",
       "0               189           218                  1                4   \n",
       "1                 0            37                  1                7   \n",
       "2                 2            30                  1                3   \n",
       "3                 0             0                  1                1   \n",
       "4                 0            34                  2                3   \n",
       "\n",
       "   NumCatalogPurchases  NumStorePurchases  NumWebVisitsMonth  Response  \\\n",
       "0                    4                  6                  1         1   \n",
       "1                    3                  7                  5         1   \n",
       "2                    2                  5                  2         0   \n",
       "3                    0                  2                  7         0   \n",
       "4                    1                  2                  7         1   \n",
       "\n",
       "   Complain  \n",
       "0         0  \n",
       "1         0  \n",
       "2         0  \n",
       "3         0  \n",
       "4         0  "
      ]
     },
     "execution_count": 3,
     "metadata": {},
     "output_type": "execute_result"
    }
   ],
   "source": [
    "data.head()"
   ]
  },
  {
   "cell_type": "markdown",
   "id": "b452f920-062d-4dba-ba65-448bcdcaf425",
   "metadata": {},
   "source": [
    "Посмотрим общую информацию о датасете:"
   ]
  },
  {
   "cell_type": "code",
   "execution_count": 4,
   "id": "863eeba6-2953-4cdb-a818-b708684d395f",
   "metadata": {},
   "outputs": [
    {
     "name": "stdout",
     "output_type": "stream",
     "text": [
      "<class 'pandas.core.frame.DataFrame'>\n",
      "RangeIndex: 2240 entries, 0 to 2239\n",
      "Data columns (total 22 columns):\n",
      " #   Column               Non-Null Count  Dtype  \n",
      "---  ------               --------------  -----  \n",
      " 0   Id                   2240 non-null   int64  \n",
      " 1   Year_Birth           2240 non-null   int64  \n",
      " 2   Education            2240 non-null   object \n",
      " 3   Marital_Status       2240 non-null   object \n",
      " 4   Income               2216 non-null   float64\n",
      " 5   Kidhome              2240 non-null   int64  \n",
      " 6   Teenhome             2240 non-null   int64  \n",
      " 7   Dt_Customer          2240 non-null   object \n",
      " 8   Recency              2240 non-null   int64  \n",
      " 9   MntWines             2240 non-null   int64  \n",
      " 10  MntFruits            2240 non-null   int64  \n",
      " 11  MntMeatProducts      2240 non-null   int64  \n",
      " 12  MntFishProducts      2240 non-null   int64  \n",
      " 13  MntSweetProducts     2240 non-null   int64  \n",
      " 14  MntGoldProds         2240 non-null   int64  \n",
      " 15  NumDealsPurchases    2240 non-null   int64  \n",
      " 16  NumWebPurchases      2240 non-null   int64  \n",
      " 17  NumCatalogPurchases  2240 non-null   int64  \n",
      " 18  NumStorePurchases    2240 non-null   int64  \n",
      " 19  NumWebVisitsMonth    2240 non-null   int64  \n",
      " 20  Response             2240 non-null   int64  \n",
      " 21  Complain             2240 non-null   int64  \n",
      "dtypes: float64(1), int64(18), object(3)\n",
      "memory usage: 385.1+ KB\n"
     ]
    }
   ],
   "source": [
    "data.info()"
   ]
  },
  {
   "cell_type": "markdown",
   "id": "252b0d5f-eb85-4517-9f80-56e7a07510c4",
   "metadata": {},
   "source": [
    "В датасете содиржится меформация о 2240 клиентов с 22 признаками. К датасету прилагалось следующее описание:\n",
    "\n",
    "* ``Id`` - уникальный идентификатор клиента\n",
    "* ``Year_Birth`` - год рождения клиента\n",
    "* ``Education`` - уровень образования клиента\n",
    "* ``Marital_Status`` - семейное положение клиента\n",
    "* ``Income`` - годовой доход домохозяйства клиента\n",
    "* ``Kidhome`` - количество маленьких детей у клиента\n",
    "* ``Teenhome`` - количество детей-подростков \n",
    "* ``Dt_Customer`` - дата регистрации клиента\n",
    "* ``Recency`` - количество дней с последней покупки\n",
    "* ``MntWines`` - сумма, потраченная на вино за последние два года\n",
    "* ``MntFruits`` -  сумма, потраченная на фрукты за последние два года\n",
    "* ``MntMeatProducts`` -  сумма, потраченная на мясо за последние два года\n",
    "* ``MntFishProducts`` -  сумма, потраченная на рыбу за последние два года\n",
    "* ``MntSweetProducts`` -  сумма, потраченная на сладости за последние два года\n",
    "* ``MntGoldProds`` -  сумма, потраченная на \"золотые продукты\" за последние два года. \"Золотые продукты\" - это продукты, размещаемые на \"золотой полке\" — это полка, расположенная на уровне глаз покупателей, на высоте от 1,2 до 1,7 метра от пола (с учётом среднего роста взрослого человека). В детских магазинах золотая полка находится на уровне от 0,3 до 1 метра от пола. \n",
    "* ``NumDealsPurchases`` - количество покупок со скидкой\n",
    "* ``NumWebPurchases`` - количество покупок совершенных на сайте компании\n",
    "* ``NumCatalogPurchases`` - количество покупок, совершенных с помощью каталога (покупка товаров, которые должны быть отправлены по почте)\n",
    "* ``NumStorePurchases`` - количество покупок совершенных непосредственно в магазине\n",
    "* ``NumWebVisitsMonth`` - количество посещений сайта компании за последний месяц\n",
    "* ``Response`` - ответ клиента (целевая переменная), 1 - клиент принял предложение о покупке, 0 - не принял\n",
    "* ``Complain`` - жалобы клиента, 1 - жалобы были, 0 - жалоб не было"
   ]
  },
  {
   "cell_type": "markdown",
   "id": "2321111e-61dd-4146-9a8e-3123283115e1",
   "metadata": {},
   "source": [
    "## 2. Предобработка данных"
   ]
  },
  {
   "cell_type": "markdown",
   "id": "9643376f-a548-4c5a-8d85-b74cb46aba55",
   "metadata": {},
   "source": [
    "Исходя из проведенного обзора данных необходимо выполнить:\n",
    "* Привести наименование столбцов к общепринятому виду\n",
    "* Привести типы данных в соответствие\n",
    "* Проверить пропуски в датасете\n",
    "* Проверить наличие явных и неявных дубликатов\n",
    "* По возможности дообогатить данные\n",
    "* Удалить столбцы не несущие смысла для дальнейшего анализа"
   ]
  },
  {
   "cell_type": "markdown",
   "id": "a99d6799-052b-4adc-b165-fc432dc82b96",
   "metadata": {},
   "source": [
    "### 2.1. Приведение названий столбцов к нижнему регистру"
   ]
  },
  {
   "cell_type": "markdown",
   "id": "b5c4c4a5-5264-4d7b-af7b-7da9daab2478",
   "metadata": {},
   "source": [
    "Для дальнейшего удобства приведем названия столбцов к нижнему регистру:"
   ]
  },
  {
   "cell_type": "code",
   "execution_count": 5,
   "id": "8e435dfd-67f5-41d0-b67d-a6530a61e20c",
   "metadata": {},
   "outputs": [],
   "source": [
    "data.columns = data.columns.str.lower()"
   ]
  },
  {
   "cell_type": "markdown",
   "id": "ae3c8003-6001-46fd-ae40-b41100d008eb",
   "metadata": {},
   "source": [
    "### 2.2. Приведение типов данных к целевым"
   ]
  },
  {
   "cell_type": "markdown",
   "id": "33296c8b-8b92-49bb-a095-0504404f776f",
   "metadata": {},
   "source": [
    "Поле ``dt_сustomer`` содержит дату регистрации клиента и  представлена в строковом виде.\n",
    "\n",
    "Преобразуем `dt_Customer` к типу даты:"
   ]
  },
  {
   "cell_type": "code",
   "execution_count": 6,
   "id": "ada0e4c8-3264-465a-a218-67cc76cc9bf4",
   "metadata": {},
   "outputs": [],
   "source": [
    "data['dt_customer'] = pd.to_datetime(data['dt_customer'])"
   ]
  },
  {
   "cell_type": "markdown",
   "id": "dff13572-8393-4b83-ae5e-04cff9bc666c",
   "metadata": {},
   "source": [
    "В остальных полях типы данных указаны корректно."
   ]
  },
  {
   "cell_type": "markdown",
   "id": "1c3c7350-239a-4bdf-aa1c-fb47ce6ddf96",
   "metadata": {},
   "source": [
    "### 2.3. Обработка пропусков данных"
   ]
  },
  {
   "cell_type": "markdown",
   "id": "d385a97c-cff3-482d-8df1-e832fd73f009",
   "metadata": {},
   "source": [
    "Проверим наличие NAN и NULL в датасете:"
   ]
  },
  {
   "cell_type": "code",
   "execution_count": 7,
   "id": "e9ce72ed-3de5-44e9-be89-41a56eba93ea",
   "metadata": {},
   "outputs": [
    {
     "name": "stdout",
     "output_type": "stream",
     "text": [
      "========================================\n",
      "NULLS\n",
      "id                      0\n",
      "year_birth              0\n",
      "education               0\n",
      "marital_status          0\n",
      "income                 24\n",
      "kidhome                 0\n",
      "teenhome                0\n",
      "dt_customer             0\n",
      "recency                 0\n",
      "mntwines                0\n",
      "mntfruits               0\n",
      "mntmeatproducts         0\n",
      "mntfishproducts         0\n",
      "mntsweetproducts        0\n",
      "mntgoldprods            0\n",
      "numdealspurchases       0\n",
      "numwebpurchases         0\n",
      "numcatalogpurchases     0\n",
      "numstorepurchases       0\n",
      "numwebvisitsmonth       0\n",
      "response                0\n",
      "complain                0\n",
      "dtype: int64\n",
      "========================================\n",
      "NANs\n",
      "id                      0\n",
      "year_birth              0\n",
      "education               0\n",
      "marital_status          0\n",
      "income                 24\n",
      "kidhome                 0\n",
      "teenhome                0\n",
      "dt_customer             0\n",
      "recency                 0\n",
      "mntwines                0\n",
      "mntfruits               0\n",
      "mntmeatproducts         0\n",
      "mntfishproducts         0\n",
      "mntsweetproducts        0\n",
      "mntgoldprods            0\n",
      "numdealspurchases       0\n",
      "numwebpurchases         0\n",
      "numcatalogpurchases     0\n",
      "numstorepurchases       0\n",
      "numwebvisitsmonth       0\n",
      "response                0\n",
      "complain                0\n",
      "dtype: int64\n",
      "========================================\n"
     ]
    }
   ],
   "source": [
    "print(20*'==')\n",
    "print('NULLS')\n",
    "print(data.isnull().sum())\n",
    "print(20*'==')\n",
    "print('NANs')\n",
    "print(data.isna().sum())\n",
    "print(20*'==')"
   ]
  },
  {
   "cell_type": "markdown",
   "id": "b5ee8f39-3b9d-41dc-9ff3-be978bd726cd",
   "metadata": {},
   "source": [
    "Обнаружено 24 пропуска по полю Income. \n",
    "\n",
    "Выведем долю пропущенных значений:"
   ]
  },
  {
   "cell_type": "code",
   "execution_count": 8,
   "id": "0c846575-a139-4837-a8f4-af0b5684abd1",
   "metadata": {},
   "outputs": [
    {
     "name": "stdout",
     "output_type": "stream",
     "text": [
      "Доля пропущенных данных в датасете: 1.07%\n"
     ]
    }
   ],
   "source": [
    "print(f'Доля пропущенных данных в датасете: {data.query('income.isna()').shape[0] / data.shape[0] * 100:.2f}%')"
   ]
  },
  {
   "cell_type": "markdown",
   "id": "4164c75b-d103-4a32-9976-86f90e2f8790",
   "metadata": {},
   "source": [
    "Заполнять пропуски не будем, удалим пропущенные значения (1% - допустимый уровень потерь при предобработке данных), чтобы не искажать данные, что может негативно повлиять на обучение моделей в дальнейшем. Результат сохраним в новый датафрейм с очищенными данными.\n",
    "\n",
    "Создадим новый датафрейм в котором будут храниться очищенные данные для дальнейшей работы:"
   ]
  },
  {
   "cell_type": "code",
   "execution_count": 9,
   "id": "37897596-b68d-4b5e-bfb7-09918dedb5e3",
   "metadata": {},
   "outputs": [],
   "source": [
    "df = data.dropna()"
   ]
  },
  {
   "cell_type": "markdown",
   "id": "dec1c0b5-6381-45cd-a78d-561aec8563b9",
   "metadata": {},
   "source": [
    "### 2.4. Обработка дубликатов данных"
   ]
  },
  {
   "cell_type": "markdown",
   "id": "c3e3500e-40e4-41a0-aa3e-d5b7997804d2",
   "metadata": {},
   "source": [
    "Проверим количество явных дубликатов (полностью одинаковых строк):"
   ]
  },
  {
   "cell_type": "code",
   "execution_count": 10,
   "id": "93fb4fc2-4185-4816-ae2f-87490dbc77bd",
   "metadata": {},
   "outputs": [
    {
     "data": {
      "text/plain": [
       "0"
      ]
     },
     "execution_count": 10,
     "metadata": {},
     "output_type": "execute_result"
    }
   ],
   "source": [
    "df.duplicated().sum()"
   ]
  },
  {
   "cell_type": "markdown",
   "id": "4ab82295-16a0-4077-a511-b7f8e3a6817b",
   "metadata": {},
   "source": [
    "Явных дубликатов (полных совпадений) не обнаружено.\n",
    "\n",
    "К неявным дубликатам могут относиться например варицации написания одной и той категории - лишние пробелы, ошибки в написании, разные регистры и т.д.\n",
    "\n",
    "Проверим наличие неявных дубликатов по столбцу `education`:"
   ]
  },
  {
   "cell_type": "code",
   "execution_count": 11,
   "id": "9432e2c2-5b04-48b2-8ebe-eda9c66789e2",
   "metadata": {},
   "outputs": [
    {
     "data": {
      "text/plain": [
       "array(['Graduation', 'PhD', '2n Cycle', 'Master', 'Basic'], dtype=object)"
      ]
     },
     "execution_count": 11,
     "metadata": {},
     "output_type": "execute_result"
    }
   ],
   "source": [
    "df['education'].unique()"
   ]
  },
  {
   "cell_type": "markdown",
   "id": "475e7c3c-4602-4f0b-8d45-0db629989401",
   "metadata": {},
   "source": [
    "В поле ``education`` ошибок нет.\n",
    "\n",
    "Дадим пояснения по обозначениям уровней образования:\n",
    "* Graduation - выпускник средней школы или колледжа / бакалавр\n",
    "* PhD - доктор философии (высшая академическая степень)\n",
    "* 2n Cycle - получение степени магистра (Болонская система)\n",
    "* Master - магистр, степень следующая за обучение после бакалавриата\n",
    "* Basic - базовое образование (начальная / средняя школа)"
   ]
  },
  {
   "cell_type": "markdown",
   "id": "de61aa7d-2359-4b8e-bb33-91928c3f2085",
   "metadata": {},
   "source": [
    "Проверим уникальные значения по полю `year_birth`:"
   ]
  },
  {
   "cell_type": "code",
   "execution_count": 57,
   "id": "b164d0f2-46ec-4b3f-a80e-3929d39b4747",
   "metadata": {},
   "outputs": [
    {
     "data": {
      "text/plain": [
       "array([1970, 1961, 1958, 1967, 1989, 1954, 1947, 1979, 1959, 1981, 1969,\n",
       "       1977, 1960, 1966, 1976, 1965, 1956, 1975, 1971, 1986, 1972, 1974,\n",
       "       1990, 1987, 1984, 1968, 1955, 1983, 1973, 1978, 1952, 1962, 1964,\n",
       "       1982, 1963, 1957, 1980, 1945, 1949, 1948, 1953, 1946, 1985, 1992,\n",
       "       1944, 1951, 1988, 1950, 1994, 1993, 1991, 1893, 1996, 1995, 1899,\n",
       "       1943, 1941, 1940, 1900])"
      ]
     },
     "execution_count": 57,
     "metadata": {},
     "output_type": "execute_result"
    }
   ],
   "source": [
    "df['year_birth'].unique()"
   ]
  },
  {
   "cell_type": "markdown",
   "id": "5df24e3e-e19b-4b39-8f3f-5d4b0a4c7df8",
   "metadata": {},
   "source": [
    "Видим аномальные значения - 1893, 1899, 1900.\n",
    "\n",
    "Удалим аномалии, оставим в датасете только клиентов с годом рождения > 1900:"
   ]
  },
  {
   "cell_type": "code",
   "execution_count": 58,
   "id": "144504fe-398c-430f-b6d9-0dd6e3d37a15",
   "metadata": {},
   "outputs": [],
   "source": [
    "df = df.query('year_birth>1900').copy()"
   ]
  },
  {
   "cell_type": "markdown",
   "id": "3093cf6d-96b7-4b8d-95e9-47f0c8f77fa6",
   "metadata": {},
   "source": [
    "Проверим наличие неявных дубликатов по столбцу `marital_status`:"
   ]
  },
  {
   "cell_type": "code",
   "execution_count": 12,
   "id": "e0f7f743-c4ed-496f-a6c3-add9aa8bb5de",
   "metadata": {},
   "outputs": [
    {
     "data": {
      "text/plain": [
       "array(['Divorced', 'Single', 'Married', 'Together', 'Widow', 'YOLO',\n",
       "       'Alone', 'Absurd'], dtype=object)"
      ]
     },
     "execution_count": 12,
     "metadata": {},
     "output_type": "execute_result"
    }
   ],
   "source": [
    "df['marital_status'].unique()"
   ]
  },
  {
   "cell_type": "markdown",
   "id": "36a437f9-b9f2-47ff-a950-2c2f0da64259",
   "metadata": {},
   "source": [
    "В поле `marital_status` ошибок нет.\n",
    "\n",
    "Дадим пояснения по обозначениям статусов семейного положения:\n",
    "* Divorced - разведен\n",
    "* Single - человек, который не состоит в браке и не имеет партнёра\n",
    "* Married - женат / замужем\n",
    "* Together - человек состоит в отношениях с другим человеком (без заключения брака)\n",
    "* Widow - вдова\n",
    "* YOLO - You Only Live Once - человек предпочитающий не связывать себя серьезными отношениями\n",
    "* Alone - человек, который не находится в отношениях и предпочитает проводить время в одиночестве, это может быть связано с выбором или обстоятельствами. \n",
    "* Absurd - \"все сложно\"\n",
    "\n",
    "В данной структуре статусов видим несколько дублирующих по смыслу понятий - так например статусы Divorced, Single, Widow, Alone означают одно и тоже состояние, но в результате разных обстоятельств. На следующем этапе предобработки создадим дополнительный признак, который объединит схожие по смыслу статусы."
   ]
  },
  {
   "cell_type": "markdown",
   "id": "d044669e-59a4-4db0-8888-dd992f4737f5",
   "metadata": {},
   "source": [
    "Также проверим наличие неявных дубликатов по связке полей `year_birth`, `education`, `marital_status`, `income` - основным полям \n",
    "помимо id, по которым можно идентифицировать похожих клиентов:"
   ]
  },
  {
   "cell_type": "code",
   "execution_count": 13,
   "id": "1f9cf318-6d25-400c-bdfe-ee54cd681b94",
   "metadata": {},
   "outputs": [
    {
     "data": {
      "text/plain": [
       "201"
      ]
     },
     "execution_count": 13,
     "metadata": {},
     "output_type": "execute_result"
    }
   ],
   "source": [
    "df.duplicated(subset=['year_birth', 'education', 'marital_status', 'income']).sum()"
   ]
  },
  {
   "cell_type": "markdown",
   "id": "f0cbdb32-ab3b-44df-a26e-64c8bdec6896",
   "metadata": {},
   "source": [
    "Найден 201 дубликат, посмотрим на найденные совпадения:"
   ]
  },
  {
   "cell_type": "code",
   "execution_count": 14,
   "id": "a025d230-2b8c-4301-b459-81c1c1ed37af",
   "metadata": {},
   "outputs": [
    {
     "data": {
      "text/html": [
       "<div>\n",
       "<style scoped>\n",
       "    .dataframe tbody tr th:only-of-type {\n",
       "        vertical-align: middle;\n",
       "    }\n",
       "\n",
       "    .dataframe tbody tr th {\n",
       "        vertical-align: top;\n",
       "    }\n",
       "\n",
       "    .dataframe thead th {\n",
       "        text-align: right;\n",
       "    }\n",
       "</style>\n",
       "<table border=\"1\" class=\"dataframe\">\n",
       "  <thead>\n",
       "    <tr style=\"text-align: right;\">\n",
       "      <th></th>\n",
       "      <th>id</th>\n",
       "      <th>year_birth</th>\n",
       "      <th>education</th>\n",
       "      <th>marital_status</th>\n",
       "      <th>income</th>\n",
       "      <th>kidhome</th>\n",
       "      <th>teenhome</th>\n",
       "      <th>dt_customer</th>\n",
       "      <th>recency</th>\n",
       "      <th>mntwines</th>\n",
       "      <th>mntfruits</th>\n",
       "      <th>mntmeatproducts</th>\n",
       "      <th>mntfishproducts</th>\n",
       "      <th>mntsweetproducts</th>\n",
       "      <th>mntgoldprods</th>\n",
       "      <th>numdealspurchases</th>\n",
       "      <th>numwebpurchases</th>\n",
       "      <th>numcatalogpurchases</th>\n",
       "      <th>numstorepurchases</th>\n",
       "      <th>numwebvisitsmonth</th>\n",
       "      <th>response</th>\n",
       "      <th>complain</th>\n",
       "    </tr>\n",
       "  </thead>\n",
       "  <tbody>\n",
       "    <tr>\n",
       "      <th>8</th>\n",
       "      <td>4047</td>\n",
       "      <td>1954</td>\n",
       "      <td>PhD</td>\n",
       "      <td>Married</td>\n",
       "      <td>65324.0</td>\n",
       "      <td>0</td>\n",
       "      <td>1</td>\n",
       "      <td>2014-11-01</td>\n",
       "      <td>0</td>\n",
       "      <td>384</td>\n",
       "      <td>0</td>\n",
       "      <td>102</td>\n",
       "      <td>21</td>\n",
       "      <td>32</td>\n",
       "      <td>5</td>\n",
       "      <td>3</td>\n",
       "      <td>6</td>\n",
       "      <td>2</td>\n",
       "      <td>9</td>\n",
       "      <td>4</td>\n",
       "      <td>0</td>\n",
       "      <td>0</td>\n",
       "    </tr>\n",
       "    <tr>\n",
       "      <th>9</th>\n",
       "      <td>9477</td>\n",
       "      <td>1954</td>\n",
       "      <td>PhD</td>\n",
       "      <td>Married</td>\n",
       "      <td>65324.0</td>\n",
       "      <td>0</td>\n",
       "      <td>1</td>\n",
       "      <td>2014-11-01</td>\n",
       "      <td>0</td>\n",
       "      <td>384</td>\n",
       "      <td>0</td>\n",
       "      <td>102</td>\n",
       "      <td>21</td>\n",
       "      <td>32</td>\n",
       "      <td>5</td>\n",
       "      <td>3</td>\n",
       "      <td>6</td>\n",
       "      <td>2</td>\n",
       "      <td>9</td>\n",
       "      <td>4</td>\n",
       "      <td>0</td>\n",
       "      <td>0</td>\n",
       "    </tr>\n",
       "    <tr>\n",
       "      <th>15</th>\n",
       "      <td>837</td>\n",
       "      <td>1977</td>\n",
       "      <td>Graduation</td>\n",
       "      <td>Married</td>\n",
       "      <td>54809.0</td>\n",
       "      <td>1</td>\n",
       "      <td>1</td>\n",
       "      <td>2013-11-09</td>\n",
       "      <td>0</td>\n",
       "      <td>63</td>\n",
       "      <td>6</td>\n",
       "      <td>57</td>\n",
       "      <td>13</td>\n",
       "      <td>13</td>\n",
       "      <td>22</td>\n",
       "      <td>4</td>\n",
       "      <td>2</td>\n",
       "      <td>1</td>\n",
       "      <td>5</td>\n",
       "      <td>4</td>\n",
       "      <td>0</td>\n",
       "      <td>0</td>\n",
       "    </tr>\n",
       "    <tr>\n",
       "      <th>16</th>\n",
       "      <td>10521</td>\n",
       "      <td>1977</td>\n",
       "      <td>Graduation</td>\n",
       "      <td>Married</td>\n",
       "      <td>54809.0</td>\n",
       "      <td>1</td>\n",
       "      <td>1</td>\n",
       "      <td>2013-11-09</td>\n",
       "      <td>0</td>\n",
       "      <td>63</td>\n",
       "      <td>6</td>\n",
       "      <td>57</td>\n",
       "      <td>13</td>\n",
       "      <td>13</td>\n",
       "      <td>22</td>\n",
       "      <td>4</td>\n",
       "      <td>2</td>\n",
       "      <td>1</td>\n",
       "      <td>5</td>\n",
       "      <td>4</td>\n",
       "      <td>1</td>\n",
       "      <td>0</td>\n",
       "    </tr>\n",
       "    <tr>\n",
       "      <th>26</th>\n",
       "      <td>5430</td>\n",
       "      <td>1956</td>\n",
       "      <td>Graduation</td>\n",
       "      <td>Together</td>\n",
       "      <td>54450.0</td>\n",
       "      <td>1</td>\n",
       "      <td>1</td>\n",
       "      <td>2012-09-14</td>\n",
       "      <td>0</td>\n",
       "      <td>454</td>\n",
       "      <td>0</td>\n",
       "      <td>171</td>\n",
       "      <td>8</td>\n",
       "      <td>19</td>\n",
       "      <td>32</td>\n",
       "      <td>12</td>\n",
       "      <td>9</td>\n",
       "      <td>2</td>\n",
       "      <td>8</td>\n",
       "      <td>8</td>\n",
       "      <td>0</td>\n",
       "      <td>0</td>\n",
       "    </tr>\n",
       "    <tr>\n",
       "      <th>27</th>\n",
       "      <td>8432</td>\n",
       "      <td>1956</td>\n",
       "      <td>Graduation</td>\n",
       "      <td>Together</td>\n",
       "      <td>54450.0</td>\n",
       "      <td>1</td>\n",
       "      <td>1</td>\n",
       "      <td>2012-09-14</td>\n",
       "      <td>0</td>\n",
       "      <td>454</td>\n",
       "      <td>0</td>\n",
       "      <td>171</td>\n",
       "      <td>8</td>\n",
       "      <td>19</td>\n",
       "      <td>32</td>\n",
       "      <td>12</td>\n",
       "      <td>9</td>\n",
       "      <td>2</td>\n",
       "      <td>8</td>\n",
       "      <td>8</td>\n",
       "      <td>0</td>\n",
       "      <td>0</td>\n",
       "    </tr>\n",
       "    <tr>\n",
       "      <th>68</th>\n",
       "      <td>1519</td>\n",
       "      <td>1972</td>\n",
       "      <td>PhD</td>\n",
       "      <td>Single</td>\n",
       "      <td>38578.0</td>\n",
       "      <td>1</td>\n",
       "      <td>1</td>\n",
       "      <td>2013-06-22</td>\n",
       "      <td>2</td>\n",
       "      <td>38</td>\n",
       "      <td>4</td>\n",
       "      <td>22</td>\n",
       "      <td>3</td>\n",
       "      <td>3</td>\n",
       "      <td>3</td>\n",
       "      <td>3</td>\n",
       "      <td>3</td>\n",
       "      <td>0</td>\n",
       "      <td>3</td>\n",
       "      <td>8</td>\n",
       "      <td>1</td>\n",
       "      <td>0</td>\n",
       "    </tr>\n",
       "    <tr>\n",
       "      <th>69</th>\n",
       "      <td>9080</td>\n",
       "      <td>1972</td>\n",
       "      <td>PhD</td>\n",
       "      <td>Single</td>\n",
       "      <td>38578.0</td>\n",
       "      <td>1</td>\n",
       "      <td>1</td>\n",
       "      <td>2013-06-22</td>\n",
       "      <td>2</td>\n",
       "      <td>38</td>\n",
       "      <td>4</td>\n",
       "      <td>22</td>\n",
       "      <td>3</td>\n",
       "      <td>3</td>\n",
       "      <td>3</td>\n",
       "      <td>3</td>\n",
       "      <td>3</td>\n",
       "      <td>0</td>\n",
       "      <td>3</td>\n",
       "      <td>8</td>\n",
       "      <td>0</td>\n",
       "      <td>0</td>\n",
       "    </tr>\n",
       "    <tr>\n",
       "      <th>80</th>\n",
       "      <td>9888</td>\n",
       "      <td>1969</td>\n",
       "      <td>Graduation</td>\n",
       "      <td>Together</td>\n",
       "      <td>68695.0</td>\n",
       "      <td>0</td>\n",
       "      <td>0</td>\n",
       "      <td>2014-06-25</td>\n",
       "      <td>3</td>\n",
       "      <td>458</td>\n",
       "      <td>81</td>\n",
       "      <td>356</td>\n",
       "      <td>106</td>\n",
       "      <td>50</td>\n",
       "      <td>40</td>\n",
       "      <td>1</td>\n",
       "      <td>4</td>\n",
       "      <td>4</td>\n",
       "      <td>7</td>\n",
       "      <td>2</td>\n",
       "      <td>0</td>\n",
       "      <td>0</td>\n",
       "    </tr>\n",
       "    <tr>\n",
       "      <th>81</th>\n",
       "      <td>4399</td>\n",
       "      <td>1969</td>\n",
       "      <td>Graduation</td>\n",
       "      <td>Together</td>\n",
       "      <td>68695.0</td>\n",
       "      <td>0</td>\n",
       "      <td>0</td>\n",
       "      <td>2014-06-25</td>\n",
       "      <td>3</td>\n",
       "      <td>458</td>\n",
       "      <td>81</td>\n",
       "      <td>356</td>\n",
       "      <td>106</td>\n",
       "      <td>50</td>\n",
       "      <td>40</td>\n",
       "      <td>1</td>\n",
       "      <td>4</td>\n",
       "      <td>4</td>\n",
       "      <td>7</td>\n",
       "      <td>2</td>\n",
       "      <td>0</td>\n",
       "      <td>0</td>\n",
       "    </tr>\n",
       "    <tr>\n",
       "      <th>95</th>\n",
       "      <td>4470</td>\n",
       "      <td>1962</td>\n",
       "      <td>Master</td>\n",
       "      <td>Married</td>\n",
       "      <td>58646.0</td>\n",
       "      <td>0</td>\n",
       "      <td>1</td>\n",
       "      <td>2013-10-06</td>\n",
       "      <td>3</td>\n",
       "      <td>62</td>\n",
       "      <td>1</td>\n",
       "      <td>44</td>\n",
       "      <td>6</td>\n",
       "      <td>5</td>\n",
       "      <td>22</td>\n",
       "      <td>1</td>\n",
       "      <td>2</td>\n",
       "      <td>1</td>\n",
       "      <td>4</td>\n",
       "      <td>4</td>\n",
       "      <td>0</td>\n",
       "      <td>0</td>\n",
       "    </tr>\n",
       "    <tr>\n",
       "      <th>96</th>\n",
       "      <td>6183</td>\n",
       "      <td>1962</td>\n",
       "      <td>Master</td>\n",
       "      <td>Married</td>\n",
       "      <td>58646.0</td>\n",
       "      <td>0</td>\n",
       "      <td>1</td>\n",
       "      <td>2013-10-06</td>\n",
       "      <td>3</td>\n",
       "      <td>62</td>\n",
       "      <td>1</td>\n",
       "      <td>44</td>\n",
       "      <td>6</td>\n",
       "      <td>5</td>\n",
       "      <td>22</td>\n",
       "      <td>1</td>\n",
       "      <td>2</td>\n",
       "      <td>1</td>\n",
       "      <td>4</td>\n",
       "      <td>4</td>\n",
       "      <td>0</td>\n",
       "      <td>0</td>\n",
       "    </tr>\n",
       "    <tr>\n",
       "      <th>103</th>\n",
       "      <td>492</td>\n",
       "      <td>1973</td>\n",
       "      <td>PhD</td>\n",
       "      <td>YOLO</td>\n",
       "      <td>48432.0</td>\n",
       "      <td>0</td>\n",
       "      <td>1</td>\n",
       "      <td>2012-10-18</td>\n",
       "      <td>3</td>\n",
       "      <td>322</td>\n",
       "      <td>3</td>\n",
       "      <td>50</td>\n",
       "      <td>4</td>\n",
       "      <td>3</td>\n",
       "      <td>42</td>\n",
       "      <td>5</td>\n",
       "      <td>7</td>\n",
       "      <td>1</td>\n",
       "      <td>6</td>\n",
       "      <td>8</td>\n",
       "      <td>0</td>\n",
       "      <td>0</td>\n",
       "    </tr>\n",
       "    <tr>\n",
       "      <th>104</th>\n",
       "      <td>11133</td>\n",
       "      <td>1973</td>\n",
       "      <td>PhD</td>\n",
       "      <td>YOLO</td>\n",
       "      <td>48432.0</td>\n",
       "      <td>0</td>\n",
       "      <td>1</td>\n",
       "      <td>2012-10-18</td>\n",
       "      <td>3</td>\n",
       "      <td>322</td>\n",
       "      <td>3</td>\n",
       "      <td>50</td>\n",
       "      <td>4</td>\n",
       "      <td>3</td>\n",
       "      <td>42</td>\n",
       "      <td>5</td>\n",
       "      <td>7</td>\n",
       "      <td>1</td>\n",
       "      <td>6</td>\n",
       "      <td>8</td>\n",
       "      <td>1</td>\n",
       "      <td>0</td>\n",
       "    </tr>\n",
       "    <tr>\n",
       "      <th>105</th>\n",
       "      <td>4491</td>\n",
       "      <td>1949</td>\n",
       "      <td>Master</td>\n",
       "      <td>Married</td>\n",
       "      <td>62845.0</td>\n",
       "      <td>1</td>\n",
       "      <td>1</td>\n",
       "      <td>2012-01-10</td>\n",
       "      <td>3</td>\n",
       "      <td>1099</td>\n",
       "      <td>0</td>\n",
       "      <td>45</td>\n",
       "      <td>0</td>\n",
       "      <td>0</td>\n",
       "      <td>34</td>\n",
       "      <td>11</td>\n",
       "      <td>3</td>\n",
       "      <td>4</td>\n",
       "      <td>10</td>\n",
       "      <td>8</td>\n",
       "      <td>0</td>\n",
       "      <td>0</td>\n",
       "    </tr>\n",
       "    <tr>\n",
       "      <th>106</th>\n",
       "      <td>873</td>\n",
       "      <td>1949</td>\n",
       "      <td>Master</td>\n",
       "      <td>Married</td>\n",
       "      <td>62845.0</td>\n",
       "      <td>1</td>\n",
       "      <td>1</td>\n",
       "      <td>2012-01-10</td>\n",
       "      <td>3</td>\n",
       "      <td>1099</td>\n",
       "      <td>0</td>\n",
       "      <td>45</td>\n",
       "      <td>0</td>\n",
       "      <td>0</td>\n",
       "      <td>34</td>\n",
       "      <td>11</td>\n",
       "      <td>3</td>\n",
       "      <td>4</td>\n",
       "      <td>10</td>\n",
       "      <td>8</td>\n",
       "      <td>1</td>\n",
       "      <td>0</td>\n",
       "    </tr>\n",
       "    <tr>\n",
       "      <th>116</th>\n",
       "      <td>11084</td>\n",
       "      <td>1976</td>\n",
       "      <td>Master</td>\n",
       "      <td>Together</td>\n",
       "      <td>65104.0</td>\n",
       "      <td>0</td>\n",
       "      <td>1</td>\n",
       "      <td>2013-11-14</td>\n",
       "      <td>4</td>\n",
       "      <td>738</td>\n",
       "      <td>0</td>\n",
       "      <td>232</td>\n",
       "      <td>13</td>\n",
       "      <td>20</td>\n",
       "      <td>50</td>\n",
       "      <td>2</td>\n",
       "      <td>3</td>\n",
       "      <td>5</td>\n",
       "      <td>7</td>\n",
       "      <td>7</td>\n",
       "      <td>1</td>\n",
       "      <td>0</td>\n",
       "    </tr>\n",
       "    <tr>\n",
       "      <th>117</th>\n",
       "      <td>5172</td>\n",
       "      <td>1976</td>\n",
       "      <td>Master</td>\n",
       "      <td>Together</td>\n",
       "      <td>65104.0</td>\n",
       "      <td>0</td>\n",
       "      <td>1</td>\n",
       "      <td>2013-11-14</td>\n",
       "      <td>4</td>\n",
       "      <td>738</td>\n",
       "      <td>0</td>\n",
       "      <td>232</td>\n",
       "      <td>13</td>\n",
       "      <td>20</td>\n",
       "      <td>50</td>\n",
       "      <td>2</td>\n",
       "      <td>3</td>\n",
       "      <td>5</td>\n",
       "      <td>7</td>\n",
       "      <td>7</td>\n",
       "      <td>0</td>\n",
       "      <td>0</td>\n",
       "    </tr>\n",
       "    <tr>\n",
       "      <th>122</th>\n",
       "      <td>7685</td>\n",
       "      <td>1978</td>\n",
       "      <td>Graduation</td>\n",
       "      <td>Married</td>\n",
       "      <td>33039.0</td>\n",
       "      <td>1</td>\n",
       "      <td>0</td>\n",
       "      <td>2013-09-09</td>\n",
       "      <td>4</td>\n",
       "      <td>30</td>\n",
       "      <td>8</td>\n",
       "      <td>12</td>\n",
       "      <td>8</td>\n",
       "      <td>8</td>\n",
       "      <td>12</td>\n",
       "      <td>1</td>\n",
       "      <td>2</td>\n",
       "      <td>0</td>\n",
       "      <td>4</td>\n",
       "      <td>5</td>\n",
       "      <td>0</td>\n",
       "      <td>0</td>\n",
       "    </tr>\n",
       "    <tr>\n",
       "      <th>123</th>\n",
       "      <td>6310</td>\n",
       "      <td>1978</td>\n",
       "      <td>Graduation</td>\n",
       "      <td>Married</td>\n",
       "      <td>33039.0</td>\n",
       "      <td>1</td>\n",
       "      <td>0</td>\n",
       "      <td>2013-09-09</td>\n",
       "      <td>4</td>\n",
       "      <td>30</td>\n",
       "      <td>8</td>\n",
       "      <td>12</td>\n",
       "      <td>8</td>\n",
       "      <td>8</td>\n",
       "      <td>12</td>\n",
       "      <td>1</td>\n",
       "      <td>2</td>\n",
       "      <td>0</td>\n",
       "      <td>4</td>\n",
       "      <td>5</td>\n",
       "      <td>0</td>\n",
       "      <td>0</td>\n",
       "    </tr>\n",
       "  </tbody>\n",
       "</table>\n",
       "</div>"
      ],
      "text/plain": [
       "        id  year_birth   education marital_status   income  kidhome  teenhome  \\\n",
       "8     4047        1954         PhD        Married  65324.0        0         1   \n",
       "9     9477        1954         PhD        Married  65324.0        0         1   \n",
       "15     837        1977  Graduation        Married  54809.0        1         1   \n",
       "16   10521        1977  Graduation        Married  54809.0        1         1   \n",
       "26    5430        1956  Graduation       Together  54450.0        1         1   \n",
       "27    8432        1956  Graduation       Together  54450.0        1         1   \n",
       "68    1519        1972         PhD         Single  38578.0        1         1   \n",
       "69    9080        1972         PhD         Single  38578.0        1         1   \n",
       "80    9888        1969  Graduation       Together  68695.0        0         0   \n",
       "81    4399        1969  Graduation       Together  68695.0        0         0   \n",
       "95    4470        1962      Master        Married  58646.0        0         1   \n",
       "96    6183        1962      Master        Married  58646.0        0         1   \n",
       "103    492        1973         PhD           YOLO  48432.0        0         1   \n",
       "104  11133        1973         PhD           YOLO  48432.0        0         1   \n",
       "105   4491        1949      Master        Married  62845.0        1         1   \n",
       "106    873        1949      Master        Married  62845.0        1         1   \n",
       "116  11084        1976      Master       Together  65104.0        0         1   \n",
       "117   5172        1976      Master       Together  65104.0        0         1   \n",
       "122   7685        1978  Graduation        Married  33039.0        1         0   \n",
       "123   6310        1978  Graduation        Married  33039.0        1         0   \n",
       "\n",
       "    dt_customer  recency  mntwines  mntfruits  mntmeatproducts  \\\n",
       "8    2014-11-01        0       384          0              102   \n",
       "9    2014-11-01        0       384          0              102   \n",
       "15   2013-11-09        0        63          6               57   \n",
       "16   2013-11-09        0        63          6               57   \n",
       "26   2012-09-14        0       454          0              171   \n",
       "27   2012-09-14        0       454          0              171   \n",
       "68   2013-06-22        2        38          4               22   \n",
       "69   2013-06-22        2        38          4               22   \n",
       "80   2014-06-25        3       458         81              356   \n",
       "81   2014-06-25        3       458         81              356   \n",
       "95   2013-10-06        3        62          1               44   \n",
       "96   2013-10-06        3        62          1               44   \n",
       "103  2012-10-18        3       322          3               50   \n",
       "104  2012-10-18        3       322          3               50   \n",
       "105  2012-01-10        3      1099          0               45   \n",
       "106  2012-01-10        3      1099          0               45   \n",
       "116  2013-11-14        4       738          0              232   \n",
       "117  2013-11-14        4       738          0              232   \n",
       "122  2013-09-09        4        30          8               12   \n",
       "123  2013-09-09        4        30          8               12   \n",
       "\n",
       "     mntfishproducts  mntsweetproducts  mntgoldprods  numdealspurchases  \\\n",
       "8                 21                32             5                  3   \n",
       "9                 21                32             5                  3   \n",
       "15                13                13            22                  4   \n",
       "16                13                13            22                  4   \n",
       "26                 8                19            32                 12   \n",
       "27                 8                19            32                 12   \n",
       "68                 3                 3             3                  3   \n",
       "69                 3                 3             3                  3   \n",
       "80               106                50            40                  1   \n",
       "81               106                50            40                  1   \n",
       "95                 6                 5            22                  1   \n",
       "96                 6                 5            22                  1   \n",
       "103                4                 3            42                  5   \n",
       "104                4                 3            42                  5   \n",
       "105                0                 0            34                 11   \n",
       "106                0                 0            34                 11   \n",
       "116               13                20            50                  2   \n",
       "117               13                20            50                  2   \n",
       "122                8                 8            12                  1   \n",
       "123                8                 8            12                  1   \n",
       "\n",
       "     numwebpurchases  numcatalogpurchases  numstorepurchases  \\\n",
       "8                  6                    2                  9   \n",
       "9                  6                    2                  9   \n",
       "15                 2                    1                  5   \n",
       "16                 2                    1                  5   \n",
       "26                 9                    2                  8   \n",
       "27                 9                    2                  8   \n",
       "68                 3                    0                  3   \n",
       "69                 3                    0                  3   \n",
       "80                 4                    4                  7   \n",
       "81                 4                    4                  7   \n",
       "95                 2                    1                  4   \n",
       "96                 2                    1                  4   \n",
       "103                7                    1                  6   \n",
       "104                7                    1                  6   \n",
       "105                3                    4                 10   \n",
       "106                3                    4                 10   \n",
       "116                3                    5                  7   \n",
       "117                3                    5                  7   \n",
       "122                2                    0                  4   \n",
       "123                2                    0                  4   \n",
       "\n",
       "     numwebvisitsmonth  response  complain  \n",
       "8                    4         0         0  \n",
       "9                    4         0         0  \n",
       "15                   4         0         0  \n",
       "16                   4         1         0  \n",
       "26                   8         0         0  \n",
       "27                   8         0         0  \n",
       "68                   8         1         0  \n",
       "69                   8         0         0  \n",
       "80                   2         0         0  \n",
       "81                   2         0         0  \n",
       "95                   4         0         0  \n",
       "96                   4         0         0  \n",
       "103                  8         0         0  \n",
       "104                  8         1         0  \n",
       "105                  8         0         0  \n",
       "106                  8         1         0  \n",
       "116                  7         1         0  \n",
       "117                  7         0         0  \n",
       "122                  5         0         0  \n",
       "123                  5         0         0  "
      ]
     },
     "execution_count": 14,
     "metadata": {},
     "output_type": "execute_result"
    }
   ],
   "source": [
    "dubls = df[df.duplicated(subset=['year_birth', 'education', 'marital_status', 'income'], keep=False)]\n",
    "dubls.head(20)"
   ]
  },
  {
   "cell_type": "markdown",
   "id": "06df125a-fd55-4a39-8e09-652e0be33787",
   "metadata": {},
   "source": [
    "По найденным данным действительно видно, что строки повторяются полностью, отличие только в id клиента. Это может говорить о технической ошибке при сборе данных или регистрации клиентов.\n",
    "\n",
    "Удалим найденные дубликаты из очищенного датасета:"
   ]
  },
  {
   "cell_type": "code",
   "execution_count": 15,
   "id": "7c701aa6-1f7b-4c0b-9f66-baa6295e4c5c",
   "metadata": {},
   "outputs": [],
   "source": [
    "df = df.drop_duplicates(subset=['year_birth', 'education', 'marital_status', 'income'])"
   ]
  },
  {
   "cell_type": "markdown",
   "id": "486408f2-033f-403d-a47b-b035c69d5249",
   "metadata": {},
   "source": [
    "Проверим изменение объема данных относительно первоначального датасета:"
   ]
  },
  {
   "cell_type": "code",
   "execution_count": 16,
   "id": "9e5793cc-66b3-4568-a18e-caac8911d71f",
   "metadata": {},
   "outputs": [
    {
     "name": "stdout",
     "output_type": "stream",
     "text": [
      "Изменение объема данных: -10.04%\n"
     ]
    }
   ],
   "source": [
    "print(f'Изменение объема данных: {(df.shape[0] / data.shape[0] * 100) - 100 :.2f}%')"
   ]
  },
  {
   "cell_type": "markdown",
   "id": "3267880a-e915-47cc-ae0a-c9328ee96d88",
   "metadata": {},
   "source": [
    "В результате выполненной предобработки, объем данных сократился на 10%, что является умеренным уровнем потерь."
   ]
  },
  {
   "cell_type": "markdown",
   "id": "c45dd99c-dcdd-4690-a70a-cb27ed9875b2",
   "metadata": {},
   "source": [
    "### 2.4. Дообогащение данных"
   ]
  },
  {
   "cell_type": "markdown",
   "id": "88246ec0-e2ba-44de-a91a-af288fd47303",
   "metadata": {},
   "source": [
    "С учетом имеющихся данных дообогатим датасет следующими признаками:\n",
    "* возраст клиента на момент регистрации в программе лояльности\n",
    "* признак общего количества детей\n",
    "* обобщенный признак наличия детей\n",
    "* обобщающий семейный статус, убирающий повторяющиеся по смыслу категории\n",
    "* общая сумма покупок по основным товарным категориям\n",
    "* общее количество покупок по разным каналам\n",
    "* средний чек покупки (общая сумма / общее кол-во покупок)"
   ]
  },
  {
   "cell_type": "markdown",
   "id": "9ef6bdb9-b992-4adf-8adf-ac304ff8dceb",
   "metadata": {},
   "source": [
    "Добавим поле с возрастом клиента на момент регистрации в программе лояльности:"
   ]
  },
  {
   "cell_type": "code",
   "execution_count": 17,
   "id": "f9023cf3-e67d-4ce1-8928-318328810c4a",
   "metadata": {},
   "outputs": [],
   "source": [
    "df['registration_age'] = df['dt_customer'].dt.year - df['year_birth']"
   ]
  },
  {
   "cell_type": "markdown",
   "id": "1c5d8dc1-f3e7-4520-ab37-f30493b136da",
   "metadata": {},
   "source": [
    "Добавим поле с общим количеством детей:"
   ]
  },
  {
   "cell_type": "code",
   "execution_count": 114,
   "id": "aaa4786a-78b7-48a7-9e3b-e000448830c3",
   "metadata": {},
   "outputs": [],
   "source": [
    "df['children_total'] = df['kidhome'] + df['teenhome']"
   ]
  },
  {
   "cell_type": "markdown",
   "id": "488576fb-5241-4bff-a095-4b873f35cf83",
   "metadata": {},
   "source": [
    "Добавим поле с обобщенным признаком наличия детей 1 - дети есть, 0 - детей нет:"
   ]
  },
  {
   "cell_type": "code",
   "execution_count": 18,
   "id": "867681df-1ace-48b6-99e2-07258d366034",
   "metadata": {},
   "outputs": [],
   "source": [
    "df['is_parent'] = df.apply(lambda x: 1 if (x['kidhome'] > 0 or x['teenhome'] > 0) else 0, axis=1)"
   ]
  },
  {
   "cell_type": "markdown",
   "id": "d97fe58f-53dc-4c4c-b715-a86bf10bf2af",
   "metadata": {},
   "source": [
    "Добавим поле с обобщенным признаком семейного статуса.\n",
    "\n",
    "Создадим список статусов соответсвующих по смыслу Single:"
   ]
  },
  {
   "cell_type": "code",
   "execution_count": 19,
   "id": "66ee18ea-46b2-45b9-9508-a5e290ea2b2c",
   "metadata": {},
   "outputs": [],
   "source": [
    "single_list = ['Divorced', 'Single', 'Widow', 'Alone']"
   ]
  },
  {
   "cell_type": "markdown",
   "id": "085cd891-368b-4bc2-b492-b638a34a6a4d",
   "metadata": {},
   "source": [
    "Добавим столбец с признаком унифицирующим семейный статус:"
   ]
  },
  {
   "cell_type": "code",
   "execution_count": 20,
   "id": "9ff617b5-e4ea-41ce-9e98-198a2f300a68",
   "metadata": {},
   "outputs": [],
   "source": [
    "df['mstatus_unified'] = df.apply(lambda x: 'Single' if x['marital_status'] in single_list else x['marital_status'], axis=1)"
   ]
  },
  {
   "cell_type": "markdown",
   "id": "eb441c3f-b5f2-4e67-b62b-d5bc01fe0ace",
   "metadata": {},
   "source": [
    "Добавим поле с общей суммой покупок в основных товарных категориях (без золотой полки, т.к. сумма может задублироваться):"
   ]
  },
  {
   "cell_type": "code",
   "execution_count": 21,
   "id": "c1cdcc8f-2dce-4531-abdc-8413c89fd451",
   "metadata": {},
   "outputs": [],
   "source": [
    "df['mnt_total'] = (\n",
    "    df['mntwines'] +\n",
    "    df['mntfruits'] +\n",
    "    df['mntmeatproducts'] + \n",
    "    df['mntfishproducts'] +\n",
    "    df['mntsweetproducts']\n",
    ")"
   ]
  },
  {
   "cell_type": "markdown",
   "id": "929f6fa0-6138-469b-89d4-67c76a8f9bbe",
   "metadata": {},
   "source": [
    "Добавим поле с общим количеством покупок (без покупок по скидке, чтобы не было задвоения по каналам):"
   ]
  },
  {
   "cell_type": "code",
   "execution_count": 22,
   "id": "79a34e41-83ba-4817-bdef-811bddbef73f",
   "metadata": {},
   "outputs": [],
   "source": [
    "df['total_purchases'] = (\n",
    "    df['numwebpurchases'] +\n",
    "    df['numcatalogpurchases'] +\n",
    "    df['numstorepurchases']\n",
    ")"
   ]
  },
  {
   "cell_type": "markdown",
   "id": "af9ea31f-2d5b-4926-869f-7288cf0879d7",
   "metadata": {},
   "source": [
    "Добавим поле со средним чеком покупки:"
   ]
  },
  {
   "cell_type": "code",
   "execution_count": 107,
   "id": "d8772abd-33a2-4184-bd6b-ec0b14bc5b70",
   "metadata": {},
   "outputs": [],
   "source": [
    "df['avg_check'] = np.where(df['total_purchases'] != 0, \n",
    "                        df['mnt_total'] / df['total_purchases'], \n",
    "                        0)"
   ]
  },
  {
   "cell_type": "markdown",
   "id": "18a63a9f-617e-441f-a8b3-bf99a798cd7d",
   "metadata": {},
   "source": [
    "Проверим полученный результат:"
   ]
  },
  {
   "cell_type": "code",
   "execution_count": 108,
   "id": "a602e1d3-9759-4afc-9668-a90b788d8703",
   "metadata": {},
   "outputs": [
    {
     "data": {
      "text/html": [
       "<div>\n",
       "<style scoped>\n",
       "    .dataframe tbody tr th:only-of-type {\n",
       "        vertical-align: middle;\n",
       "    }\n",
       "\n",
       "    .dataframe tbody tr th {\n",
       "        vertical-align: top;\n",
       "    }\n",
       "\n",
       "    .dataframe thead th {\n",
       "        text-align: right;\n",
       "    }\n",
       "</style>\n",
       "<table border=\"1\" class=\"dataframe\">\n",
       "  <thead>\n",
       "    <tr style=\"text-align: right;\">\n",
       "      <th></th>\n",
       "      <th>year_birth</th>\n",
       "      <th>education</th>\n",
       "      <th>marital_status</th>\n",
       "      <th>income</th>\n",
       "      <th>kidhome</th>\n",
       "      <th>teenhome</th>\n",
       "      <th>dt_customer</th>\n",
       "      <th>recency</th>\n",
       "      <th>mntwines</th>\n",
       "      <th>mntfruits</th>\n",
       "      <th>mntmeatproducts</th>\n",
       "      <th>mntfishproducts</th>\n",
       "      <th>mntsweetproducts</th>\n",
       "      <th>mntgoldprods</th>\n",
       "      <th>numdealspurchases</th>\n",
       "      <th>numwebpurchases</th>\n",
       "      <th>numcatalogpurchases</th>\n",
       "      <th>numstorepurchases</th>\n",
       "      <th>numwebvisitsmonth</th>\n",
       "      <th>response</th>\n",
       "      <th>complain</th>\n",
       "      <th>registration_age</th>\n",
       "      <th>is_parent</th>\n",
       "      <th>mstatus_unified</th>\n",
       "      <th>mnt_total</th>\n",
       "      <th>total_purchases</th>\n",
       "      <th>avg_check</th>\n",
       "    </tr>\n",
       "  </thead>\n",
       "  <tbody>\n",
       "    <tr>\n",
       "      <th>0</th>\n",
       "      <td>1970</td>\n",
       "      <td>Graduation</td>\n",
       "      <td>Divorced</td>\n",
       "      <td>84835.0</td>\n",
       "      <td>0</td>\n",
       "      <td>0</td>\n",
       "      <td>2014-06-16</td>\n",
       "      <td>0</td>\n",
       "      <td>189</td>\n",
       "      <td>104</td>\n",
       "      <td>379</td>\n",
       "      <td>111</td>\n",
       "      <td>189</td>\n",
       "      <td>218</td>\n",
       "      <td>1</td>\n",
       "      <td>4</td>\n",
       "      <td>4</td>\n",
       "      <td>6</td>\n",
       "      <td>1</td>\n",
       "      <td>1</td>\n",
       "      <td>0</td>\n",
       "      <td>44</td>\n",
       "      <td>0</td>\n",
       "      <td>Single</td>\n",
       "      <td>972</td>\n",
       "      <td>14</td>\n",
       "      <td>69.428571</td>\n",
       "    </tr>\n",
       "    <tr>\n",
       "      <th>1</th>\n",
       "      <td>1961</td>\n",
       "      <td>Graduation</td>\n",
       "      <td>Single</td>\n",
       "      <td>57091.0</td>\n",
       "      <td>0</td>\n",
       "      <td>0</td>\n",
       "      <td>2014-06-15</td>\n",
       "      <td>0</td>\n",
       "      <td>464</td>\n",
       "      <td>5</td>\n",
       "      <td>64</td>\n",
       "      <td>7</td>\n",
       "      <td>0</td>\n",
       "      <td>37</td>\n",
       "      <td>1</td>\n",
       "      <td>7</td>\n",
       "      <td>3</td>\n",
       "      <td>7</td>\n",
       "      <td>5</td>\n",
       "      <td>1</td>\n",
       "      <td>0</td>\n",
       "      <td>53</td>\n",
       "      <td>0</td>\n",
       "      <td>Single</td>\n",
       "      <td>540</td>\n",
       "      <td>17</td>\n",
       "      <td>31.764706</td>\n",
       "    </tr>\n",
       "    <tr>\n",
       "      <th>2</th>\n",
       "      <td>1958</td>\n",
       "      <td>Graduation</td>\n",
       "      <td>Married</td>\n",
       "      <td>67267.0</td>\n",
       "      <td>0</td>\n",
       "      <td>1</td>\n",
       "      <td>2014-05-13</td>\n",
       "      <td>0</td>\n",
       "      <td>134</td>\n",
       "      <td>11</td>\n",
       "      <td>59</td>\n",
       "      <td>15</td>\n",
       "      <td>2</td>\n",
       "      <td>30</td>\n",
       "      <td>1</td>\n",
       "      <td>3</td>\n",
       "      <td>2</td>\n",
       "      <td>5</td>\n",
       "      <td>2</td>\n",
       "      <td>0</td>\n",
       "      <td>0</td>\n",
       "      <td>56</td>\n",
       "      <td>1</td>\n",
       "      <td>Married</td>\n",
       "      <td>221</td>\n",
       "      <td>10</td>\n",
       "      <td>22.100000</td>\n",
       "    </tr>\n",
       "    <tr>\n",
       "      <th>3</th>\n",
       "      <td>1967</td>\n",
       "      <td>Graduation</td>\n",
       "      <td>Together</td>\n",
       "      <td>32474.0</td>\n",
       "      <td>1</td>\n",
       "      <td>1</td>\n",
       "      <td>2014-11-05</td>\n",
       "      <td>0</td>\n",
       "      <td>10</td>\n",
       "      <td>0</td>\n",
       "      <td>1</td>\n",
       "      <td>0</td>\n",
       "      <td>0</td>\n",
       "      <td>0</td>\n",
       "      <td>1</td>\n",
       "      <td>1</td>\n",
       "      <td>0</td>\n",
       "      <td>2</td>\n",
       "      <td>7</td>\n",
       "      <td>0</td>\n",
       "      <td>0</td>\n",
       "      <td>47</td>\n",
       "      <td>1</td>\n",
       "      <td>Together</td>\n",
       "      <td>11</td>\n",
       "      <td>3</td>\n",
       "      <td>3.666667</td>\n",
       "    </tr>\n",
       "    <tr>\n",
       "      <th>4</th>\n",
       "      <td>1989</td>\n",
       "      <td>Graduation</td>\n",
       "      <td>Single</td>\n",
       "      <td>21474.0</td>\n",
       "      <td>1</td>\n",
       "      <td>0</td>\n",
       "      <td>2014-08-04</td>\n",
       "      <td>0</td>\n",
       "      <td>6</td>\n",
       "      <td>16</td>\n",
       "      <td>24</td>\n",
       "      <td>11</td>\n",
       "      <td>0</td>\n",
       "      <td>34</td>\n",
       "      <td>2</td>\n",
       "      <td>3</td>\n",
       "      <td>1</td>\n",
       "      <td>2</td>\n",
       "      <td>7</td>\n",
       "      <td>1</td>\n",
       "      <td>0</td>\n",
       "      <td>25</td>\n",
       "      <td>1</td>\n",
       "      <td>Single</td>\n",
       "      <td>57</td>\n",
       "      <td>6</td>\n",
       "      <td>9.500000</td>\n",
       "    </tr>\n",
       "  </tbody>\n",
       "</table>\n",
       "</div>"
      ],
      "text/plain": [
       "   year_birth   education marital_status   income  kidhome  teenhome  \\\n",
       "0        1970  Graduation       Divorced  84835.0        0         0   \n",
       "1        1961  Graduation         Single  57091.0        0         0   \n",
       "2        1958  Graduation        Married  67267.0        0         1   \n",
       "3        1967  Graduation       Together  32474.0        1         1   \n",
       "4        1989  Graduation         Single  21474.0        1         0   \n",
       "\n",
       "  dt_customer  recency  mntwines  mntfruits  mntmeatproducts  mntfishproducts  \\\n",
       "0  2014-06-16        0       189        104              379              111   \n",
       "1  2014-06-15        0       464          5               64                7   \n",
       "2  2014-05-13        0       134         11               59               15   \n",
       "3  2014-11-05        0        10          0                1                0   \n",
       "4  2014-08-04        0         6         16               24               11   \n",
       "\n",
       "   mntsweetproducts  mntgoldprods  numdealspurchases  numwebpurchases  \\\n",
       "0               189           218                  1                4   \n",
       "1                 0            37                  1                7   \n",
       "2                 2            30                  1                3   \n",
       "3                 0             0                  1                1   \n",
       "4                 0            34                  2                3   \n",
       "\n",
       "   numcatalogpurchases  numstorepurchases  numwebvisitsmonth  response  \\\n",
       "0                    4                  6                  1         1   \n",
       "1                    3                  7                  5         1   \n",
       "2                    2                  5                  2         0   \n",
       "3                    0                  2                  7         0   \n",
       "4                    1                  2                  7         1   \n",
       "\n",
       "   complain  registration_age  is_parent mstatus_unified  mnt_total  \\\n",
       "0         0                44          0          Single        972   \n",
       "1         0                53          0          Single        540   \n",
       "2         0                56          1         Married        221   \n",
       "3         0                47          1        Together         11   \n",
       "4         0                25          1          Single         57   \n",
       "\n",
       "   total_purchases  avg_check  \n",
       "0               14  69.428571  \n",
       "1               17  31.764706  \n",
       "2               10  22.100000  \n",
       "3                3   3.666667  \n",
       "4                6   9.500000  "
      ]
     },
     "execution_count": 108,
     "metadata": {},
     "output_type": "execute_result"
    }
   ],
   "source": [
    "df.head()"
   ]
  },
  {
   "cell_type": "markdown",
   "id": "33479562-8829-4b72-b8e0-e69d649ed116",
   "metadata": {},
   "source": [
    "Все 6 новых признаков добавлены.\n",
    "\n",
    "Так как поле с идентификатором клиента не несет никакой смысловой нагрузки, мы его удалим из очищенного датасета:"
   ]
  },
  {
   "cell_type": "code",
   "execution_count": 25,
   "id": "3ae80963-46f8-45be-aff1-ac337324f948",
   "metadata": {},
   "outputs": [],
   "source": [
    "df = df.drop(columns='id')"
   ]
  },
  {
   "cell_type": "markdown",
   "id": "62b84d7d-cc1e-4cfb-834d-3af3ce5588e1",
   "metadata": {},
   "source": [
    "### 2.5. Выводы по предобработке данных"
   ]
  },
  {
   "cell_type": "markdown",
   "id": "bcedd077-b376-4aff-a2dd-b807d8ad2dcf",
   "metadata": {},
   "source": [
    "В результате выполненной предобработки:\n",
    "* Поле `dt_customer` приведено к типу даты\n",
    "* Удалено 24 записи с пропусками по полю income\n",
    "* Удален 201 дубликат, обнаружена ошибка с задвоенными записями и разными идентификаторами пользователей, что могло быть связано с технической ошибкой при сборе данных или при регистрации клиентов.\n",
    "* Объем данных сократился на 10% (умеренные потери)\n",
    "* Добавлены шесть новых признаков:\n",
    "    * `registration_age` - возраст клиента на момент регистрации в программе лояльности\n",
    "    * `is_parent` - обобщенный признак наличия детей\n",
    "    * `mstatus_unified` - обобщающий семейный статус, убирающий повторяющиеся по смыслу категории\n",
    "    * `mnt_total` - общая сумма покупок по основным товарным категориям\n",
    "    * `total_purchases` - общее количество покупок по разным каналам\n",
    "    * `avg_check` - средний чек покупки (общая сумма / общее кол-во покупок)"
   ]
  },
  {
   "cell_type": "markdown",
   "id": "3ae066e8-fa37-40b9-80d5-94673e366341",
   "metadata": {},
   "source": [
    "## 3. Исследовательский анализ данных"
   ]
  },
  {
   "cell_type": "markdown",
   "id": "dc0ac109-8978-44a5-9413-504abf14c305",
   "metadata": {},
   "source": [
    "Для переиспользования повторяющегося кода напишем функцию для выода описательной статистики и инфографики при проведении исследовательского анализа данных."
   ]
  },
  {
   "cell_type": "markdown",
   "id": "1d89ae50-30a0-496c-a808-f0c01d2f987b",
   "metadata": {},
   "source": [
    "Напишем функцию для описания категориальных признаков:"
   ]
  },
  {
   "cell_type": "code",
   "execution_count": 127,
   "id": "addeb909-3b35-4e3d-9e50-3ac6956110c7",
   "metadata": {},
   "outputs": [],
   "source": [
    "def describe_feature(feature, data=df, kind='numeric', discrete=True, bins=50):\n",
    "    '''\n",
    "    Функция предназначена для формирования описательной статистики данных\n",
    "    Принимает на вход:\n",
    "        - feature - название колонки,\n",
    "        - data - наименование датасета, в котором находится feature. По умолчанию - df\n",
    "        - kind - тип данных (numeric - численные (по умолчанию), categorical - категориальные\n",
    "        - discrete - дискретность данных (для численных признаков) - по умолчанию True\n",
    "    Возвращает стобчатую диаграмму с распределением признаков, а также общую статистику по полю:\n",
    "        - Среднее\n",
    "        - Медиана\n",
    "        - Минимум и максимум\n",
    "        - Уникальные значения\n",
    "    '''\n",
    "    # Формируем описание для численных данных\n",
    "    if kind=='numeric':\n",
    "        # Визуализация для дискретных данных\n",
    "        if discrete:\n",
    "            fig = go.Figure(data=[go.Bar(x=data[feature].value_counts().index,\n",
    "                                         y=data[feature].value_counts().values)])\n",
    "            \n",
    "            # Настройка заголовка и меток осей\n",
    "            fig.update_layout(\n",
    "                title=f'Распределение значений по полю {feature}',\n",
    "                xaxis_title='Значение',\n",
    "                yaxis_title='Количество',\n",
    "                width=400,  # Ширина графика в пикселях\n",
    "                height=350  # Высота графика в пикселях\n",
    "                )\n",
    "            fig.show()\n",
    "\n",
    "            print(feature)\n",
    "            print(20*'=')\n",
    "            print(f'Среднее: {data[feature].mean():.3f}')\n",
    "            print(f'Min: {data[feature].min():.3f}')\n",
    "            print(f'Max: {data[feature].max():.3f}')\n",
    "            print('Уникальные значения:')\n",
    "            print(data[feature].unique())\n",
    "            print(20*'=')\n",
    "\n",
    "        # Визуализация распределения для численных непрерывных данных\n",
    "        else:\n",
    "            fig = make_subplots(rows=1, cols=2, \n",
    "            subplot_titles=(f'Диаграмма размаха {feature}', f'Гистограмма распределения {feature}'))\n",
    "    \n",
    "            fig.add_trace(go.Box(x=data[feature], name='Диаграмма размаха'), row=1, col=1)\n",
    "    \n",
    "            fig.add_trace(go.Histogram(x=data[feature], \n",
    "                                 nbinsx=bins,\n",
    "                                 histnorm='probability density',\n",
    "                                 opacity=0.75, \n",
    "                                 name='Гистограмма распределения'), row=1, col=2)\n",
    "    \n",
    "            fig.show()\n",
    "\n",
    "            print(feature)\n",
    "            print(20*'=')\n",
    "            print(f'Среднее: {data[feature].mean():.3f}')\n",
    "            print(f'Медиана: {data[feature].median():.3f}')\n",
    "            print(f'Ст. откл-е: {data[feature].std():.3f}')\n",
    "            print(f'Min: {data[feature].min():.3f}')\n",
    "            print(f'Max: {data[feature].max():.3f}')\n",
    "            print(20*'=')\n",
    "    \n",
    "\n",
    "    \n",
    "    # Формируем описание для категориальных нечисловых данных\n",
    "    if kind=='categorical':\n",
    "        # Визуализация\n",
    "        fig = go.Figure(data=[go.Bar(x=data[feature].value_counts().index,\n",
    "                                     y=data[feature].value_counts().values)])\n",
    "        \n",
    "        # Настройка заголовка и меток осей\n",
    "        fig.update_layout(\n",
    "            title=f'Распределение значений по полю {feature}',\n",
    "            xaxis_title='Значение',\n",
    "            yaxis_title='Количество',\n",
    "            width=400,  # Ширина графика в пикселях\n",
    "            height=350  # Высота графика в пикселях\n",
    "            )\n",
    "        # Отображение графика\n",
    "        fig.show()\n",
    "        \n",
    "        print(feature)\n",
    "        print(20*'=')\n",
    "        print('Уникальные значения:')\n",
    "        print(data[feature].unique())\n",
    "        print(20*'=')"
   ]
  },
  {
   "cell_type": "markdown",
   "id": "eeee2fd9-dc54-43af-95e6-75d1b3b8c058",
   "metadata": {},
   "source": [
    "### 3.1. Описательная статистика данных"
   ]
  },
  {
   "cell_type": "markdown",
   "id": "f853513f-7883-4ac6-8d21-3cf585208be4",
   "metadata": {},
   "source": [
    "### 3.1.1. Признак `response`"
   ]
  },
  {
   "cell_type": "markdown",
   "id": "4061efff-981e-40fa-a4bf-3632af6042f5",
   "metadata": {},
   "source": [
    "Выведем описательную статистику призназа `response`:"
   ]
  },
  {
   "cell_type": "code",
   "execution_count": 64,
   "id": "43e650b6-a09d-46ca-a83c-e55a991bd09d",
   "metadata": {},
   "outputs": [
    {
     "data": {
      "application/vnd.plotly.v1+json": {
       "config": {
        "plotlyServerURL": "https://plot.ly"
       },
       "data": [
        {
         "type": "bar",
         "x": {
          "bdata": "AAE=",
          "dtype": "i1"
         },
         "y": {
          "bdata": "rgYuAQ==",
          "dtype": "i2"
         }
        }
       ],
       "layout": {
        "height": 350,
        "template": {
         "data": {
          "bar": [
           {
            "error_x": {
             "color": "#2a3f5f"
            },
            "error_y": {
             "color": "#2a3f5f"
            },
            "marker": {
             "line": {
              "color": "#E5ECF6",
              "width": 0.5
             },
             "pattern": {
              "fillmode": "overlay",
              "size": 10,
              "solidity": 0.2
             }
            },
            "type": "bar"
           }
          ],
          "barpolar": [
           {
            "marker": {
             "line": {
              "color": "#E5ECF6",
              "width": 0.5
             },
             "pattern": {
              "fillmode": "overlay",
              "size": 10,
              "solidity": 0.2
             }
            },
            "type": "barpolar"
           }
          ],
          "carpet": [
           {
            "aaxis": {
             "endlinecolor": "#2a3f5f",
             "gridcolor": "white",
             "linecolor": "white",
             "minorgridcolor": "white",
             "startlinecolor": "#2a3f5f"
            },
            "baxis": {
             "endlinecolor": "#2a3f5f",
             "gridcolor": "white",
             "linecolor": "white",
             "minorgridcolor": "white",
             "startlinecolor": "#2a3f5f"
            },
            "type": "carpet"
           }
          ],
          "choropleth": [
           {
            "colorbar": {
             "outlinewidth": 0,
             "ticks": ""
            },
            "type": "choropleth"
           }
          ],
          "contour": [
           {
            "colorbar": {
             "outlinewidth": 0,
             "ticks": ""
            },
            "colorscale": [
             [
              0,
              "#0d0887"
             ],
             [
              0.1111111111111111,
              "#46039f"
             ],
             [
              0.2222222222222222,
              "#7201a8"
             ],
             [
              0.3333333333333333,
              "#9c179e"
             ],
             [
              0.4444444444444444,
              "#bd3786"
             ],
             [
              0.5555555555555556,
              "#d8576b"
             ],
             [
              0.6666666666666666,
              "#ed7953"
             ],
             [
              0.7777777777777778,
              "#fb9f3a"
             ],
             [
              0.8888888888888888,
              "#fdca26"
             ],
             [
              1,
              "#f0f921"
             ]
            ],
            "type": "contour"
           }
          ],
          "contourcarpet": [
           {
            "colorbar": {
             "outlinewidth": 0,
             "ticks": ""
            },
            "type": "contourcarpet"
           }
          ],
          "heatmap": [
           {
            "colorbar": {
             "outlinewidth": 0,
             "ticks": ""
            },
            "colorscale": [
             [
              0,
              "#0d0887"
             ],
             [
              0.1111111111111111,
              "#46039f"
             ],
             [
              0.2222222222222222,
              "#7201a8"
             ],
             [
              0.3333333333333333,
              "#9c179e"
             ],
             [
              0.4444444444444444,
              "#bd3786"
             ],
             [
              0.5555555555555556,
              "#d8576b"
             ],
             [
              0.6666666666666666,
              "#ed7953"
             ],
             [
              0.7777777777777778,
              "#fb9f3a"
             ],
             [
              0.8888888888888888,
              "#fdca26"
             ],
             [
              1,
              "#f0f921"
             ]
            ],
            "type": "heatmap"
           }
          ],
          "histogram": [
           {
            "marker": {
             "pattern": {
              "fillmode": "overlay",
              "size": 10,
              "solidity": 0.2
             }
            },
            "type": "histogram"
           }
          ],
          "histogram2d": [
           {
            "colorbar": {
             "outlinewidth": 0,
             "ticks": ""
            },
            "colorscale": [
             [
              0,
              "#0d0887"
             ],
             [
              0.1111111111111111,
              "#46039f"
             ],
             [
              0.2222222222222222,
              "#7201a8"
             ],
             [
              0.3333333333333333,
              "#9c179e"
             ],
             [
              0.4444444444444444,
              "#bd3786"
             ],
             [
              0.5555555555555556,
              "#d8576b"
             ],
             [
              0.6666666666666666,
              "#ed7953"
             ],
             [
              0.7777777777777778,
              "#fb9f3a"
             ],
             [
              0.8888888888888888,
              "#fdca26"
             ],
             [
              1,
              "#f0f921"
             ]
            ],
            "type": "histogram2d"
           }
          ],
          "histogram2dcontour": [
           {
            "colorbar": {
             "outlinewidth": 0,
             "ticks": ""
            },
            "colorscale": [
             [
              0,
              "#0d0887"
             ],
             [
              0.1111111111111111,
              "#46039f"
             ],
             [
              0.2222222222222222,
              "#7201a8"
             ],
             [
              0.3333333333333333,
              "#9c179e"
             ],
             [
              0.4444444444444444,
              "#bd3786"
             ],
             [
              0.5555555555555556,
              "#d8576b"
             ],
             [
              0.6666666666666666,
              "#ed7953"
             ],
             [
              0.7777777777777778,
              "#fb9f3a"
             ],
             [
              0.8888888888888888,
              "#fdca26"
             ],
             [
              1,
              "#f0f921"
             ]
            ],
            "type": "histogram2dcontour"
           }
          ],
          "mesh3d": [
           {
            "colorbar": {
             "outlinewidth": 0,
             "ticks": ""
            },
            "type": "mesh3d"
           }
          ],
          "parcoords": [
           {
            "line": {
             "colorbar": {
              "outlinewidth": 0,
              "ticks": ""
             }
            },
            "type": "parcoords"
           }
          ],
          "pie": [
           {
            "automargin": true,
            "type": "pie"
           }
          ],
          "scatter": [
           {
            "fillpattern": {
             "fillmode": "overlay",
             "size": 10,
             "solidity": 0.2
            },
            "type": "scatter"
           }
          ],
          "scatter3d": [
           {
            "line": {
             "colorbar": {
              "outlinewidth": 0,
              "ticks": ""
             }
            },
            "marker": {
             "colorbar": {
              "outlinewidth": 0,
              "ticks": ""
             }
            },
            "type": "scatter3d"
           }
          ],
          "scattercarpet": [
           {
            "marker": {
             "colorbar": {
              "outlinewidth": 0,
              "ticks": ""
             }
            },
            "type": "scattercarpet"
           }
          ],
          "scattergeo": [
           {
            "marker": {
             "colorbar": {
              "outlinewidth": 0,
              "ticks": ""
             }
            },
            "type": "scattergeo"
           }
          ],
          "scattergl": [
           {
            "marker": {
             "colorbar": {
              "outlinewidth": 0,
              "ticks": ""
             }
            },
            "type": "scattergl"
           }
          ],
          "scattermap": [
           {
            "marker": {
             "colorbar": {
              "outlinewidth": 0,
              "ticks": ""
             }
            },
            "type": "scattermap"
           }
          ],
          "scattermapbox": [
           {
            "marker": {
             "colorbar": {
              "outlinewidth": 0,
              "ticks": ""
             }
            },
            "type": "scattermapbox"
           }
          ],
          "scatterpolar": [
           {
            "marker": {
             "colorbar": {
              "outlinewidth": 0,
              "ticks": ""
             }
            },
            "type": "scatterpolar"
           }
          ],
          "scatterpolargl": [
           {
            "marker": {
             "colorbar": {
              "outlinewidth": 0,
              "ticks": ""
             }
            },
            "type": "scatterpolargl"
           }
          ],
          "scatterternary": [
           {
            "marker": {
             "colorbar": {
              "outlinewidth": 0,
              "ticks": ""
             }
            },
            "type": "scatterternary"
           }
          ],
          "surface": [
           {
            "colorbar": {
             "outlinewidth": 0,
             "ticks": ""
            },
            "colorscale": [
             [
              0,
              "#0d0887"
             ],
             [
              0.1111111111111111,
              "#46039f"
             ],
             [
              0.2222222222222222,
              "#7201a8"
             ],
             [
              0.3333333333333333,
              "#9c179e"
             ],
             [
              0.4444444444444444,
              "#bd3786"
             ],
             [
              0.5555555555555556,
              "#d8576b"
             ],
             [
              0.6666666666666666,
              "#ed7953"
             ],
             [
              0.7777777777777778,
              "#fb9f3a"
             ],
             [
              0.8888888888888888,
              "#fdca26"
             ],
             [
              1,
              "#f0f921"
             ]
            ],
            "type": "surface"
           }
          ],
          "table": [
           {
            "cells": {
             "fill": {
              "color": "#EBF0F8"
             },
             "line": {
              "color": "white"
             }
            },
            "header": {
             "fill": {
              "color": "#C8D4E3"
             },
             "line": {
              "color": "white"
             }
            },
            "type": "table"
           }
          ]
         },
         "layout": {
          "annotationdefaults": {
           "arrowcolor": "#2a3f5f",
           "arrowhead": 0,
           "arrowwidth": 1
          },
          "autotypenumbers": "strict",
          "coloraxis": {
           "colorbar": {
            "outlinewidth": 0,
            "ticks": ""
           }
          },
          "colorscale": {
           "diverging": [
            [
             0,
             "#8e0152"
            ],
            [
             0.1,
             "#c51b7d"
            ],
            [
             0.2,
             "#de77ae"
            ],
            [
             0.3,
             "#f1b6da"
            ],
            [
             0.4,
             "#fde0ef"
            ],
            [
             0.5,
             "#f7f7f7"
            ],
            [
             0.6,
             "#e6f5d0"
            ],
            [
             0.7,
             "#b8e186"
            ],
            [
             0.8,
             "#7fbc41"
            ],
            [
             0.9,
             "#4d9221"
            ],
            [
             1,
             "#276419"
            ]
           ],
           "sequential": [
            [
             0,
             "#0d0887"
            ],
            [
             0.1111111111111111,
             "#46039f"
            ],
            [
             0.2222222222222222,
             "#7201a8"
            ],
            [
             0.3333333333333333,
             "#9c179e"
            ],
            [
             0.4444444444444444,
             "#bd3786"
            ],
            [
             0.5555555555555556,
             "#d8576b"
            ],
            [
             0.6666666666666666,
             "#ed7953"
            ],
            [
             0.7777777777777778,
             "#fb9f3a"
            ],
            [
             0.8888888888888888,
             "#fdca26"
            ],
            [
             1,
             "#f0f921"
            ]
           ],
           "sequentialminus": [
            [
             0,
             "#0d0887"
            ],
            [
             0.1111111111111111,
             "#46039f"
            ],
            [
             0.2222222222222222,
             "#7201a8"
            ],
            [
             0.3333333333333333,
             "#9c179e"
            ],
            [
             0.4444444444444444,
             "#bd3786"
            ],
            [
             0.5555555555555556,
             "#d8576b"
            ],
            [
             0.6666666666666666,
             "#ed7953"
            ],
            [
             0.7777777777777778,
             "#fb9f3a"
            ],
            [
             0.8888888888888888,
             "#fdca26"
            ],
            [
             1,
             "#f0f921"
            ]
           ]
          },
          "colorway": [
           "#636efa",
           "#EF553B",
           "#00cc96",
           "#ab63fa",
           "#FFA15A",
           "#19d3f3",
           "#FF6692",
           "#B6E880",
           "#FF97FF",
           "#FECB52"
          ],
          "font": {
           "color": "#2a3f5f"
          },
          "geo": {
           "bgcolor": "white",
           "lakecolor": "white",
           "landcolor": "#E5ECF6",
           "showlakes": true,
           "showland": true,
           "subunitcolor": "white"
          },
          "hoverlabel": {
           "align": "left"
          },
          "hovermode": "closest",
          "mapbox": {
           "style": "light"
          },
          "paper_bgcolor": "white",
          "plot_bgcolor": "#E5ECF6",
          "polar": {
           "angularaxis": {
            "gridcolor": "white",
            "linecolor": "white",
            "ticks": ""
           },
           "bgcolor": "#E5ECF6",
           "radialaxis": {
            "gridcolor": "white",
            "linecolor": "white",
            "ticks": ""
           }
          },
          "scene": {
           "xaxis": {
            "backgroundcolor": "#E5ECF6",
            "gridcolor": "white",
            "gridwidth": 2,
            "linecolor": "white",
            "showbackground": true,
            "ticks": "",
            "zerolinecolor": "white"
           },
           "yaxis": {
            "backgroundcolor": "#E5ECF6",
            "gridcolor": "white",
            "gridwidth": 2,
            "linecolor": "white",
            "showbackground": true,
            "ticks": "",
            "zerolinecolor": "white"
           },
           "zaxis": {
            "backgroundcolor": "#E5ECF6",
            "gridcolor": "white",
            "gridwidth": 2,
            "linecolor": "white",
            "showbackground": true,
            "ticks": "",
            "zerolinecolor": "white"
           }
          },
          "shapedefaults": {
           "line": {
            "color": "#2a3f5f"
           }
          },
          "ternary": {
           "aaxis": {
            "gridcolor": "white",
            "linecolor": "white",
            "ticks": ""
           },
           "baxis": {
            "gridcolor": "white",
            "linecolor": "white",
            "ticks": ""
           },
           "bgcolor": "#E5ECF6",
           "caxis": {
            "gridcolor": "white",
            "linecolor": "white",
            "ticks": ""
           }
          },
          "title": {
           "x": 0.05
          },
          "xaxis": {
           "automargin": true,
           "gridcolor": "white",
           "linecolor": "white",
           "ticks": "",
           "title": {
            "standoff": 15
           },
           "zerolinecolor": "white",
           "zerolinewidth": 2
          },
          "yaxis": {
           "automargin": true,
           "gridcolor": "white",
           "linecolor": "white",
           "ticks": "",
           "title": {
            "standoff": 15
           },
           "zerolinecolor": "white",
           "zerolinewidth": 2
          }
         }
        },
        "title": {
         "text": "Распределение значений по полю response"
        },
        "width": 400,
        "xaxis": {
         "title": {
          "text": "Значение"
         }
        },
        "yaxis": {
         "title": {
          "text": "Количество"
         }
        }
       }
      },
      "image/png": "[encoded data removed]"
     },
     "metadata": {},
     "output_type": "display_data"
    },
    {
     "name": "stdout",
     "output_type": "stream",
     "text": [
      "response\n",
      "====================\n",
      "Среднее: 0.150\n",
      "Медиана: 0.000\n",
      "Min: 0.000\n",
      "Max: 1.000\n",
      "Уникальные значения:\n",
      "[1 0]\n",
      "====================\n"
     ]
    }
   ],
   "source": [
    "describe_feature('response')"
   ]
  },
  {
   "cell_type": "markdown",
   "id": "e0fd9a73-aa02-43e3-8284-1331603da22c",
   "metadata": {},
   "source": [
    "`response` - категориальный бинарный признак, указывающий принял ли клиент предложение о покупке - целевая переменная на основе которой предстоит предсказывать вероятность совершения покупки. Согласно полученным данным, только 15% клиентов совершили покупку при получении предложения. Также видим, что датасет не сбалансирован по целевой переменной - 85% данных принадлежит к одному классу."
   ]
  },
  {
   "cell_type": "markdown",
   "id": "59cf66c2-0488-4fb4-a53e-22240a618711",
   "metadata": {},
   "source": [
    "### 3.1.2. Признак `year_birth`"
   ]
  },
  {
   "cell_type": "markdown",
   "id": "de54797e-f63b-4d28-9022-ea75631f6fdc",
   "metadata": {},
   "source": [
    "Выведем описательную статистику призназа `year_birth`:"
   ]
  },
  {
   "cell_type": "code",
   "execution_count": 65,
   "id": "7a9b9d60-c289-4507-8325-d99630819927",
   "metadata": {},
   "outputs": [
    {
     "data": {
      "application/vnd.plotly.v1+json": {
       "config": {
        "plotlyServerURL": "https://plot.ly"
       },
       "data": [
        {
         "type": "bar",
         "x": {
          "bdata": "uAezB7cHsge0B7oHrQexB7UHtgekB6YHuQegB7sHsAenB6gHrgeiB6MHrweqB58HvAfCB74HqwelB70HrAfAB78HoQepB8EHnQeeB8MHxAfFB5wHxgebB8cHyAeaB5kHmAeXB8kHywfKB8wHlQeUBw==",
          "dtype": "i2"
         },
         "y": {
          "bdata": "UE5MR0dGQkBAPTQyMTEvLi4sLCwqKSgnJyYmJiYlJSUjIR8dGxoZGRgTEA8NDAsIBwUEBAMCAQE=",
          "dtype": "i1"
         }
        }
       ],
       "layout": {
        "height": 350,
        "template": {
         "data": {
          "bar": [
           {
            "error_x": {
             "color": "#2a3f5f"
            },
            "error_y": {
             "color": "#2a3f5f"
            },
            "marker": {
             "line": {
              "color": "#E5ECF6",
              "width": 0.5
             },
             "pattern": {
              "fillmode": "overlay",
              "size": 10,
              "solidity": 0.2
             }
            },
            "type": "bar"
           }
          ],
          "barpolar": [
           {
            "marker": {
             "line": {
              "color": "#E5ECF6",
              "width": 0.5
             },
             "pattern": {
              "fillmode": "overlay",
              "size": 10,
              "solidity": 0.2
             }
            },
            "type": "barpolar"
           }
          ],
          "carpet": [
           {
            "aaxis": {
             "endlinecolor": "#2a3f5f",
             "gridcolor": "white",
             "linecolor": "white",
             "minorgridcolor": "white",
             "startlinecolor": "#2a3f5f"
            },
            "baxis": {
             "endlinecolor": "#2a3f5f",
             "gridcolor": "white",
             "linecolor": "white",
             "minorgridcolor": "white",
             "startlinecolor": "#2a3f5f"
            },
            "type": "carpet"
           }
          ],
          "choropleth": [
           {
            "colorbar": {
             "outlinewidth": 0,
             "ticks": ""
            },
            "type": "choropleth"
           }
          ],
          "contour": [
           {
            "colorbar": {
             "outlinewidth": 0,
             "ticks": ""
            },
            "colorscale": [
             [
              0,
              "#0d0887"
             ],
             [
              0.1111111111111111,
              "#46039f"
             ],
             [
              0.2222222222222222,
              "#7201a8"
             ],
             [
              0.3333333333333333,
              "#9c179e"
             ],
             [
              0.4444444444444444,
              "#bd3786"
             ],
             [
              0.5555555555555556,
              "#d8576b"
             ],
             [
              0.6666666666666666,
              "#ed7953"
             ],
             [
              0.7777777777777778,
              "#fb9f3a"
             ],
             [
              0.8888888888888888,
              "#fdca26"
             ],
             [
              1,
              "#f0f921"
             ]
            ],
            "type": "contour"
           }
          ],
          "contourcarpet": [
           {
            "colorbar": {
             "outlinewidth": 0,
             "ticks": ""
            },
            "type": "contourcarpet"
           }
          ],
          "heatmap": [
           {
            "colorbar": {
             "outlinewidth": 0,
             "ticks": ""
            },
            "colorscale": [
             [
              0,
              "#0d0887"
             ],
             [
              0.1111111111111111,
              "#46039f"
             ],
             [
              0.2222222222222222,
              "#7201a8"
             ],
             [
              0.3333333333333333,
              "#9c179e"
             ],
             [
              0.4444444444444444,
              "#bd3786"
             ],
             [
              0.5555555555555556,
              "#d8576b"
             ],
             [
              0.6666666666666666,
              "#ed7953"
             ],
             [
              0.7777777777777778,
              "#fb9f3a"
             ],
             [
              0.8888888888888888,
              "#fdca26"
             ],
             [
              1,
              "#f0f921"
             ]
            ],
            "type": "heatmap"
           }
          ],
          "histogram": [
           {
            "marker": {
             "pattern": {
              "fillmode": "overlay",
              "size": 10,
              "solidity": 0.2
             }
            },
            "type": "histogram"
           }
          ],
          "histogram2d": [
           {
            "colorbar": {
             "outlinewidth": 0,
             "ticks": ""
            },
            "colorscale": [
             [
              0,
              "#0d0887"
             ],
             [
              0.1111111111111111,
              "#46039f"
             ],
             [
              0.2222222222222222,
              "#7201a8"
             ],
             [
              0.3333333333333333,
              "#9c179e"
             ],
             [
              0.4444444444444444,
              "#bd3786"
             ],
             [
              0.5555555555555556,
              "#d8576b"
             ],
             [
              0.6666666666666666,
              "#ed7953"
             ],
             [
              0.7777777777777778,
              "#fb9f3a"
             ],
             [
              0.8888888888888888,
              "#fdca26"
             ],
             [
              1,
              "#f0f921"
             ]
            ],
            "type": "histogram2d"
           }
          ],
          "histogram2dcontour": [
           {
            "colorbar": {
             "outlinewidth": 0,
             "ticks": ""
            },
            "colorscale": [
             [
              0,
              "#0d0887"
             ],
             [
              0.1111111111111111,
              "#46039f"
             ],
             [
              0.2222222222222222,
              "#7201a8"
             ],
             [
              0.3333333333333333,
              "#9c179e"
             ],
             [
              0.4444444444444444,
              "#bd3786"
             ],
             [
              0.5555555555555556,
              "#d8576b"
             ],
             [
              0.6666666666666666,
              "#ed7953"
             ],
             [
              0.7777777777777778,
              "#fb9f3a"
             ],
             [
              0.8888888888888888,
              "#fdca26"
             ],
             [
              1,
              "#f0f921"
             ]
            ],
            "type": "histogram2dcontour"
           }
          ],
          "mesh3d": [
           {
            "colorbar": {
             "outlinewidth": 0,
             "ticks": ""
            },
            "type": "mesh3d"
           }
          ],
          "parcoords": [
           {
            "line": {
             "colorbar": {
              "outlinewidth": 0,
              "ticks": ""
             }
            },
            "type": "parcoords"
           }
          ],
          "pie": [
           {
            "automargin": true,
            "type": "pie"
           }
          ],
          "scatter": [
           {
            "fillpattern": {
             "fillmode": "overlay",
             "size": 10,
             "solidity": 0.2
            },
            "type": "scatter"
           }
          ],
          "scatter3d": [
           {
            "line": {
             "colorbar": {
              "outlinewidth": 0,
              "ticks": ""
             }
            },
            "marker": {
             "colorbar": {
              "outlinewidth": 0,
              "ticks": ""
             }
            },
            "type": "scatter3d"
           }
          ],
          "scattercarpet": [
           {
            "marker": {
             "colorbar": {
              "outlinewidth": 0,
              "ticks": ""
             }
            },
            "type": "scattercarpet"
           }
          ],
          "scattergeo": [
           {
            "marker": {
             "colorbar": {
              "outlinewidth": 0,
              "ticks": ""
             }
            },
            "type": "scattergeo"
           }
          ],
          "scattergl": [
           {
            "marker": {
             "colorbar": {
              "outlinewidth": 0,
              "ticks": ""
             }
            },
            "type": "scattergl"
           }
          ],
          "scattermap": [
           {
            "marker": {
             "colorbar": {
              "outlinewidth": 0,
              "ticks": ""
             }
            },
            "type": "scattermap"
           }
          ],
          "scattermapbox": [
           {
            "marker": {
             "colorbar": {
              "outlinewidth": 0,
              "ticks": ""
             }
            },
            "type": "scattermapbox"
           }
          ],
          "scatterpolar": [
           {
            "marker": {
             "colorbar": {
              "outlinewidth": 0,
              "ticks": ""
             }
            },
            "type": "scatterpolar"
           }
          ],
          "scatterpolargl": [
           {
            "marker": {
             "colorbar": {
              "outlinewidth": 0,
              "ticks": ""
             }
            },
            "type": "scatterpolargl"
           }
          ],
          "scatterternary": [
           {
            "marker": {
             "colorbar": {
              "outlinewidth": 0,
              "ticks": ""
             }
            },
            "type": "scatterternary"
           }
          ],
          "surface": [
           {
            "colorbar": {
             "outlinewidth": 0,
             "ticks": ""
            },
            "colorscale": [
             [
              0,
              "#0d0887"
             ],
             [
              0.1111111111111111,
              "#46039f"
             ],
             [
              0.2222222222222222,
              "#7201a8"
             ],
             [
              0.3333333333333333,
              "#9c179e"
             ],
             [
              0.4444444444444444,
              "#bd3786"
             ],
             [
              0.5555555555555556,
              "#d8576b"
             ],
             [
              0.6666666666666666,
              "#ed7953"
             ],
             [
              0.7777777777777778,
              "#fb9f3a"
             ],
             [
              0.8888888888888888,
              "#fdca26"
             ],
             [
              1,
              "#f0f921"
             ]
            ],
            "type": "surface"
           }
          ],
          "table": [
           {
            "cells": {
             "fill": {
              "color": "#EBF0F8"
             },
             "line": {
              "color": "white"
             }
            },
            "header": {
             "fill": {
              "color": "#C8D4E3"
             },
             "line": {
              "color": "white"
             }
            },
            "type": "table"
           }
          ]
         },
         "layout": {
          "annotationdefaults": {
           "arrowcolor": "#2a3f5f",
           "arrowhead": 0,
           "arrowwidth": 1
          },
          "autotypenumbers": "strict",
          "coloraxis": {
           "colorbar": {
            "outlinewidth": 0,
            "ticks": ""
           }
          },
          "colorscale": {
           "diverging": [
            [
             0,
             "#8e0152"
            ],
            [
             0.1,
             "#c51b7d"
            ],
            [
             0.2,
             "#de77ae"
            ],
            [
             0.3,
             "#f1b6da"
            ],
            [
             0.4,
             "#fde0ef"
            ],
            [
             0.5,
             "#f7f7f7"
            ],
            [
             0.6,
             "#e6f5d0"
            ],
            [
             0.7,
             "#b8e186"
            ],
            [
             0.8,
             "#7fbc41"
            ],
            [
             0.9,
             "#4d9221"
            ],
            [
             1,
             "#276419"
            ]
           ],
           "sequential": [
            [
             0,
             "#0d0887"
            ],
            [
             0.1111111111111111,
             "#46039f"
            ],
            [
             0.2222222222222222,
             "#7201a8"
            ],
            [
             0.3333333333333333,
             "#9c179e"
            ],
            [
             0.4444444444444444,
             "#bd3786"
            ],
            [
             0.5555555555555556,
             "#d8576b"
            ],
            [
             0.6666666666666666,
             "#ed7953"
            ],
            [
             0.7777777777777778,
             "#fb9f3a"
            ],
            [
             0.8888888888888888,
             "#fdca26"
            ],
            [
             1,
             "#f0f921"
            ]
           ],
           "sequentialminus": [
            [
             0,
             "#0d0887"
            ],
            [
             0.1111111111111111,
             "#46039f"
            ],
            [
             0.2222222222222222,
             "#7201a8"
            ],
            [
             0.3333333333333333,
             "#9c179e"
            ],
            [
             0.4444444444444444,
             "#bd3786"
            ],
            [
             0.5555555555555556,
             "#d8576b"
            ],
            [
             0.6666666666666666,
             "#ed7953"
            ],
            [
             0.7777777777777778,
             "#fb9f3a"
            ],
            [
             0.8888888888888888,
             "#fdca26"
            ],
            [
             1,
             "#f0f921"
            ]
           ]
          },
          "colorway": [
           "#636efa",
           "#EF553B",
           "#00cc96",
           "#ab63fa",
           "#FFA15A",
           "#19d3f3",
           "#FF6692",
           "#B6E880",
           "#FF97FF",
           "#FECB52"
          ],
          "font": {
           "color": "#2a3f5f"
          },
          "geo": {
           "bgcolor": "white",
           "lakecolor": "white",
           "landcolor": "#E5ECF6",
           "showlakes": true,
           "showland": true,
           "subunitcolor": "white"
          },
          "hoverlabel": {
           "align": "left"
          },
          "hovermode": "closest",
          "mapbox": {
           "style": "light"
          },
          "paper_bgcolor": "white",
          "plot_bgcolor": "#E5ECF6",
          "polar": {
           "angularaxis": {
            "gridcolor": "white",
            "linecolor": "white",
            "ticks": ""
           },
           "bgcolor": "#E5ECF6",
           "radialaxis": {
            "gridcolor": "white",
            "linecolor": "white",
            "ticks": ""
           }
          },
          "scene": {
           "xaxis": {
            "backgroundcolor": "#E5ECF6",
            "gridcolor": "white",
            "gridwidth": 2,
            "linecolor": "white",
            "showbackground": true,
            "ticks": "",
            "zerolinecolor": "white"
           },
           "yaxis": {
            "backgroundcolor": "#E5ECF6",
            "gridcolor": "white",
            "gridwidth": 2,
            "linecolor": "white",
            "showbackground": true,
            "ticks": "",
            "zerolinecolor": "white"
           },
           "zaxis": {
            "backgroundcolor": "#E5ECF6",
            "gridcolor": "white",
            "gridwidth": 2,
            "linecolor": "white",
            "showbackground": true,
            "ticks": "",
            "zerolinecolor": "white"
           }
          },
          "shapedefaults": {
           "line": {
            "color": "#2a3f5f"
           }
          },
          "ternary": {
           "aaxis": {
            "gridcolor": "white",
            "linecolor": "white",
            "ticks": ""
           },
           "baxis": {
            "gridcolor": "white",
            "linecolor": "white",
            "ticks": ""
           },
           "bgcolor": "#E5ECF6",
           "caxis": {
            "gridcolor": "white",
            "linecolor": "white",
            "ticks": ""
           }
          },
          "title": {
           "x": 0.05
          },
          "xaxis": {
           "automargin": true,
           "gridcolor": "white",
           "linecolor": "white",
           "ticks": "",
           "title": {
            "standoff": 15
           },
           "zerolinecolor": "white",
           "zerolinewidth": 2
          },
          "yaxis": {
           "automargin": true,
           "gridcolor": "white",
           "linecolor": "white",
           "ticks": "",
           "title": {
            "standoff": 15
           },
           "zerolinecolor": "white",
           "zerolinewidth": 2
          }
         }
        },
        "title": {
         "text": "Распределение значений по полю year_birth"
        },
        "width": 400,
        "xaxis": {
         "title": {
          "text": "Значение"
         }
        },
        "yaxis": {
         "title": {
          "text": "Количество"
         }
        }
       }
      },
      "image/png": "[encoded data removed]"
     },
     "metadata": {},
     "output_type": "display_data"
    },
    {
     "name": "stdout",
     "output_type": "stream",
     "text": [
      "year_birth\n",
      "====================\n",
      "Среднее: 1968.890\n",
      "Медиана: 1970.000\n",
      "Min: 1940.000\n",
      "Max: 1996.000\n",
      "Уникальные значения:\n",
      "[1970 1961 1958 1967 1989 1954 1947 1979 1959 1981 1969 1977 1960 1966\n",
      " 1976 1965 1956 1975 1971 1986 1972 1974 1990 1987 1984 1968 1955 1983\n",
      " 1973 1978 1952 1962 1964 1982 1963 1957 1980 1945 1949 1948 1953 1946\n",
      " 1985 1992 1944 1951 1988 1950 1994 1993 1991 1996 1995 1943 1941 1940]\n",
      "====================\n"
     ]
    }
   ],
   "source": [
    "describe_feature('year_birth')"
   ]
  },
  {
   "cell_type": "markdown",
   "id": "f8566e35-623b-4484-8aaf-22a914757d88",
   "metadata": {},
   "source": [
    "`year_birth` - дискретный численный признак, указывающий на год рождения клиента. Самый старший клиент родился в 1946 году, самый младший в 1996 г. Основная часть данных находится в диапозоне 1952-1980 г. На распределении видно два пика - в районе 1956 и 1970 года."
   ]
  },
  {
   "cell_type": "markdown",
   "id": "c7e45bf8-7326-4264-aa5c-5ad720fc4d6b",
   "metadata": {},
   "source": [
    "### 3.1.3. Признак `education`"
   ]
  },
  {
   "cell_type": "markdown",
   "id": "3c21a519-f06e-444c-b148-b3af596bddf2",
   "metadata": {},
   "source": [
    "Выведем описательную статистику призназа `education`:"
   ]
  },
  {
   "cell_type": "code",
   "execution_count": 71,
   "id": "4e8f49f2-fd8d-46bb-b48b-ca43922083fa",
   "metadata": {},
   "outputs": [
    {
     "data": {
      "application/vnd.plotly.v1+json": {
       "config": {
        "plotlyServerURL": "https://plot.ly"
       },
       "data": [
        {
         "type": "bar",
         "x": [
          "Graduation",
          "PhD",
          "Master",
          "2n Cycle",
          "Basic"
         ],
         "y": {
          "bdata": "9gO0AUwBtQAxAA==",
          "dtype": "i2"
         }
        }
       ],
       "layout": {
        "height": 350,
        "template": {
         "data": {
          "bar": [
           {
            "error_x": {
             "color": "#2a3f5f"
            },
            "error_y": {
             "color": "#2a3f5f"
            },
            "marker": {
             "line": {
              "color": "#E5ECF6",
              "width": 0.5
             },
             "pattern": {
              "fillmode": "overlay",
              "size": 10,
              "solidity": 0.2
             }
            },
            "type": "bar"
           }
          ],
          "barpolar": [
           {
            "marker": {
             "line": {
              "color": "#E5ECF6",
              "width": 0.5
             },
             "pattern": {
              "fillmode": "overlay",
              "size": 10,
              "solidity": 0.2
             }
            },
            "type": "barpolar"
           }
          ],
          "carpet": [
           {
            "aaxis": {
             "endlinecolor": "#2a3f5f",
             "gridcolor": "white",
             "linecolor": "white",
             "minorgridcolor": "white",
             "startlinecolor": "#2a3f5f"
            },
            "baxis": {
             "endlinecolor": "#2a3f5f",
             "gridcolor": "white",
             "linecolor": "white",
             "minorgridcolor": "white",
             "startlinecolor": "#2a3f5f"
            },
            "type": "carpet"
           }
          ],
          "choropleth": [
           {
            "colorbar": {
             "outlinewidth": 0,
             "ticks": ""
            },
            "type": "choropleth"
           }
          ],
          "contour": [
           {
            "colorbar": {
             "outlinewidth": 0,
             "ticks": ""
            },
            "colorscale": [
             [
              0,
              "#0d0887"
             ],
             [
              0.1111111111111111,
              "#46039f"
             ],
             [
              0.2222222222222222,
              "#7201a8"
             ],
             [
              0.3333333333333333,
              "#9c179e"
             ],
             [
              0.4444444444444444,
              "#bd3786"
             ],
             [
              0.5555555555555556,
              "#d8576b"
             ],
             [
              0.6666666666666666,
              "#ed7953"
             ],
             [
              0.7777777777777778,
              "#fb9f3a"
             ],
             [
              0.8888888888888888,
              "#fdca26"
             ],
             [
              1,
              "#f0f921"
             ]
            ],
            "type": "contour"
           }
          ],
          "contourcarpet": [
           {
            "colorbar": {
             "outlinewidth": 0,
             "ticks": ""
            },
            "type": "contourcarpet"
           }
          ],
          "heatmap": [
           {
            "colorbar": {
             "outlinewidth": 0,
             "ticks": ""
            },
            "colorscale": [
             [
              0,
              "#0d0887"
             ],
             [
              0.1111111111111111,
              "#46039f"
             ],
             [
              0.2222222222222222,
              "#7201a8"
             ],
             [
              0.3333333333333333,
              "#9c179e"
             ],
             [
              0.4444444444444444,
              "#bd3786"
             ],
             [
              0.5555555555555556,
              "#d8576b"
             ],
             [
              0.6666666666666666,
              "#ed7953"
             ],
             [
              0.7777777777777778,
              "#fb9f3a"
             ],
             [
              0.8888888888888888,
              "#fdca26"
             ],
             [
              1,
              "#f0f921"
             ]
            ],
            "type": "heatmap"
           }
          ],
          "histogram": [
           {
            "marker": {
             "pattern": {
              "fillmode": "overlay",
              "size": 10,
              "solidity": 0.2
             }
            },
            "type": "histogram"
           }
          ],
          "histogram2d": [
           {
            "colorbar": {
             "outlinewidth": 0,
             "ticks": ""
            },
            "colorscale": [
             [
              0,
              "#0d0887"
             ],
             [
              0.1111111111111111,
              "#46039f"
             ],
             [
              0.2222222222222222,
              "#7201a8"
             ],
             [
              0.3333333333333333,
              "#9c179e"
             ],
             [
              0.4444444444444444,
              "#bd3786"
             ],
             [
              0.5555555555555556,
              "#d8576b"
             ],
             [
              0.6666666666666666,
              "#ed7953"
             ],
             [
              0.7777777777777778,
              "#fb9f3a"
             ],
             [
              0.8888888888888888,
              "#fdca26"
             ],
             [
              1,
              "#f0f921"
             ]
            ],
            "type": "histogram2d"
           }
          ],
          "histogram2dcontour": [
           {
            "colorbar": {
             "outlinewidth": 0,
             "ticks": ""
            },
            "colorscale": [
             [
              0,
              "#0d0887"
             ],
             [
              0.1111111111111111,
              "#46039f"
             ],
             [
              0.2222222222222222,
              "#7201a8"
             ],
             [
              0.3333333333333333,
              "#9c179e"
             ],
             [
              0.4444444444444444,
              "#bd3786"
             ],
             [
              0.5555555555555556,
              "#d8576b"
             ],
             [
              0.6666666666666666,
              "#ed7953"
             ],
             [
              0.7777777777777778,
              "#fb9f3a"
             ],
             [
              0.8888888888888888,
              "#fdca26"
             ],
             [
              1,
              "#f0f921"
             ]
            ],
            "type": "histogram2dcontour"
           }
          ],
          "mesh3d": [
           {
            "colorbar": {
             "outlinewidth": 0,
             "ticks": ""
            },
            "type": "mesh3d"
           }
          ],
          "parcoords": [
           {
            "line": {
             "colorbar": {
              "outlinewidth": 0,
              "ticks": ""
             }
            },
            "type": "parcoords"
           }
          ],
          "pie": [
           {
            "automargin": true,
            "type": "pie"
           }
          ],
          "scatter": [
           {
            "fillpattern": {
             "fillmode": "overlay",
             "size": 10,
             "solidity": 0.2
            },
            "type": "scatter"
           }
          ],
          "scatter3d": [
           {
            "line": {
             "colorbar": {
              "outlinewidth": 0,
              "ticks": ""
             }
            },
            "marker": {
             "colorbar": {
              "outlinewidth": 0,
              "ticks": ""
             }
            },
            "type": "scatter3d"
           }
          ],
          "scattercarpet": [
           {
            "marker": {
             "colorbar": {
              "outlinewidth": 0,
              "ticks": ""
             }
            },
            "type": "scattercarpet"
           }
          ],
          "scattergeo": [
           {
            "marker": {
             "colorbar": {
              "outlinewidth": 0,
              "ticks": ""
             }
            },
            "type": "scattergeo"
           }
          ],
          "scattergl": [
           {
            "marker": {
             "colorbar": {
              "outlinewidth": 0,
              "ticks": ""
             }
            },
            "type": "scattergl"
           }
          ],
          "scattermap": [
           {
            "marker": {
             "colorbar": {
              "outlinewidth": 0,
              "ticks": ""
             }
            },
            "type": "scattermap"
           }
          ],
          "scattermapbox": [
           {
            "marker": {
             "colorbar": {
              "outlinewidth": 0,
              "ticks": ""
             }
            },
            "type": "scattermapbox"
           }
          ],
          "scatterpolar": [
           {
            "marker": {
             "colorbar": {
              "outlinewidth": 0,
              "ticks": ""
             }
            },
            "type": "scatterpolar"
           }
          ],
          "scatterpolargl": [
           {
            "marker": {
             "colorbar": {
              "outlinewidth": 0,
              "ticks": ""
             }
            },
            "type": "scatterpolargl"
           }
          ],
          "scatterternary": [
           {
            "marker": {
             "colorbar": {
              "outlinewidth": 0,
              "ticks": ""
             }
            },
            "type": "scatterternary"
           }
          ],
          "surface": [
           {
            "colorbar": {
             "outlinewidth": 0,
             "ticks": ""
            },
            "colorscale": [
             [
              0,
              "#0d0887"
             ],
             [
              0.1111111111111111,
              "#46039f"
             ],
             [
              0.2222222222222222,
              "#7201a8"
             ],
             [
              0.3333333333333333,
              "#9c179e"
             ],
             [
              0.4444444444444444,
              "#bd3786"
             ],
             [
              0.5555555555555556,
              "#d8576b"
             ],
             [
              0.6666666666666666,
              "#ed7953"
             ],
             [
              0.7777777777777778,
              "#fb9f3a"
             ],
             [
              0.8888888888888888,
              "#fdca26"
             ],
             [
              1,
              "#f0f921"
             ]
            ],
            "type": "surface"
           }
          ],
          "table": [
           {
            "cells": {
             "fill": {
              "color": "#EBF0F8"
             },
             "line": {
              "color": "white"
             }
            },
            "header": {
             "fill": {
              "color": "#C8D4E3"
             },
             "line": {
              "color": "white"
             }
            },
            "type": "table"
           }
          ]
         },
         "layout": {
          "annotationdefaults": {
           "arrowcolor": "#2a3f5f",
           "arrowhead": 0,
           "arrowwidth": 1
          },
          "autotypenumbers": "strict",
          "coloraxis": {
           "colorbar": {
            "outlinewidth": 0,
            "ticks": ""
           }
          },
          "colorscale": {
           "diverging": [
            [
             0,
             "#8e0152"
            ],
            [
             0.1,
             "#c51b7d"
            ],
            [
             0.2,
             "#de77ae"
            ],
            [
             0.3,
             "#f1b6da"
            ],
            [
             0.4,
             "#fde0ef"
            ],
            [
             0.5,
             "#f7f7f7"
            ],
            [
             0.6,
             "#e6f5d0"
            ],
            [
             0.7,
             "#b8e186"
            ],
            [
             0.8,
             "#7fbc41"
            ],
            [
             0.9,
             "#4d9221"
            ],
            [
             1,
             "#276419"
            ]
           ],
           "sequential": [
            [
             0,
             "#0d0887"
            ],
            [
             0.1111111111111111,
             "#46039f"
            ],
            [
             0.2222222222222222,
             "#7201a8"
            ],
            [
             0.3333333333333333,
             "#9c179e"
            ],
            [
             0.4444444444444444,
             "#bd3786"
            ],
            [
             0.5555555555555556,
             "#d8576b"
            ],
            [
             0.6666666666666666,
             "#ed7953"
            ],
            [
             0.7777777777777778,
             "#fb9f3a"
            ],
            [
             0.8888888888888888,
             "#fdca26"
            ],
            [
             1,
             "#f0f921"
            ]
           ],
           "sequentialminus": [
            [
             0,
             "#0d0887"
            ],
            [
             0.1111111111111111,
             "#46039f"
            ],
            [
             0.2222222222222222,
             "#7201a8"
            ],
            [
             0.3333333333333333,
             "#9c179e"
            ],
            [
             0.4444444444444444,
             "#bd3786"
            ],
            [
             0.5555555555555556,
             "#d8576b"
            ],
            [
             0.6666666666666666,
             "#ed7953"
            ],
            [
             0.7777777777777778,
             "#fb9f3a"
            ],
            [
             0.8888888888888888,
             "#fdca26"
            ],
            [
             1,
             "#f0f921"
            ]
           ]
          },
          "colorway": [
           "#636efa",
           "#EF553B",
           "#00cc96",
           "#ab63fa",
           "#FFA15A",
           "#19d3f3",
           "#FF6692",
           "#B6E880",
           "#FF97FF",
           "#FECB52"
          ],
          "font": {
           "color": "#2a3f5f"
          },
          "geo": {
           "bgcolor": "white",
           "lakecolor": "white",
           "landcolor": "#E5ECF6",
           "showlakes": true,
           "showland": true,
           "subunitcolor": "white"
          },
          "hoverlabel": {
           "align": "left"
          },
          "hovermode": "closest",
          "mapbox": {
           "style": "light"
          },
          "paper_bgcolor": "white",
          "plot_bgcolor": "#E5ECF6",
          "polar": {
           "angularaxis": {
            "gridcolor": "white",
            "linecolor": "white",
            "ticks": ""
           },
           "bgcolor": "#E5ECF6",
           "radialaxis": {
            "gridcolor": "white",
            "linecolor": "white",
            "ticks": ""
           }
          },
          "scene": {
           "xaxis": {
            "backgroundcolor": "#E5ECF6",
            "gridcolor": "white",
            "gridwidth": 2,
            "linecolor": "white",
            "showbackground": true,
            "ticks": "",
            "zerolinecolor": "white"
           },
           "yaxis": {
            "backgroundcolor": "#E5ECF6",
            "gridcolor": "white",
            "gridwidth": 2,
            "linecolor": "white",
            "showbackground": true,
            "ticks": "",
            "zerolinecolor": "white"
           },
           "zaxis": {
            "backgroundcolor": "#E5ECF6",
            "gridcolor": "white",
            "gridwidth": 2,
            "linecolor": "white",
            "showbackground": true,
            "ticks": "",
            "zerolinecolor": "white"
           }
          },
          "shapedefaults": {
           "line": {
            "color": "#2a3f5f"
           }
          },
          "ternary": {
           "aaxis": {
            "gridcolor": "white",
            "linecolor": "white",
            "ticks": ""
           },
           "baxis": {
            "gridcolor": "white",
            "linecolor": "white",
            "ticks": ""
           },
           "bgcolor": "#E5ECF6",
           "caxis": {
            "gridcolor": "white",
            "linecolor": "white",
            "ticks": ""
           }
          },
          "title": {
           "x": 0.05
          },
          "xaxis": {
           "automargin": true,
           "gridcolor": "white",
           "linecolor": "white",
           "ticks": "",
           "title": {
            "standoff": 15
           },
           "zerolinecolor": "white",
           "zerolinewidth": 2
          },
          "yaxis": {
           "automargin": true,
           "gridcolor": "white",
           "linecolor": "white",
           "ticks": "",
           "title": {
            "standoff": 15
           },
           "zerolinecolor": "white",
           "zerolinewidth": 2
          }
         }
        },
        "title": {
         "text": "Распределение значений по полю education"
        },
        "width": 400,
        "xaxis": {
         "title": {
          "text": "Значение"
         }
        },
        "yaxis": {
         "title": {
          "text": "Количество"
         }
        }
       }
      },
      "image/png": "[encoded data removed]"
     },
     "metadata": {},
     "output_type": "display_data"
    },
    {
     "name": "stdout",
     "output_type": "stream",
     "text": [
      "education\n",
      "====================\n",
      "Уникальные значения:\n",
      "['Graduation' 'PhD' '2n Cycle' 'Master' 'Basic']\n",
      "====================\n"
     ]
    }
   ],
   "source": [
    "describe_feature('education', kind='categorical')"
   ]
  },
  {
   "cell_type": "markdown",
   "id": "088b6fc5-6efc-438a-94d5-d91c703f520d",
   "metadata": {},
   "source": [
    "`education` - категориальный признак указывающий на уровень образования клиента. Представлен пятью уникальными категориями. Большая часть данных приходится на категорию Graduation (1014 клиентов) - выпускники средней школы или колледжа / бакалавры. Вторая по популярности категория - PhD (436 клиентов) - говорит о наличии высшей академической степени. Меньше всего клиентов с базовым уровнем образования (49)."
   ]
  },
  {
   "cell_type": "markdown",
   "id": "4918d33c-a8a6-4629-abfb-eeefa8ce6e34",
   "metadata": {},
   "source": [
    "### 3.1.4. Признак `marital_status`"
   ]
  },
  {
   "cell_type": "markdown",
   "id": "de28ba68-ec0e-414a-9f4d-2598b7f90bde",
   "metadata": {},
   "source": [
    "Выведем описательную статистику призназа `marital_status`:"
   ]
  },
  {
   "cell_type": "code",
   "execution_count": 73,
   "id": "afc250fb-5b52-4dfe-befe-d56342d804d7",
   "metadata": {},
   "outputs": [
    {
     "data": {
      "application/vnd.plotly.v1+json": {
       "config": {
        "plotlyServerURL": "https://plot.ly"
       },
       "data": [
        {
         "type": "bar",
         "x": [
          "Married",
          "Together",
          "Single",
          "Divorced",
          "Widow",
          "Alone",
          "Absurd",
          "YOLO"
         ],
         "y": {
          "bdata": "DQP9AbMB1ABFAAMAAgABAA==",
          "dtype": "i2"
         }
        }
       ],
       "layout": {
        "height": 350,
        "template": {
         "data": {
          "bar": [
           {
            "error_x": {
             "color": "#2a3f5f"
            },
            "error_y": {
             "color": "#2a3f5f"
            },
            "marker": {
             "line": {
              "color": "#E5ECF6",
              "width": 0.5
             },
             "pattern": {
              "fillmode": "overlay",
              "size": 10,
              "solidity": 0.2
             }
            },
            "type": "bar"
           }
          ],
          "barpolar": [
           {
            "marker": {
             "line": {
              "color": "#E5ECF6",
              "width": 0.5
             },
             "pattern": {
              "fillmode": "overlay",
              "size": 10,
              "solidity": 0.2
             }
            },
            "type": "barpolar"
           }
          ],
          "carpet": [
           {
            "aaxis": {
             "endlinecolor": "#2a3f5f",
             "gridcolor": "white",
             "linecolor": "white",
             "minorgridcolor": "white",
             "startlinecolor": "#2a3f5f"
            },
            "baxis": {
             "endlinecolor": "#2a3f5f",
             "gridcolor": "white",
             "linecolor": "white",
             "minorgridcolor": "white",
             "startlinecolor": "#2a3f5f"
            },
            "type": "carpet"
           }
          ],
          "choropleth": [
           {
            "colorbar": {
             "outlinewidth": 0,
             "ticks": ""
            },
            "type": "choropleth"
           }
          ],
          "contour": [
           {
            "colorbar": {
             "outlinewidth": 0,
             "ticks": ""
            },
            "colorscale": [
             [
              0,
              "#0d0887"
             ],
             [
              0.1111111111111111,
              "#46039f"
             ],
             [
              0.2222222222222222,
              "#7201a8"
             ],
             [
              0.3333333333333333,
              "#9c179e"
             ],
             [
              0.4444444444444444,
              "#bd3786"
             ],
             [
              0.5555555555555556,
              "#d8576b"
             ],
             [
              0.6666666666666666,
              "#ed7953"
             ],
             [
              0.7777777777777778,
              "#fb9f3a"
             ],
             [
              0.8888888888888888,
              "#fdca26"
             ],
             [
              1,
              "#f0f921"
             ]
            ],
            "type": "contour"
           }
          ],
          "contourcarpet": [
           {
            "colorbar": {
             "outlinewidth": 0,
             "ticks": ""
            },
            "type": "contourcarpet"
           }
          ],
          "heatmap": [
           {
            "colorbar": {
             "outlinewidth": 0,
             "ticks": ""
            },
            "colorscale": [
             [
              0,
              "#0d0887"
             ],
             [
              0.1111111111111111,
              "#46039f"
             ],
             [
              0.2222222222222222,
              "#7201a8"
             ],
             [
              0.3333333333333333,
              "#9c179e"
             ],
             [
              0.4444444444444444,
              "#bd3786"
             ],
             [
              0.5555555555555556,
              "#d8576b"
             ],
             [
              0.6666666666666666,
              "#ed7953"
             ],
             [
              0.7777777777777778,
              "#fb9f3a"
             ],
             [
              0.8888888888888888,
              "#fdca26"
             ],
             [
              1,
              "#f0f921"
             ]
            ],
            "type": "heatmap"
           }
          ],
          "histogram": [
           {
            "marker": {
             "pattern": {
              "fillmode": "overlay",
              "size": 10,
              "solidity": 0.2
             }
            },
            "type": "histogram"
           }
          ],
          "histogram2d": [
           {
            "colorbar": {
             "outlinewidth": 0,
             "ticks": ""
            },
            "colorscale": [
             [
              0,
              "#0d0887"
             ],
             [
              0.1111111111111111,
              "#46039f"
             ],
             [
              0.2222222222222222,
              "#7201a8"
             ],
             [
              0.3333333333333333,
              "#9c179e"
             ],
             [
              0.4444444444444444,
              "#bd3786"
             ],
             [
              0.5555555555555556,
              "#d8576b"
             ],
             [
              0.6666666666666666,
              "#ed7953"
             ],
             [
              0.7777777777777778,
              "#fb9f3a"
             ],
             [
              0.8888888888888888,
              "#fdca26"
             ],
             [
              1,
              "#f0f921"
             ]
            ],
            "type": "histogram2d"
           }
          ],
          "histogram2dcontour": [
           {
            "colorbar": {
             "outlinewidth": 0,
             "ticks": ""
            },
            "colorscale": [
             [
              0,
              "#0d0887"
             ],
             [
              0.1111111111111111,
              "#46039f"
             ],
             [
              0.2222222222222222,
              "#7201a8"
             ],
             [
              0.3333333333333333,
              "#9c179e"
             ],
             [
              0.4444444444444444,
              "#bd3786"
             ],
             [
              0.5555555555555556,
              "#d8576b"
             ],
             [
              0.6666666666666666,
              "#ed7953"
             ],
             [
              0.7777777777777778,
              "#fb9f3a"
             ],
             [
              0.8888888888888888,
              "#fdca26"
             ],
             [
              1,
              "#f0f921"
             ]
            ],
            "type": "histogram2dcontour"
           }
          ],
          "mesh3d": [
           {
            "colorbar": {
             "outlinewidth": 0,
             "ticks": ""
            },
            "type": "mesh3d"
           }
          ],
          "parcoords": [
           {
            "line": {
             "colorbar": {
              "outlinewidth": 0,
              "ticks": ""
             }
            },
            "type": "parcoords"
           }
          ],
          "pie": [
           {
            "automargin": true,
            "type": "pie"
           }
          ],
          "scatter": [
           {
            "fillpattern": {
             "fillmode": "overlay",
             "size": 10,
             "solidity": 0.2
            },
            "type": "scatter"
           }
          ],
          "scatter3d": [
           {
            "line": {
             "colorbar": {
              "outlinewidth": 0,
              "ticks": ""
             }
            },
            "marker": {
             "colorbar": {
              "outlinewidth": 0,
              "ticks": ""
             }
            },
            "type": "scatter3d"
           }
          ],
          "scattercarpet": [
           {
            "marker": {
             "colorbar": {
              "outlinewidth": 0,
              "ticks": ""
             }
            },
            "type": "scattercarpet"
           }
          ],
          "scattergeo": [
           {
            "marker": {
             "colorbar": {
              "outlinewidth": 0,
              "ticks": ""
             }
            },
            "type": "scattergeo"
           }
          ],
          "scattergl": [
           {
            "marker": {
             "colorbar": {
              "outlinewidth": 0,
              "ticks": ""
             }
            },
            "type": "scattergl"
           }
          ],
          "scattermap": [
           {
            "marker": {
             "colorbar": {
              "outlinewidth": 0,
              "ticks": ""
             }
            },
            "type": "scattermap"
           }
          ],
          "scattermapbox": [
           {
            "marker": {
             "colorbar": {
              "outlinewidth": 0,
              "ticks": ""
             }
            },
            "type": "scattermapbox"
           }
          ],
          "scatterpolar": [
           {
            "marker": {
             "colorbar": {
              "outlinewidth": 0,
              "ticks": ""
             }
            },
            "type": "scatterpolar"
           }
          ],
          "scatterpolargl": [
           {
            "marker": {
             "colorbar": {
              "outlinewidth": 0,
              "ticks": ""
             }
            },
            "type": "scatterpolargl"
           }
          ],
          "scatterternary": [
           {
            "marker": {
             "colorbar": {
              "outlinewidth": 0,
              "ticks": ""
             }
            },
            "type": "scatterternary"
           }
          ],
          "surface": [
           {
            "colorbar": {
             "outlinewidth": 0,
             "ticks": ""
            },
            "colorscale": [
             [
              0,
              "#0d0887"
             ],
             [
              0.1111111111111111,
              "#46039f"
             ],
             [
              0.2222222222222222,
              "#7201a8"
             ],
             [
              0.3333333333333333,
              "#9c179e"
             ],
             [
              0.4444444444444444,
              "#bd3786"
             ],
             [
              0.5555555555555556,
              "#d8576b"
             ],
             [
              0.6666666666666666,
              "#ed7953"
             ],
             [
              0.7777777777777778,
              "#fb9f3a"
             ],
             [
              0.8888888888888888,
              "#fdca26"
             ],
             [
              1,
              "#f0f921"
             ]
            ],
            "type": "surface"
           }
          ],
          "table": [
           {
            "cells": {
             "fill": {
              "color": "#EBF0F8"
             },
             "line": {
              "color": "white"
             }
            },
            "header": {
             "fill": {
              "color": "#C8D4E3"
             },
             "line": {
              "color": "white"
             }
            },
            "type": "table"
           }
          ]
         },
         "layout": {
          "annotationdefaults": {
           "arrowcolor": "#2a3f5f",
           "arrowhead": 0,
           "arrowwidth": 1
          },
          "autotypenumbers": "strict",
          "coloraxis": {
           "colorbar": {
            "outlinewidth": 0,
            "ticks": ""
           }
          },
          "colorscale": {
           "diverging": [
            [
             0,
             "#8e0152"
            ],
            [
             0.1,
             "#c51b7d"
            ],
            [
             0.2,
             "#de77ae"
            ],
            [
             0.3,
             "#f1b6da"
            ],
            [
             0.4,
             "#fde0ef"
            ],
            [
             0.5,
             "#f7f7f7"
            ],
            [
             0.6,
             "#e6f5d0"
            ],
            [
             0.7,
             "#b8e186"
            ],
            [
             0.8,
             "#7fbc41"
            ],
            [
             0.9,
             "#4d9221"
            ],
            [
             1,
             "#276419"
            ]
           ],
           "sequential": [
            [
             0,
             "#0d0887"
            ],
            [
             0.1111111111111111,
             "#46039f"
            ],
            [
             0.2222222222222222,
             "#7201a8"
            ],
            [
             0.3333333333333333,
             "#9c179e"
            ],
            [
             0.4444444444444444,
             "#bd3786"
            ],
            [
             0.5555555555555556,
             "#d8576b"
            ],
            [
             0.6666666666666666,
             "#ed7953"
            ],
            [
             0.7777777777777778,
             "#fb9f3a"
            ],
            [
             0.8888888888888888,
             "#fdca26"
            ],
            [
             1,
             "#f0f921"
            ]
           ],
           "sequentialminus": [
            [
             0,
             "#0d0887"
            ],
            [
             0.1111111111111111,
             "#46039f"
            ],
            [
             0.2222222222222222,
             "#7201a8"
            ],
            [
             0.3333333333333333,
             "#9c179e"
            ],
            [
             0.4444444444444444,
             "#bd3786"
            ],
            [
             0.5555555555555556,
             "#d8576b"
            ],
            [
             0.6666666666666666,
             "#ed7953"
            ],
            [
             0.7777777777777778,
             "#fb9f3a"
            ],
            [
             0.8888888888888888,
             "#fdca26"
            ],
            [
             1,
             "#f0f921"
            ]
           ]
          },
          "colorway": [
           "#636efa",
           "#EF553B",
           "#00cc96",
           "#ab63fa",
           "#FFA15A",
           "#19d3f3",
           "#FF6692",
           "#B6E880",
           "#FF97FF",
           "#FECB52"
          ],
          "font": {
           "color": "#2a3f5f"
          },
          "geo": {
           "bgcolor": "white",
           "lakecolor": "white",
           "landcolor": "#E5ECF6",
           "showlakes": true,
           "showland": true,
           "subunitcolor": "white"
          },
          "hoverlabel": {
           "align": "left"
          },
          "hovermode": "closest",
          "mapbox": {
           "style": "light"
          },
          "paper_bgcolor": "white",
          "plot_bgcolor": "#E5ECF6",
          "polar": {
           "angularaxis": {
            "gridcolor": "white",
            "linecolor": "white",
            "ticks": ""
           },
           "bgcolor": "#E5ECF6",
           "radialaxis": {
            "gridcolor": "white",
            "linecolor": "white",
            "ticks": ""
           }
          },
          "scene": {
           "xaxis": {
            "backgroundcolor": "#E5ECF6",
            "gridcolor": "white",
            "gridwidth": 2,
            "linecolor": "white",
            "showbackground": true,
            "ticks": "",
            "zerolinecolor": "white"
           },
           "yaxis": {
            "backgroundcolor": "#E5ECF6",
            "gridcolor": "white",
            "gridwidth": 2,
            "linecolor": "white",
            "showbackground": true,
            "ticks": "",
            "zerolinecolor": "white"
           },
           "zaxis": {
            "backgroundcolor": "#E5ECF6",
            "gridcolor": "white",
            "gridwidth": 2,
            "linecolor": "white",
            "showbackground": true,
            "ticks": "",
            "zerolinecolor": "white"
           }
          },
          "shapedefaults": {
           "line": {
            "color": "#2a3f5f"
           }
          },
          "ternary": {
           "aaxis": {
            "gridcolor": "white",
            "linecolor": "white",
            "ticks": ""
           },
           "baxis": {
            "gridcolor": "white",
            "linecolor": "white",
            "ticks": ""
           },
           "bgcolor": "#E5ECF6",
           "caxis": {
            "gridcolor": "white",
            "linecolor": "white",
            "ticks": ""
           }
          },
          "title": {
           "x": 0.05
          },
          "xaxis": {
           "automargin": true,
           "gridcolor": "white",
           "linecolor": "white",
           "ticks": "",
           "title": {
            "standoff": 15
           },
           "zerolinecolor": "white",
           "zerolinewidth": 2
          },
          "yaxis": {
           "automargin": true,
           "gridcolor": "white",
           "linecolor": "white",
           "ticks": "",
           "title": {
            "standoff": 15
           },
           "zerolinecolor": "white",
           "zerolinewidth": 2
          }
         }
        },
        "title": {
         "text": "Распределение значений по полю marital_status"
        },
        "width": 400,
        "xaxis": {
         "title": {
          "text": "Значение"
         }
        },
        "yaxis": {
         "title": {
          "text": "Количество"
         }
        }
       }
      },
      "image/png": "[encoded data removed]"
     },
     "metadata": {},
     "output_type": "display_data"
    },
    {
     "name": "stdout",
     "output_type": "stream",
     "text": [
      "marital_status\n",
      "====================\n",
      "Уникальные значения:\n",
      "['Divorced' 'Single' 'Married' 'Together' 'Widow' 'YOLO' 'Alone' 'Absurd']\n",
      "====================\n"
     ]
    }
   ],
   "source": [
    "describe_feature('marital_status', kind='categorical')"
   ]
  },
  {
   "cell_type": "markdown",
   "id": "38d39734-94d7-4b20-862f-eb5d56ace1a9",
   "metadata": {},
   "source": [
    "`marital_status` - категориальный признак, указывающий на семейное положение клиента. Больше всего в датасете представлено клиентов: \n",
    "* находящихся в браке (781 человек),\n",
    "* состоящих в отношениях (509 человек),\n",
    "* не состоящих в отношениях (435 человек).\n",
    "\n",
    "Самые малочисленные категории: Alone, Absurd и YOLO."
   ]
  },
  {
   "cell_type": "markdown",
   "id": "3659e772-f2b6-4109-ac95-944f810b3c8c",
   "metadata": {},
   "source": [
    "### 3.1.5. Признак `mstatus_unified`"
   ]
  },
  {
   "cell_type": "markdown",
   "id": "dbe9ad50-d2af-4efd-807e-5dafa952ed8b",
   "metadata": {},
   "source": [
    "Выведем описательную статистику призназа `mstatus_unified`:"
   ]
  },
  {
   "cell_type": "code",
   "execution_count": 74,
   "id": "de9d5fdc-2628-4d27-9b91-52e4013ec53c",
   "metadata": {},
   "outputs": [
    {
     "data": {
      "application/vnd.plotly.v1+json": {
       "config": {
        "plotlyServerURL": "https://plot.ly"
       },
       "data": [
        {
         "type": "bar",
         "x": [
          "Married",
          "Single",
          "Together",
          "Absurd",
          "YOLO"
         ],
         "y": {
          "bdata": "DQPPAv0BAgABAA==",
          "dtype": "i2"
         }
        }
       ],
       "layout": {
        "height": 350,
        "template": {
         "data": {
          "bar": [
           {
            "error_x": {
             "color": "#2a3f5f"
            },
            "error_y": {
             "color": "#2a3f5f"
            },
            "marker": {
             "line": {
              "color": "#E5ECF6",
              "width": 0.5
             },
             "pattern": {
              "fillmode": "overlay",
              "size": 10,
              "solidity": 0.2
             }
            },
            "type": "bar"
           }
          ],
          "barpolar": [
           {
            "marker": {
             "line": {
              "color": "#E5ECF6",
              "width": 0.5
             },
             "pattern": {
              "fillmode": "overlay",
              "size": 10,
              "solidity": 0.2
             }
            },
            "type": "barpolar"
           }
          ],
          "carpet": [
           {
            "aaxis": {
             "endlinecolor": "#2a3f5f",
             "gridcolor": "white",
             "linecolor": "white",
             "minorgridcolor": "white",
             "startlinecolor": "#2a3f5f"
            },
            "baxis": {
             "endlinecolor": "#2a3f5f",
             "gridcolor": "white",
             "linecolor": "white",
             "minorgridcolor": "white",
             "startlinecolor": "#2a3f5f"
            },
            "type": "carpet"
           }
          ],
          "choropleth": [
           {
            "colorbar": {
             "outlinewidth": 0,
             "ticks": ""
            },
            "type": "choropleth"
           }
          ],
          "contour": [
           {
            "colorbar": {
             "outlinewidth": 0,
             "ticks": ""
            },
            "colorscale": [
             [
              0,
              "#0d0887"
             ],
             [
              0.1111111111111111,
              "#46039f"
             ],
             [
              0.2222222222222222,
              "#7201a8"
             ],
             [
              0.3333333333333333,
              "#9c179e"
             ],
             [
              0.4444444444444444,
              "#bd3786"
             ],
             [
              0.5555555555555556,
              "#d8576b"
             ],
             [
              0.6666666666666666,
              "#ed7953"
             ],
             [
              0.7777777777777778,
              "#fb9f3a"
             ],
             [
              0.8888888888888888,
              "#fdca26"
             ],
             [
              1,
              "#f0f921"
             ]
            ],
            "type": "contour"
           }
          ],
          "contourcarpet": [
           {
            "colorbar": {
             "outlinewidth": 0,
             "ticks": ""
            },
            "type": "contourcarpet"
           }
          ],
          "heatmap": [
           {
            "colorbar": {
             "outlinewidth": 0,
             "ticks": ""
            },
            "colorscale": [
             [
              0,
              "#0d0887"
             ],
             [
              0.1111111111111111,
              "#46039f"
             ],
             [
              0.2222222222222222,
              "#7201a8"
             ],
             [
              0.3333333333333333,
              "#9c179e"
             ],
             [
              0.4444444444444444,
              "#bd3786"
             ],
             [
              0.5555555555555556,
              "#d8576b"
             ],
             [
              0.6666666666666666,
              "#ed7953"
             ],
             [
              0.7777777777777778,
              "#fb9f3a"
             ],
             [
              0.8888888888888888,
              "#fdca26"
             ],
             [
              1,
              "#f0f921"
             ]
            ],
            "type": "heatmap"
           }
          ],
          "histogram": [
           {
            "marker": {
             "pattern": {
              "fillmode": "overlay",
              "size": 10,
              "solidity": 0.2
             }
            },
            "type": "histogram"
           }
          ],
          "histogram2d": [
           {
            "colorbar": {
             "outlinewidth": 0,
             "ticks": ""
            },
            "colorscale": [
             [
              0,
              "#0d0887"
             ],
             [
              0.1111111111111111,
              "#46039f"
             ],
             [
              0.2222222222222222,
              "#7201a8"
             ],
             [
              0.3333333333333333,
              "#9c179e"
             ],
             [
              0.4444444444444444,
              "#bd3786"
             ],
             [
              0.5555555555555556,
              "#d8576b"
             ],
             [
              0.6666666666666666,
              "#ed7953"
             ],
             [
              0.7777777777777778,
              "#fb9f3a"
             ],
             [
              0.8888888888888888,
              "#fdca26"
             ],
             [
              1,
              "#f0f921"
             ]
            ],
            "type": "histogram2d"
           }
          ],
          "histogram2dcontour": [
           {
            "colorbar": {
             "outlinewidth": 0,
             "ticks": ""
            },
            "colorscale": [
             [
              0,
              "#0d0887"
             ],
             [
              0.1111111111111111,
              "#46039f"
             ],
             [
              0.2222222222222222,
              "#7201a8"
             ],
             [
              0.3333333333333333,
              "#9c179e"
             ],
             [
              0.4444444444444444,
              "#bd3786"
             ],
             [
              0.5555555555555556,
              "#d8576b"
             ],
             [
              0.6666666666666666,
              "#ed7953"
             ],
             [
              0.7777777777777778,
              "#fb9f3a"
             ],
             [
              0.8888888888888888,
              "#fdca26"
             ],
             [
              1,
              "#f0f921"
             ]
            ],
            "type": "histogram2dcontour"
           }
          ],
          "mesh3d": [
           {
            "colorbar": {
             "outlinewidth": 0,
             "ticks": ""
            },
            "type": "mesh3d"
           }
          ],
          "parcoords": [
           {
            "line": {
             "colorbar": {
              "outlinewidth": 0,
              "ticks": ""
             }
            },
            "type": "parcoords"
           }
          ],
          "pie": [
           {
            "automargin": true,
            "type": "pie"
           }
          ],
          "scatter": [
           {
            "fillpattern": {
             "fillmode": "overlay",
             "size": 10,
             "solidity": 0.2
            },
            "type": "scatter"
           }
          ],
          "scatter3d": [
           {
            "line": {
             "colorbar": {
              "outlinewidth": 0,
              "ticks": ""
             }
            },
            "marker": {
             "colorbar": {
              "outlinewidth": 0,
              "ticks": ""
             }
            },
            "type": "scatter3d"
           }
          ],
          "scattercarpet": [
           {
            "marker": {
             "colorbar": {
              "outlinewidth": 0,
              "ticks": ""
             }
            },
            "type": "scattercarpet"
           }
          ],
          "scattergeo": [
           {
            "marker": {
             "colorbar": {
              "outlinewidth": 0,
              "ticks": ""
             }
            },
            "type": "scattergeo"
           }
          ],
          "scattergl": [
           {
            "marker": {
             "colorbar": {
              "outlinewidth": 0,
              "ticks": ""
             }
            },
            "type": "scattergl"
           }
          ],
          "scattermap": [
           {
            "marker": {
             "colorbar": {
              "outlinewidth": 0,
              "ticks": ""
             }
            },
            "type": "scattermap"
           }
          ],
          "scattermapbox": [
           {
            "marker": {
             "colorbar": {
              "outlinewidth": 0,
              "ticks": ""
             }
            },
            "type": "scattermapbox"
           }
          ],
          "scatterpolar": [
           {
            "marker": {
             "colorbar": {
              "outlinewidth": 0,
              "ticks": ""
             }
            },
            "type": "scatterpolar"
           }
          ],
          "scatterpolargl": [
           {
            "marker": {
             "colorbar": {
              "outlinewidth": 0,
              "ticks": ""
             }
            },
            "type": "scatterpolargl"
           }
          ],
          "scatterternary": [
           {
            "marker": {
             "colorbar": {
              "outlinewidth": 0,
              "ticks": ""
             }
            },
            "type": "scatterternary"
           }
          ],
          "surface": [
           {
            "colorbar": {
             "outlinewidth": 0,
             "ticks": ""
            },
            "colorscale": [
             [
              0,
              "#0d0887"
             ],
             [
              0.1111111111111111,
              "#46039f"
             ],
             [
              0.2222222222222222,
              "#7201a8"
             ],
             [
              0.3333333333333333,
              "#9c179e"
             ],
             [
              0.4444444444444444,
              "#bd3786"
             ],
             [
              0.5555555555555556,
              "#d8576b"
             ],
             [
              0.6666666666666666,
              "#ed7953"
             ],
             [
              0.7777777777777778,
              "#fb9f3a"
             ],
             [
              0.8888888888888888,
              "#fdca26"
             ],
             [
              1,
              "#f0f921"
             ]
            ],
            "type": "surface"
           }
          ],
          "table": [
           {
            "cells": {
             "fill": {
              "color": "#EBF0F8"
             },
             "line": {
              "color": "white"
             }
            },
            "header": {
             "fill": {
              "color": "#C8D4E3"
             },
             "line": {
              "color": "white"
             }
            },
            "type": "table"
           }
          ]
         },
         "layout": {
          "annotationdefaults": {
           "arrowcolor": "#2a3f5f",
           "arrowhead": 0,
           "arrowwidth": 1
          },
          "autotypenumbers": "strict",
          "coloraxis": {
           "colorbar": {
            "outlinewidth": 0,
            "ticks": ""
           }
          },
          "colorscale": {
           "diverging": [
            [
             0,
             "#8e0152"
            ],
            [
             0.1,
             "#c51b7d"
            ],
            [
             0.2,
             "#de77ae"
            ],
            [
             0.3,
             "#f1b6da"
            ],
            [
             0.4,
             "#fde0ef"
            ],
            [
             0.5,
             "#f7f7f7"
            ],
            [
             0.6,
             "#e6f5d0"
            ],
            [
             0.7,
             "#b8e186"
            ],
            [
             0.8,
             "#7fbc41"
            ],
            [
             0.9,
             "#4d9221"
            ],
            [
             1,
             "#276419"
            ]
           ],
           "sequential": [
            [
             0,
             "#0d0887"
            ],
            [
             0.1111111111111111,
             "#46039f"
            ],
            [
             0.2222222222222222,
             "#7201a8"
            ],
            [
             0.3333333333333333,
             "#9c179e"
            ],
            [
             0.4444444444444444,
             "#bd3786"
            ],
            [
             0.5555555555555556,
             "#d8576b"
            ],
            [
             0.6666666666666666,
             "#ed7953"
            ],
            [
             0.7777777777777778,
             "#fb9f3a"
            ],
            [
             0.8888888888888888,
             "#fdca26"
            ],
            [
             1,
             "#f0f921"
            ]
           ],
           "sequentialminus": [
            [
             0,
             "#0d0887"
            ],
            [
             0.1111111111111111,
             "#46039f"
            ],
            [
             0.2222222222222222,
             "#7201a8"
            ],
            [
             0.3333333333333333,
             "#9c179e"
            ],
            [
             0.4444444444444444,
             "#bd3786"
            ],
            [
             0.5555555555555556,
             "#d8576b"
            ],
            [
             0.6666666666666666,
             "#ed7953"
            ],
            [
             0.7777777777777778,
             "#fb9f3a"
            ],
            [
             0.8888888888888888,
             "#fdca26"
            ],
            [
             1,
             "#f0f921"
            ]
           ]
          },
          "colorway": [
           "#636efa",
           "#EF553B",
           "#00cc96",
           "#ab63fa",
           "#FFA15A",
           "#19d3f3",
           "#FF6692",
           "#B6E880",
           "#FF97FF",
           "#FECB52"
          ],
          "font": {
           "color": "#2a3f5f"
          },
          "geo": {
           "bgcolor": "white",
           "lakecolor": "white",
           "landcolor": "#E5ECF6",
           "showlakes": true,
           "showland": true,
           "subunitcolor": "white"
          },
          "hoverlabel": {
           "align": "left"
          },
          "hovermode": "closest",
          "mapbox": {
           "style": "light"
          },
          "paper_bgcolor": "white",
          "plot_bgcolor": "#E5ECF6",
          "polar": {
           "angularaxis": {
            "gridcolor": "white",
            "linecolor": "white",
            "ticks": ""
           },
           "bgcolor": "#E5ECF6",
           "radialaxis": {
            "gridcolor": "white",
            "linecolor": "white",
            "ticks": ""
           }
          },
          "scene": {
           "xaxis": {
            "backgroundcolor": "#E5ECF6",
            "gridcolor": "white",
            "gridwidth": 2,
            "linecolor": "white",
            "showbackground": true,
            "ticks": "",
            "zerolinecolor": "white"
           },
           "yaxis": {
            "backgroundcolor": "#E5ECF6",
            "gridcolor": "white",
            "gridwidth": 2,
            "linecolor": "white",
            "showbackground": true,
            "ticks": "",
            "zerolinecolor": "white"
           },
           "zaxis": {
            "backgroundcolor": "#E5ECF6",
            "gridcolor": "white",
            "gridwidth": 2,
            "linecolor": "white",
            "showbackground": true,
            "ticks": "",
            "zerolinecolor": "white"
           }
          },
          "shapedefaults": {
           "line": {
            "color": "#2a3f5f"
           }
          },
          "ternary": {
           "aaxis": {
            "gridcolor": "white",
            "linecolor": "white",
            "ticks": ""
           },
           "baxis": {
            "gridcolor": "white",
            "linecolor": "white",
            "ticks": ""
           },
           "bgcolor": "#E5ECF6",
           "caxis": {
            "gridcolor": "white",
            "linecolor": "white",
            "ticks": ""
           }
          },
          "title": {
           "x": 0.05
          },
          "xaxis": {
           "automargin": true,
           "gridcolor": "white",
           "linecolor": "white",
           "ticks": "",
           "title": {
            "standoff": 15
           },
           "zerolinecolor": "white",
           "zerolinewidth": 2
          },
          "yaxis": {
           "automargin": true,
           "gridcolor": "white",
           "linecolor": "white",
           "ticks": "",
           "title": {
            "standoff": 15
           },
           "zerolinecolor": "white",
           "zerolinewidth": 2
          }
         }
        },
        "title": {
         "text": "Распределение значений по полю mstatus_unified"
        },
        "width": 400,
        "xaxis": {
         "title": {
          "text": "Значение"
         }
        },
        "yaxis": {
         "title": {
          "text": "Количество"
         }
        }
       }
      },
      "image/png": "[encoded data removed]"
     },
     "metadata": {},
     "output_type": "display_data"
    },
    {
     "name": "stdout",
     "output_type": "stream",
     "text": [
      "mstatus_unified\n",
      "====================\n",
      "Уникальные значения:\n",
      "['Single' 'Married' 'Together' 'YOLO' 'Absurd']\n",
      "====================\n"
     ]
    }
   ],
   "source": [
    "describe_feature('mstatus_unified', kind='categorical')"
   ]
  },
  {
   "cell_type": "markdown",
   "id": "fb5d1b1c-124c-4302-bd3d-b384494b0dca",
   "metadata": {},
   "source": [
    "`mstatus_unified` - категориальный признак, добавленный на этапе дообогащения датасета, который объединил похожие по смыслу категории.\n",
    "При таком подходе самой многочисленной группой остались клиенты, состоящие в браке, на втором месте - одинокие клиенты, на третьем - клиенты, состоящие в отношениях."
   ]
  },
  {
   "cell_type": "markdown",
   "id": "19cc4cba-28c9-49b2-870d-d49fa5f18400",
   "metadata": {},
   "source": [
    "### 3.1.6. Признак `income`"
   ]
  },
  {
   "cell_type": "markdown",
   "id": "3954c5a1-8963-402a-aade-33747c365715",
   "metadata": {},
   "source": [
    "Выведем описательную статистику призназа `income`:"
   ]
  },
  {
   "cell_type": "code",
   "execution_count": 103,
   "id": "b57bf09e-f3ac-4382-92dc-ca639d14df4f",
   "metadata": {},
   "outputs": [
    {
     "data": {
      "application/vnd.plotly.v1+json": {
       "config": {
        "plotlyServerURL": "https://plot.ly"
       },
       "data": [
        {
         "name": "Диаграмма размаха",
         "type": "box",
         "x": {
          "bdata": "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",
          "dtype": "f8"
         },
         "xaxis": "x",
         "yaxis": "y"
        },
        {
         "histnorm": "probability density",
         "name": "Гистограмма распределения",
         "nbinsx": 50,
         "opacity": 0.75,
         "type": "histogram",
         "x": {
          "bdata": "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",
          "dtype": "f8"
         },
         "xaxis": "x2",
         "yaxis": "y2"
        }
       ],
       "layout": {
        "annotations": [
         {
          "font": {
           "size": 16
          },
          "showarrow": false,
          "text": "Диаграмма размаха income",
          "x": 0.225,
          "xanchor": "center",
          "xref": "paper",
          "y": 1,
          "yanchor": "bottom",
          "yref": "paper"
         },
         {
          "font": {
           "size": 16
          },
          "showarrow": false,
          "text": "Гистограмма распределения income",
          "x": 0.775,
          "xanchor": "center",
          "xref": "paper",
          "y": 1,
          "yanchor": "bottom",
          "yref": "paper"
         }
        ],
        "template": {
         "data": {
          "bar": [
           {
            "error_x": {
             "color": "#2a3f5f"
            },
            "error_y": {
             "color": "#2a3f5f"
            },
            "marker": {
             "line": {
              "color": "#E5ECF6",
              "width": 0.5
             },
             "pattern": {
              "fillmode": "overlay",
              "size": 10,
              "solidity": 0.2
             }
            },
            "type": "bar"
           }
          ],
          "barpolar": [
           {
            "marker": {
             "line": {
              "color": "#E5ECF6",
              "width": 0.5
             },
             "pattern": {
              "fillmode": "overlay",
              "size": 10,
              "solidity": 0.2
             }
            },
            "type": "barpolar"
           }
          ],
          "carpet": [
           {
            "aaxis": {
             "endlinecolor": "#2a3f5f",
             "gridcolor": "white",
             "linecolor": "white",
             "minorgridcolor": "white",
             "startlinecolor": "#2a3f5f"
            },
            "baxis": {
             "endlinecolor": "#2a3f5f",
             "gridcolor": "white",
             "linecolor": "white",
             "minorgridcolor": "white",
             "startlinecolor": "#2a3f5f"
            },
            "type": "carpet"
           }
          ],
          "choropleth": [
           {
            "colorbar": {
             "outlinewidth": 0,
             "ticks": ""
            },
            "type": "choropleth"
           }
          ],
          "contour": [
           {
            "colorbar": {
             "outlinewidth": 0,
             "ticks": ""
            },
            "colorscale": [
             [
              0,
              "#0d0887"
             ],
             [
              0.1111111111111111,
              "#46039f"
             ],
             [
              0.2222222222222222,
              "#7201a8"
             ],
             [
              0.3333333333333333,
              "#9c179e"
             ],
             [
              0.4444444444444444,
              "#bd3786"
             ],
             [
              0.5555555555555556,
              "#d8576b"
             ],
             [
              0.6666666666666666,
              "#ed7953"
             ],
             [
              0.7777777777777778,
              "#fb9f3a"
             ],
             [
              0.8888888888888888,
              "#fdca26"
             ],
             [
              1,
              "#f0f921"
             ]
            ],
            "type": "contour"
           }
          ],
          "contourcarpet": [
           {
            "colorbar": {
             "outlinewidth": 0,
             "ticks": ""
            },
            "type": "contourcarpet"
           }
          ],
          "heatmap": [
           {
            "colorbar": {
             "outlinewidth": 0,
             "ticks": ""
            },
            "colorscale": [
             [
              0,
              "#0d0887"
             ],
             [
              0.1111111111111111,
              "#46039f"
             ],
             [
              0.2222222222222222,
              "#7201a8"
             ],
             [
              0.3333333333333333,
              "#9c179e"
             ],
             [
              0.4444444444444444,
              "#bd3786"
             ],
             [
              0.5555555555555556,
              "#d8576b"
             ],
             [
              0.6666666666666666,
              "#ed7953"
             ],
             [
              0.7777777777777778,
              "#fb9f3a"
             ],
             [
              0.8888888888888888,
              "#fdca26"
             ],
             [
              1,
              "#f0f921"
             ]
            ],
            "type": "heatmap"
           }
          ],
          "histogram": [
           {
            "marker": {
             "pattern": {
              "fillmode": "overlay",
              "size": 10,
              "solidity": 0.2
             }
            },
            "type": "histogram"
           }
          ],
          "histogram2d": [
           {
            "colorbar": {
             "outlinewidth": 0,
             "ticks": ""
            },
            "colorscale": [
             [
              0,
              "#0d0887"
             ],
             [
              0.1111111111111111,
              "#46039f"
             ],
             [
              0.2222222222222222,
              "#7201a8"
             ],
             [
              0.3333333333333333,
              "#9c179e"
             ],
             [
              0.4444444444444444,
              "#bd3786"
             ],
             [
              0.5555555555555556,
              "#d8576b"
             ],
             [
              0.6666666666666666,
              "#ed7953"
             ],
             [
              0.7777777777777778,
              "#fb9f3a"
             ],
             [
              0.8888888888888888,
              "#fdca26"
             ],
             [
              1,
              "#f0f921"
             ]
            ],
            "type": "histogram2d"
           }
          ],
          "histogram2dcontour": [
           {
            "colorbar": {
             "outlinewidth": 0,
             "ticks": ""
            },
            "colorscale": [
             [
              0,
              "#0d0887"
             ],
             [
              0.1111111111111111,
              "#46039f"
             ],
             [
              0.2222222222222222,
              "#7201a8"
             ],
             [
              0.3333333333333333,
              "#9c179e"
             ],
             [
              0.4444444444444444,
              "#bd3786"
             ],
             [
              0.5555555555555556,
              "#d8576b"
             ],
             [
              0.6666666666666666,
              "#ed7953"
             ],
             [
              0.7777777777777778,
              "#fb9f3a"
             ],
             [
              0.8888888888888888,
              "#fdca26"
             ],
             [
              1,
              "#f0f921"
             ]
            ],
            "type": "histogram2dcontour"
           }
          ],
          "mesh3d": [
           {
            "colorbar": {
             "outlinewidth": 0,
             "ticks": ""
            },
            "type": "mesh3d"
           }
          ],
          "parcoords": [
           {
            "line": {
             "colorbar": {
              "outlinewidth": 0,
              "ticks": ""
             }
            },
            "type": "parcoords"
           }
          ],
          "pie": [
           {
            "automargin": true,
            "type": "pie"
           }
          ],
          "scatter": [
           {
            "fillpattern": {
             "fillmode": "overlay",
             "size": 10,
             "solidity": 0.2
            },
            "type": "scatter"
           }
          ],
          "scatter3d": [
           {
            "line": {
             "colorbar": {
              "outlinewidth": 0,
              "ticks": ""
             }
            },
            "marker": {
             "colorbar": {
              "outlinewidth": 0,
              "ticks": ""
             }
            },
            "type": "scatter3d"
           }
          ],
          "scattercarpet": [
           {
            "marker": {
             "colorbar": {
              "outlinewidth": 0,
              "ticks": ""
             }
            },
            "type": "scattercarpet"
           }
          ],
          "scattergeo": [
           {
            "marker": {
             "colorbar": {
              "outlinewidth": 0,
              "ticks": ""
             }
            },
            "type": "scattergeo"
           }
          ],
          "scattergl": [
           {
            "marker": {
             "colorbar": {
              "outlinewidth": 0,
              "ticks": ""
             }
            },
            "type": "scattergl"
           }
          ],
          "scattermap": [
           {
            "marker": {
             "colorbar": {
              "outlinewidth": 0,
              "ticks": ""
             }
            },
            "type": "scattermap"
           }
          ],
          "scattermapbox": [
           {
            "marker": {
             "colorbar": {
              "outlinewidth": 0,
              "ticks": ""
             }
            },
            "type": "scattermapbox"
           }
          ],
          "scatterpolar": [
           {
            "marker": {
             "colorbar": {
              "outlinewidth": 0,
              "ticks": ""
             }
            },
            "type": "scatterpolar"
           }
          ],
          "scatterpolargl": [
           {
            "marker": {
             "colorbar": {
              "outlinewidth": 0,
              "ticks": ""
             }
            },
            "type": "scatterpolargl"
           }
          ],
          "scatterternary": [
           {
            "marker": {
             "colorbar": {
              "outlinewidth": 0,
              "ticks": ""
             }
            },
            "type": "scatterternary"
           }
          ],
          "surface": [
           {
            "colorbar": {
             "outlinewidth": 0,
             "ticks": ""
            },
            "colorscale": [
             [
              0,
              "#0d0887"
             ],
             [
              0.1111111111111111,
              "#46039f"
             ],
             [
              0.2222222222222222,
              "#7201a8"
             ],
             [
              0.3333333333333333,
              "#9c179e"
             ],
             [
              0.4444444444444444,
              "#bd3786"
             ],
             [
              0.5555555555555556,
              "#d8576b"
             ],
             [
              0.6666666666666666,
              "#ed7953"
             ],
             [
              0.7777777777777778,
              "#fb9f3a"
             ],
             [
              0.8888888888888888,
              "#fdca26"
             ],
             [
              1,
              "#f0f921"
             ]
            ],
            "type": "surface"
           }
          ],
          "table": [
           {
            "cells": {
             "fill": {
              "color": "#EBF0F8"
             },
             "line": {
              "color": "white"
             }
            },
            "header": {
             "fill": {
              "color": "#C8D4E3"
             },
             "line": {
              "color": "white"
             }
            },
            "type": "table"
           }
          ]
         },
         "layout": {
          "annotationdefaults": {
           "arrowcolor": "#2a3f5f",
           "arrowhead": 0,
           "arrowwidth": 1
          },
          "autotypenumbers": "strict",
          "coloraxis": {
           "colorbar": {
            "outlinewidth": 0,
            "ticks": ""
           }
          },
          "colorscale": {
           "diverging": [
            [
             0,
             "#8e0152"
            ],
            [
             0.1,
             "#c51b7d"
            ],
            [
             0.2,
             "#de77ae"
            ],
            [
             0.3,
             "#f1b6da"
            ],
            [
             0.4,
             "#fde0ef"
            ],
            [
             0.5,
             "#f7f7f7"
            ],
            [
             0.6,
             "#e6f5d0"
            ],
            [
             0.7,
             "#b8e186"
            ],
            [
             0.8,
             "#7fbc41"
            ],
            [
             0.9,
             "#4d9221"
            ],
            [
             1,
             "#276419"
            ]
           ],
           "sequential": [
            [
             0,
             "#0d0887"
            ],
            [
             0.1111111111111111,
             "#46039f"
            ],
            [
             0.2222222222222222,
             "#7201a8"
            ],
            [
             0.3333333333333333,
             "#9c179e"
            ],
            [
             0.4444444444444444,
             "#bd3786"
            ],
            [
             0.5555555555555556,
             "#d8576b"
            ],
            [
             0.6666666666666666,
             "#ed7953"
            ],
            [
             0.7777777777777778,
             "#fb9f3a"
            ],
            [
             0.8888888888888888,
             "#fdca26"
            ],
            [
             1,
             "#f0f921"
            ]
           ],
           "sequentialminus": [
            [
             0,
             "#0d0887"
            ],
            [
             0.1111111111111111,
             "#46039f"
            ],
            [
             0.2222222222222222,
             "#7201a8"
            ],
            [
             0.3333333333333333,
             "#9c179e"
            ],
            [
             0.4444444444444444,
             "#bd3786"
            ],
            [
             0.5555555555555556,
             "#d8576b"
            ],
            [
             0.6666666666666666,
             "#ed7953"
            ],
            [
             0.7777777777777778,
             "#fb9f3a"
            ],
            [
             0.8888888888888888,
             "#fdca26"
            ],
            [
             1,
             "#f0f921"
            ]
           ]
          },
          "colorway": [
           "#636efa",
           "#EF553B",
           "#00cc96",
           "#ab63fa",
           "#FFA15A",
           "#19d3f3",
           "#FF6692",
           "#B6E880",
           "#FF97FF",
           "#FECB52"
          ],
          "font": {
           "color": "#2a3f5f"
          },
          "geo": {
           "bgcolor": "white",
           "lakecolor": "white",
           "landcolor": "#E5ECF6",
           "showlakes": true,
           "showland": true,
           "subunitcolor": "white"
          },
          "hoverlabel": {
           "align": "left"
          },
          "hovermode": "closest",
          "mapbox": {
           "style": "light"
          },
          "paper_bgcolor": "white",
          "plot_bgcolor": "#E5ECF6",
          "polar": {
           "angularaxis": {
            "gridcolor": "white",
            "linecolor": "white",
            "ticks": ""
           },
           "bgcolor": "#E5ECF6",
           "radialaxis": {
            "gridcolor": "white",
            "linecolor": "white",
            "ticks": ""
           }
          },
          "scene": {
           "xaxis": {
            "backgroundcolor": "#E5ECF6",
            "gridcolor": "white",
            "gridwidth": 2,
            "linecolor": "white",
            "showbackground": true,
            "ticks": "",
            "zerolinecolor": "white"
           },
           "yaxis": {
            "backgroundcolor": "#E5ECF6",
            "gridcolor": "white",
            "gridwidth": 2,
            "linecolor": "white",
            "showbackground": true,
            "ticks": "",
            "zerolinecolor": "white"
           },
           "zaxis": {
            "backgroundcolor": "#E5ECF6",
            "gridcolor": "white",
            "gridwidth": 2,
            "linecolor": "white",
            "showbackground": true,
            "ticks": "",
            "zerolinecolor": "white"
           }
          },
          "shapedefaults": {
           "line": {
            "color": "#2a3f5f"
           }
          },
          "ternary": {
           "aaxis": {
            "gridcolor": "white",
            "linecolor": "white",
            "ticks": ""
           },
           "baxis": {
            "gridcolor": "white",
            "linecolor": "white",
            "ticks": ""
           },
           "bgcolor": "#E5ECF6",
           "caxis": {
            "gridcolor": "white",
            "linecolor": "white",
            "ticks": ""
           }
          },
          "title": {
           "x": 0.05
          },
          "xaxis": {
           "automargin": true,
           "gridcolor": "white",
           "linecolor": "white",
           "ticks": "",
           "title": {
            "standoff": 15
           },
           "zerolinecolor": "white",
           "zerolinewidth": 2
          },
          "yaxis": {
           "automargin": true,
           "gridcolor": "white",
           "linecolor": "white",
           "ticks": "",
           "title": {
            "standoff": 15
           },
           "zerolinecolor": "white",
           "zerolinewidth": 2
          }
         }
        },
        "xaxis": {
         "anchor": "y",
         "domain": [
          0,
          0.45
         ]
        },
        "xaxis2": {
         "anchor": "y2",
         "domain": [
          0.55,
          1
         ]
        },
        "yaxis": {
         "anchor": "x",
         "domain": [
          0,
          1
         ]
        },
        "yaxis2": {
         "anchor": "x2",
         "domain": [
          0,
          1
         ]
        }
       }
      },
      "image/png": "[encoded data removed]"
     },
     "metadata": {},
     "output_type": "display_data"
    },
    {
     "name": "stdout",
     "output_type": "stream",
     "text": [
      "income\n",
      "====================\n",
      "Среднее: 52350.452\n",
      "Медиана: 51533.000\n",
      "Стандартное отклонение: 25587.312\n",
      "Min: 1730.000\n",
      "Max: 666666.000\n",
      "====================\n"
     ]
    }
   ],
   "source": [
    "describe_feature('income', discrete=False)"
   ]
  },
  {
   "cell_type": "markdown",
   "id": "c672e016-2dee-4f82-a62b-11f3b58a5415",
   "metadata": {},
   "source": [
    "`income` - численный непрерывный признак, содержащий информацию о годовом доходе домохозяйства клиента.\n",
    "Доходы клиентов варьируются от 1730 до 667 тыс. долларов в год. На гистограмме видно, что основная часть данных находится в диапозоне 20-80 тыс. Медианный доход - 51.5 тыс долл./год, средний доход выше медианного за счет наличия нескольких экстремальных значений. Годовой доход 75% клиентов не превышает 68.6 тыс. долл."
   ]
  },
  {
   "cell_type": "markdown",
   "id": "391bd8af-0009-4dc9-9168-2c8960b0d747",
   "metadata": {},
   "source": [
    "Проверим данные с экстремальными значениями по уровню дохода:"
   ]
  },
  {
   "cell_type": "code",
   "execution_count": 109,
   "id": "05bbc488-ba74-449d-b22f-826849fd1d32",
   "metadata": {},
   "outputs": [
    {
     "data": {
      "text/html": [
       "<div>\n",
       "<style scoped>\n",
       "    .dataframe tbody tr th:only-of-type {\n",
       "        vertical-align: middle;\n",
       "    }\n",
       "\n",
       "    .dataframe tbody tr th {\n",
       "        vertical-align: top;\n",
       "    }\n",
       "\n",
       "    .dataframe thead th {\n",
       "        text-align: right;\n",
       "    }\n",
       "</style>\n",
       "<table border=\"1\" class=\"dataframe\">\n",
       "  <thead>\n",
       "    <tr style=\"text-align: right;\">\n",
       "      <th></th>\n",
       "      <th>year_birth</th>\n",
       "      <th>education</th>\n",
       "      <th>marital_status</th>\n",
       "      <th>income</th>\n",
       "      <th>kidhome</th>\n",
       "      <th>teenhome</th>\n",
       "      <th>dt_customer</th>\n",
       "      <th>recency</th>\n",
       "      <th>mntwines</th>\n",
       "      <th>mntfruits</th>\n",
       "      <th>mntmeatproducts</th>\n",
       "      <th>mntfishproducts</th>\n",
       "      <th>mntsweetproducts</th>\n",
       "      <th>mntgoldprods</th>\n",
       "      <th>numdealspurchases</th>\n",
       "      <th>numwebpurchases</th>\n",
       "      <th>numcatalogpurchases</th>\n",
       "      <th>numstorepurchases</th>\n",
       "      <th>numwebvisitsmonth</th>\n",
       "      <th>response</th>\n",
       "      <th>complain</th>\n",
       "      <th>registration_age</th>\n",
       "      <th>is_parent</th>\n",
       "      <th>mstatus_unified</th>\n",
       "      <th>mnt_total</th>\n",
       "      <th>total_purchases</th>\n",
       "      <th>avg_check</th>\n",
       "    </tr>\n",
       "  </thead>\n",
       "  <tbody>\n",
       "    <tr>\n",
       "      <th>325</th>\n",
       "      <td>1977</td>\n",
       "      <td>Graduation</td>\n",
       "      <td>Together</td>\n",
       "      <td>157146.0</td>\n",
       "      <td>0</td>\n",
       "      <td>0</td>\n",
       "      <td>2013-04-29</td>\n",
       "      <td>13</td>\n",
       "      <td>1</td>\n",
       "      <td>0</td>\n",
       "      <td>1725</td>\n",
       "      <td>2</td>\n",
       "      <td>1</td>\n",
       "      <td>1</td>\n",
       "      <td>0</td>\n",
       "      <td>0</td>\n",
       "      <td>28</td>\n",
       "      <td>0</td>\n",
       "      <td>1</td>\n",
       "      <td>0</td>\n",
       "      <td>0</td>\n",
       "      <td>36</td>\n",
       "      <td>0</td>\n",
       "      <td>Together</td>\n",
       "      <td>1729</td>\n",
       "      <td>28</td>\n",
       "      <td>61.750000</td>\n",
       "    </tr>\n",
       "    <tr>\n",
       "      <th>497</th>\n",
       "      <td>1982</td>\n",
       "      <td>PhD</td>\n",
       "      <td>Married</td>\n",
       "      <td>160803.0</td>\n",
       "      <td>0</td>\n",
       "      <td>0</td>\n",
       "      <td>2012-04-08</td>\n",
       "      <td>21</td>\n",
       "      <td>55</td>\n",
       "      <td>16</td>\n",
       "      <td>1622</td>\n",
       "      <td>17</td>\n",
       "      <td>3</td>\n",
       "      <td>4</td>\n",
       "      <td>15</td>\n",
       "      <td>0</td>\n",
       "      <td>28</td>\n",
       "      <td>1</td>\n",
       "      <td>0</td>\n",
       "      <td>0</td>\n",
       "      <td>0</td>\n",
       "      <td>30</td>\n",
       "      <td>0</td>\n",
       "      <td>Married</td>\n",
       "      <td>1713</td>\n",
       "      <td>29</td>\n",
       "      <td>59.068966</td>\n",
       "    </tr>\n",
       "    <tr>\n",
       "      <th>527</th>\n",
       "      <td>1977</td>\n",
       "      <td>Graduation</td>\n",
       "      <td>Together</td>\n",
       "      <td>666666.0</td>\n",
       "      <td>1</td>\n",
       "      <td>0</td>\n",
       "      <td>2013-02-06</td>\n",
       "      <td>23</td>\n",
       "      <td>9</td>\n",
       "      <td>14</td>\n",
       "      <td>18</td>\n",
       "      <td>8</td>\n",
       "      <td>1</td>\n",
       "      <td>12</td>\n",
       "      <td>4</td>\n",
       "      <td>3</td>\n",
       "      <td>1</td>\n",
       "      <td>3</td>\n",
       "      <td>6</td>\n",
       "      <td>0</td>\n",
       "      <td>0</td>\n",
       "      <td>36</td>\n",
       "      <td>1</td>\n",
       "      <td>Together</td>\n",
       "      <td>50</td>\n",
       "      <td>7</td>\n",
       "      <td>7.142857</td>\n",
       "    </tr>\n",
       "    <tr>\n",
       "      <th>731</th>\n",
       "      <td>1976</td>\n",
       "      <td>PhD</td>\n",
       "      <td>Together</td>\n",
       "      <td>162397.0</td>\n",
       "      <td>1</td>\n",
       "      <td>1</td>\n",
       "      <td>2013-03-06</td>\n",
       "      <td>31</td>\n",
       "      <td>85</td>\n",
       "      <td>1</td>\n",
       "      <td>16</td>\n",
       "      <td>2</td>\n",
       "      <td>1</td>\n",
       "      <td>2</td>\n",
       "      <td>0</td>\n",
       "      <td>0</td>\n",
       "      <td>0</td>\n",
       "      <td>1</td>\n",
       "      <td>1</td>\n",
       "      <td>0</td>\n",
       "      <td>0</td>\n",
       "      <td>37</td>\n",
       "      <td>1</td>\n",
       "      <td>Together</td>\n",
       "      <td>105</td>\n",
       "      <td>1</td>\n",
       "      <td>105.000000</td>\n",
       "    </tr>\n",
       "    <tr>\n",
       "      <th>853</th>\n",
       "      <td>1971</td>\n",
       "      <td>Master</td>\n",
       "      <td>Together</td>\n",
       "      <td>157733.0</td>\n",
       "      <td>1</td>\n",
       "      <td>0</td>\n",
       "      <td>2013-04-06</td>\n",
       "      <td>37</td>\n",
       "      <td>39</td>\n",
       "      <td>1</td>\n",
       "      <td>9</td>\n",
       "      <td>2</td>\n",
       "      <td>0</td>\n",
       "      <td>8</td>\n",
       "      <td>0</td>\n",
       "      <td>1</td>\n",
       "      <td>0</td>\n",
       "      <td>1</td>\n",
       "      <td>1</td>\n",
       "      <td>0</td>\n",
       "      <td>0</td>\n",
       "      <td>42</td>\n",
       "      <td>1</td>\n",
       "      <td>Together</td>\n",
       "      <td>51</td>\n",
       "      <td>2</td>\n",
       "      <td>25.500000</td>\n",
       "    </tr>\n",
       "    <tr>\n",
       "      <th>1826</th>\n",
       "      <td>1975</td>\n",
       "      <td>Graduation</td>\n",
       "      <td>Divorced</td>\n",
       "      <td>153924.0</td>\n",
       "      <td>0</td>\n",
       "      <td>0</td>\n",
       "      <td>2014-07-02</td>\n",
       "      <td>81</td>\n",
       "      <td>1</td>\n",
       "      <td>1</td>\n",
       "      <td>1</td>\n",
       "      <td>1</td>\n",
       "      <td>1</td>\n",
       "      <td>1</td>\n",
       "      <td>0</td>\n",
       "      <td>0</td>\n",
       "      <td>0</td>\n",
       "      <td>0</td>\n",
       "      <td>0</td>\n",
       "      <td>0</td>\n",
       "      <td>0</td>\n",
       "      <td>39</td>\n",
       "      <td>0</td>\n",
       "      <td>Single</td>\n",
       "      <td>5</td>\n",
       "      <td>0</td>\n",
       "      <td>0.000000</td>\n",
       "    </tr>\n",
       "    <tr>\n",
       "      <th>1925</th>\n",
       "      <td>1949</td>\n",
       "      <td>PhD</td>\n",
       "      <td>Married</td>\n",
       "      <td>156924.0</td>\n",
       "      <td>0</td>\n",
       "      <td>0</td>\n",
       "      <td>2013-08-29</td>\n",
       "      <td>85</td>\n",
       "      <td>2</td>\n",
       "      <td>1</td>\n",
       "      <td>2</td>\n",
       "      <td>1</td>\n",
       "      <td>1</td>\n",
       "      <td>1</td>\n",
       "      <td>0</td>\n",
       "      <td>0</td>\n",
       "      <td>0</td>\n",
       "      <td>0</td>\n",
       "      <td>0</td>\n",
       "      <td>0</td>\n",
       "      <td>0</td>\n",
       "      <td>64</td>\n",
       "      <td>0</td>\n",
       "      <td>Married</td>\n",
       "      <td>7</td>\n",
       "      <td>0</td>\n",
       "      <td>0.000000</td>\n",
       "    </tr>\n",
       "    <tr>\n",
       "      <th>2204</th>\n",
       "      <td>1973</td>\n",
       "      <td>PhD</td>\n",
       "      <td>Married</td>\n",
       "      <td>157243.0</td>\n",
       "      <td>0</td>\n",
       "      <td>1</td>\n",
       "      <td>2014-01-03</td>\n",
       "      <td>98</td>\n",
       "      <td>20</td>\n",
       "      <td>2</td>\n",
       "      <td>1582</td>\n",
       "      <td>1</td>\n",
       "      <td>2</td>\n",
       "      <td>1</td>\n",
       "      <td>15</td>\n",
       "      <td>0</td>\n",
       "      <td>22</td>\n",
       "      <td>0</td>\n",
       "      <td>0</td>\n",
       "      <td>0</td>\n",
       "      <td>0</td>\n",
       "      <td>41</td>\n",
       "      <td>1</td>\n",
       "      <td>Married</td>\n",
       "      <td>1607</td>\n",
       "      <td>22</td>\n",
       "      <td>73.045455</td>\n",
       "    </tr>\n",
       "  </tbody>\n",
       "</table>\n",
       "</div>"
      ],
      "text/plain": [
       "      year_birth   education marital_status    income  kidhome  teenhome  \\\n",
       "325         1977  Graduation       Together  157146.0        0         0   \n",
       "497         1982         PhD        Married  160803.0        0         0   \n",
       "527         1977  Graduation       Together  666666.0        1         0   \n",
       "731         1976         PhD       Together  162397.0        1         1   \n",
       "853         1971      Master       Together  157733.0        1         0   \n",
       "1826        1975  Graduation       Divorced  153924.0        0         0   \n",
       "1925        1949         PhD        Married  156924.0        0         0   \n",
       "2204        1973         PhD        Married  157243.0        0         1   \n",
       "\n",
       "     dt_customer  recency  mntwines  mntfruits  mntmeatproducts  \\\n",
       "325   2013-04-29       13         1          0             1725   \n",
       "497   2012-04-08       21        55         16             1622   \n",
       "527   2013-02-06       23         9         14               18   \n",
       "731   2013-03-06       31        85          1               16   \n",
       "853   2013-04-06       37        39          1                9   \n",
       "1826  2014-07-02       81         1          1                1   \n",
       "1925  2013-08-29       85         2          1                2   \n",
       "2204  2014-01-03       98        20          2             1582   \n",
       "\n",
       "      mntfishproducts  mntsweetproducts  mntgoldprods  numdealspurchases  \\\n",
       "325                 2                 1             1                  0   \n",
       "497                17                 3             4                 15   \n",
       "527                 8                 1            12                  4   \n",
       "731                 2                 1             2                  0   \n",
       "853                 2                 0             8                  0   \n",
       "1826                1                 1             1                  0   \n",
       "1925                1                 1             1                  0   \n",
       "2204                1                 2             1                 15   \n",
       "\n",
       "      numwebpurchases  numcatalogpurchases  numstorepurchases  \\\n",
       "325                 0                   28                  0   \n",
       "497                 0                   28                  1   \n",
       "527                 3                    1                  3   \n",
       "731                 0                    0                  1   \n",
       "853                 1                    0                  1   \n",
       "1826                0                    0                  0   \n",
       "1925                0                    0                  0   \n",
       "2204                0                   22                  0   \n",
       "\n",
       "      numwebvisitsmonth  response  complain  registration_age  is_parent  \\\n",
       "325                   1         0         0                36          0   \n",
       "497                   0         0         0                30          0   \n",
       "527                   6         0         0                36          1   \n",
       "731                   1         0         0                37          1   \n",
       "853                   1         0         0                42          1   \n",
       "1826                  0         0         0                39          0   \n",
       "1925                  0         0         0                64          0   \n",
       "2204                  0         0         0                41          1   \n",
       "\n",
       "     mstatus_unified  mnt_total  total_purchases   avg_check  \n",
       "325         Together       1729               28   61.750000  \n",
       "497          Married       1713               29   59.068966  \n",
       "527         Together         50                7    7.142857  \n",
       "731         Together        105                1  105.000000  \n",
       "853         Together         51                2   25.500000  \n",
       "1826          Single          5                0    0.000000  \n",
       "1925         Married          7                0    0.000000  \n",
       "2204         Married       1607               22   73.045455  "
      ]
     },
     "execution_count": 109,
     "metadata": {},
     "output_type": "execute_result"
    }
   ],
   "source": [
    "df.query('income>150000')"
   ]
  },
  {
   "cell_type": "markdown",
   "id": "e676f31b-1fd6-4358-a193-b9e930eb1e43",
   "metadata": {},
   "source": [
    "Из данных видно, что большинство клиентов с очень высоким уровнем дохода имеют ученые степени PhD и Master, примерно одного возраста (за исключением одного) и в целом нет причин полагать, что в данном случае есть ошибка в данных. На данном этапе удалять экстремальные значения не будем."
   ]
  },
  {
   "cell_type": "markdown",
   "id": "99d3eb8d-7a6e-4876-83fc-ac961d6d1be2",
   "metadata": {},
   "source": [
    "### 3.1.7. Признак `kidhome`"
   ]
  },
  {
   "cell_type": "markdown",
   "id": "f5c18903-2328-449d-a095-af5ebb9efd80",
   "metadata": {},
   "source": [
    "Выведем описательную статистику призназа `kidhome`:"
   ]
  },
  {
   "cell_type": "code",
   "execution_count": 121,
   "id": "c14450e4-d4db-494b-bb33-103dead80de0",
   "metadata": {},
   "outputs": [
    {
     "data": {
      "application/vnd.plotly.v1+json": {
       "config": {
        "plotlyServerURL": "https://plot.ly"
       },
       "data": [
        {
         "type": "bar",
         "x": {
          "bdata": "AAEC",
          "dtype": "i1"
         },
         "y": {
          "bdata": "iwQoAykA",
          "dtype": "i2"
         }
        }
       ],
       "layout": {
        "height": 350,
        "template": {
         "data": {
          "bar": [
           {
            "error_x": {
             "color": "#2a3f5f"
            },
            "error_y": {
             "color": "#2a3f5f"
            },
            "marker": {
             "line": {
              "color": "#E5ECF6",
              "width": 0.5
             },
             "pattern": {
              "fillmode": "overlay",
              "size": 10,
              "solidity": 0.2
             }
            },
            "type": "bar"
           }
          ],
          "barpolar": [
           {
            "marker": {
             "line": {
              "color": "#E5ECF6",
              "width": 0.5
             },
             "pattern": {
              "fillmode": "overlay",
              "size": 10,
              "solidity": 0.2
             }
            },
            "type": "barpolar"
           }
          ],
          "carpet": [
           {
            "aaxis": {
             "endlinecolor": "#2a3f5f",
             "gridcolor": "white",
             "linecolor": "white",
             "minorgridcolor": "white",
             "startlinecolor": "#2a3f5f"
            },
            "baxis": {
             "endlinecolor": "#2a3f5f",
             "gridcolor": "white",
             "linecolor": "white",
             "minorgridcolor": "white",
             "startlinecolor": "#2a3f5f"
            },
            "type": "carpet"
           }
          ],
          "choropleth": [
           {
            "colorbar": {
             "outlinewidth": 0,
             "ticks": ""
            },
            "type": "choropleth"
           }
          ],
          "contour": [
           {
            "colorbar": {
             "outlinewidth": 0,
             "ticks": ""
            },
            "colorscale": [
             [
              0,
              "#0d0887"
             ],
             [
              0.1111111111111111,
              "#46039f"
             ],
             [
              0.2222222222222222,
              "#7201a8"
             ],
             [
              0.3333333333333333,
              "#9c179e"
             ],
             [
              0.4444444444444444,
              "#bd3786"
             ],
             [
              0.5555555555555556,
              "#d8576b"
             ],
             [
              0.6666666666666666,
              "#ed7953"
             ],
             [
              0.7777777777777778,
              "#fb9f3a"
             ],
             [
              0.8888888888888888,
              "#fdca26"
             ],
             [
              1,
              "#f0f921"
             ]
            ],
            "type": "contour"
           }
          ],
          "contourcarpet": [
           {
            "colorbar": {
             "outlinewidth": 0,
             "ticks": ""
            },
            "type": "contourcarpet"
           }
          ],
          "heatmap": [
           {
            "colorbar": {
             "outlinewidth": 0,
             "ticks": ""
            },
            "colorscale": [
             [
              0,
              "#0d0887"
             ],
             [
              0.1111111111111111,
              "#46039f"
             ],
             [
              0.2222222222222222,
              "#7201a8"
             ],
             [
              0.3333333333333333,
              "#9c179e"
             ],
             [
              0.4444444444444444,
              "#bd3786"
             ],
             [
              0.5555555555555556,
              "#d8576b"
             ],
             [
              0.6666666666666666,
              "#ed7953"
             ],
             [
              0.7777777777777778,
              "#fb9f3a"
             ],
             [
              0.8888888888888888,
              "#fdca26"
             ],
             [
              1,
              "#f0f921"
             ]
            ],
            "type": "heatmap"
           }
          ],
          "histogram": [
           {
            "marker": {
             "pattern": {
              "fillmode": "overlay",
              "size": 10,
              "solidity": 0.2
             }
            },
            "type": "histogram"
           }
          ],
          "histogram2d": [
           {
            "colorbar": {
             "outlinewidth": 0,
             "ticks": ""
            },
            "colorscale": [
             [
              0,
              "#0d0887"
             ],
             [
              0.1111111111111111,
              "#46039f"
             ],
             [
              0.2222222222222222,
              "#7201a8"
             ],
             [
              0.3333333333333333,
              "#9c179e"
             ],
             [
              0.4444444444444444,
              "#bd3786"
             ],
             [
              0.5555555555555556,
              "#d8576b"
             ],
             [
              0.6666666666666666,
              "#ed7953"
             ],
             [
              0.7777777777777778,
              "#fb9f3a"
             ],
             [
              0.8888888888888888,
              "#fdca26"
             ],
             [
              1,
              "#f0f921"
             ]
            ],
            "type": "histogram2d"
           }
          ],
          "histogram2dcontour": [
           {
            "colorbar": {
             "outlinewidth": 0,
             "ticks": ""
            },
            "colorscale": [
             [
              0,
              "#0d0887"
             ],
             [
              0.1111111111111111,
              "#46039f"
             ],
             [
              0.2222222222222222,
              "#7201a8"
             ],
             [
              0.3333333333333333,
              "#9c179e"
             ],
             [
              0.4444444444444444,
              "#bd3786"
             ],
             [
              0.5555555555555556,
              "#d8576b"
             ],
             [
              0.6666666666666666,
              "#ed7953"
             ],
             [
              0.7777777777777778,
              "#fb9f3a"
             ],
             [
              0.8888888888888888,
              "#fdca26"
             ],
             [
              1,
              "#f0f921"
             ]
            ],
            "type": "histogram2dcontour"
           }
          ],
          "mesh3d": [
           {
            "colorbar": {
             "outlinewidth": 0,
             "ticks": ""
            },
            "type": "mesh3d"
           }
          ],
          "parcoords": [
           {
            "line": {
             "colorbar": {
              "outlinewidth": 0,
              "ticks": ""
             }
            },
            "type": "parcoords"
           }
          ],
          "pie": [
           {
            "automargin": true,
            "type": "pie"
           }
          ],
          "scatter": [
           {
            "fillpattern": {
             "fillmode": "overlay",
             "size": 10,
             "solidity": 0.2
            },
            "type": "scatter"
           }
          ],
          "scatter3d": [
           {
            "line": {
             "colorbar": {
              "outlinewidth": 0,
              "ticks": ""
             }
            },
            "marker": {
             "colorbar": {
              "outlinewidth": 0,
              "ticks": ""
             }
            },
            "type": "scatter3d"
           }
          ],
          "scattercarpet": [
           {
            "marker": {
             "colorbar": {
              "outlinewidth": 0,
              "ticks": ""
             }
            },
            "type": "scattercarpet"
           }
          ],
          "scattergeo": [
           {
            "marker": {
             "colorbar": {
              "outlinewidth": 0,
              "ticks": ""
             }
            },
            "type": "scattergeo"
           }
          ],
          "scattergl": [
           {
            "marker": {
             "colorbar": {
              "outlinewidth": 0,
              "ticks": ""
             }
            },
            "type": "scattergl"
           }
          ],
          "scattermap": [
           {
            "marker": {
             "colorbar": {
              "outlinewidth": 0,
              "ticks": ""
             }
            },
            "type": "scattermap"
           }
          ],
          "scattermapbox": [
           {
            "marker": {
             "colorbar": {
              "outlinewidth": 0,
              "ticks": ""
             }
            },
            "type": "scattermapbox"
           }
          ],
          "scatterpolar": [
           {
            "marker": {
             "colorbar": {
              "outlinewidth": 0,
              "ticks": ""
             }
            },
            "type": "scatterpolar"
           }
          ],
          "scatterpolargl": [
           {
            "marker": {
             "colorbar": {
              "outlinewidth": 0,
              "ticks": ""
             }
            },
            "type": "scatterpolargl"
           }
          ],
          "scatterternary": [
           {
            "marker": {
             "colorbar": {
              "outlinewidth": 0,
              "ticks": ""
             }
            },
            "type": "scatterternary"
           }
          ],
          "surface": [
           {
            "colorbar": {
             "outlinewidth": 0,
             "ticks": ""
            },
            "colorscale": [
             [
              0,
              "#0d0887"
             ],
             [
              0.1111111111111111,
              "#46039f"
             ],
             [
              0.2222222222222222,
              "#7201a8"
             ],
             [
              0.3333333333333333,
              "#9c179e"
             ],
             [
              0.4444444444444444,
              "#bd3786"
             ],
             [
              0.5555555555555556,
              "#d8576b"
             ],
             [
              0.6666666666666666,
              "#ed7953"
             ],
             [
              0.7777777777777778,
              "#fb9f3a"
             ],
             [
              0.8888888888888888,
              "#fdca26"
             ],
             [
              1,
              "#f0f921"
             ]
            ],
            "type": "surface"
           }
          ],
          "table": [
           {
            "cells": {
             "fill": {
              "color": "#EBF0F8"
             },
             "line": {
              "color": "white"
             }
            },
            "header": {
             "fill": {
              "color": "#C8D4E3"
             },
             "line": {
              "color": "white"
             }
            },
            "type": "table"
           }
          ]
         },
         "layout": {
          "annotationdefaults": {
           "arrowcolor": "#2a3f5f",
           "arrowhead": 0,
           "arrowwidth": 1
          },
          "autotypenumbers": "strict",
          "coloraxis": {
           "colorbar": {
            "outlinewidth": 0,
            "ticks": ""
           }
          },
          "colorscale": {
           "diverging": [
            [
             0,
             "#8e0152"
            ],
            [
             0.1,
             "#c51b7d"
            ],
            [
             0.2,
             "#de77ae"
            ],
            [
             0.3,
             "#f1b6da"
            ],
            [
             0.4,
             "#fde0ef"
            ],
            [
             0.5,
             "#f7f7f7"
            ],
            [
             0.6,
             "#e6f5d0"
            ],
            [
             0.7,
             "#b8e186"
            ],
            [
             0.8,
             "#7fbc41"
            ],
            [
             0.9,
             "#4d9221"
            ],
            [
             1,
             "#276419"
            ]
           ],
           "sequential": [
            [
             0,
             "#0d0887"
            ],
            [
             0.1111111111111111,
             "#46039f"
            ],
            [
             0.2222222222222222,
             "#7201a8"
            ],
            [
             0.3333333333333333,
             "#9c179e"
            ],
            [
             0.4444444444444444,
             "#bd3786"
            ],
            [
             0.5555555555555556,
             "#d8576b"
            ],
            [
             0.6666666666666666,
             "#ed7953"
            ],
            [
             0.7777777777777778,
             "#fb9f3a"
            ],
            [
             0.8888888888888888,
             "#fdca26"
            ],
            [
             1,
             "#f0f921"
            ]
           ],
           "sequentialminus": [
            [
             0,
             "#0d0887"
            ],
            [
             0.1111111111111111,
             "#46039f"
            ],
            [
             0.2222222222222222,
             "#7201a8"
            ],
            [
             0.3333333333333333,
             "#9c179e"
            ],
            [
             0.4444444444444444,
             "#bd3786"
            ],
            [
             0.5555555555555556,
             "#d8576b"
            ],
            [
             0.6666666666666666,
             "#ed7953"
            ],
            [
             0.7777777777777778,
             "#fb9f3a"
            ],
            [
             0.8888888888888888,
             "#fdca26"
            ],
            [
             1,
             "#f0f921"
            ]
           ]
          },
          "colorway": [
           "#636efa",
           "#EF553B",
           "#00cc96",
           "#ab63fa",
           "#FFA15A",
           "#19d3f3",
           "#FF6692",
           "#B6E880",
           "#FF97FF",
           "#FECB52"
          ],
          "font": {
           "color": "#2a3f5f"
          },
          "geo": {
           "bgcolor": "white",
           "lakecolor": "white",
           "landcolor": "#E5ECF6",
           "showlakes": true,
           "showland": true,
           "subunitcolor": "white"
          },
          "hoverlabel": {
           "align": "left"
          },
          "hovermode": "closest",
          "mapbox": {
           "style": "light"
          },
          "paper_bgcolor": "white",
          "plot_bgcolor": "#E5ECF6",
          "polar": {
           "angularaxis": {
            "gridcolor": "white",
            "linecolor": "white",
            "ticks": ""
           },
           "bgcolor": "#E5ECF6",
           "radialaxis": {
            "gridcolor": "white",
            "linecolor": "white",
            "ticks": ""
           }
          },
          "scene": {
           "xaxis": {
            "backgroundcolor": "#E5ECF6",
            "gridcolor": "white",
            "gridwidth": 2,
            "linecolor": "white",
            "showbackground": true,
            "ticks": "",
            "zerolinecolor": "white"
           },
           "yaxis": {
            "backgroundcolor": "#E5ECF6",
            "gridcolor": "white",
            "gridwidth": 2,
            "linecolor": "white",
            "showbackground": true,
            "ticks": "",
            "zerolinecolor": "white"
           },
           "zaxis": {
            "backgroundcolor": "#E5ECF6",
            "gridcolor": "white",
            "gridwidth": 2,
            "linecolor": "white",
            "showbackground": true,
            "ticks": "",
            "zerolinecolor": "white"
           }
          },
          "shapedefaults": {
           "line": {
            "color": "#2a3f5f"
           }
          },
          "ternary": {
           "aaxis": {
            "gridcolor": "white",
            "linecolor": "white",
            "ticks": ""
           },
           "baxis": {
            "gridcolor": "white",
            "linecolor": "white",
            "ticks": ""
           },
           "bgcolor": "#E5ECF6",
           "caxis": {
            "gridcolor": "white",
            "linecolor": "white",
            "ticks": ""
           }
          },
          "title": {
           "x": 0.05
          },
          "xaxis": {
           "automargin": true,
           "gridcolor": "white",
           "linecolor": "white",
           "ticks": "",
           "title": {
            "standoff": 15
           },
           "zerolinecolor": "white",
           "zerolinewidth": 2
          },
          "yaxis": {
           "automargin": true,
           "gridcolor": "white",
           "linecolor": "white",
           "ticks": "",
           "title": {
            "standoff": 15
           },
           "zerolinecolor": "white",
           "zerolinewidth": 2
          }
         }
        },
        "title": {
         "text": "Распределение значений по полю kidhome"
        },
        "width": 400,
        "xaxis": {
         "title": {
          "text": "Значение"
         }
        },
        "yaxis": {
         "title": {
          "text": "Количество"
         }
        }
       }
      },
      "image/png": "[encoded data removed]"
     },
     "metadata": {},
     "output_type": "display_data"
    },
    {
     "name": "stdout",
     "output_type": "stream",
     "text": [
      "kidhome\n",
      "====================\n",
      "Среднее: 0.442\n",
      "Min: 0.000\n",
      "Max: 2.000\n",
      "Уникальные значения:\n",
      "[0 1 2]\n",
      "====================\n"
     ]
    }
   ],
   "source": [
    "describe_feature('kidhome')"
   ]
  },
  {
   "cell_type": "markdown",
   "id": "82c5c71d-cc66-486f-81dd-094d5e0ee811",
   "metadata": {},
   "source": [
    "`kidhome` - дискретный численный признак количества маленьких детей у клиента. Больше всего клиентов без маленьких детей - 1163, 808 клиента имеют одного маленького ребенка, и всего 41 клиент - 2 маленьких ребенка."
   ]
  },
  {
   "cell_type": "markdown",
   "id": "3ec943c0-612f-48f2-af6d-f8e1e51e6200",
   "metadata": {},
   "source": [
    "### 3.1.8. Признак `teenhome`"
   ]
  },
  {
   "cell_type": "markdown",
   "id": "d1597402-428a-4146-a3b1-d3b53e176ee5",
   "metadata": {},
   "source": [
    "Выведем описательную статистику призназа `teenhome`:"
   ]
  },
  {
   "cell_type": "code",
   "execution_count": 122,
   "id": "a56680c8-db37-4636-b769-f1f6cb508f2d",
   "metadata": {},
   "outputs": [
    {
     "data": {
      "application/vnd.plotly.v1+json": {
       "config": {
        "plotlyServerURL": "https://plot.ly"
       },
       "data": [
        {
         "type": "bar",
         "x": {
          "bdata": "AAEC",
          "dtype": "i1"
         },
         "y": {
          "bdata": "EQSaAzEA",
          "dtype": "i2"
         }
        }
       ],
       "layout": {
        "height": 350,
        "template": {
         "data": {
          "bar": [
           {
            "error_x": {
             "color": "#2a3f5f"
            },
            "error_y": {
             "color": "#2a3f5f"
            },
            "marker": {
             "line": {
              "color": "#E5ECF6",
              "width": 0.5
             },
             "pattern": {
              "fillmode": "overlay",
              "size": 10,
              "solidity": 0.2
             }
            },
            "type": "bar"
           }
          ],
          "barpolar": [
           {
            "marker": {
             "line": {
              "color": "#E5ECF6",
              "width": 0.5
             },
             "pattern": {
              "fillmode": "overlay",
              "size": 10,
              "solidity": 0.2
             }
            },
            "type": "barpolar"
           }
          ],
          "carpet": [
           {
            "aaxis": {
             "endlinecolor": "#2a3f5f",
             "gridcolor": "white",
             "linecolor": "white",
             "minorgridcolor": "white",
             "startlinecolor": "#2a3f5f"
            },
            "baxis": {
             "endlinecolor": "#2a3f5f",
             "gridcolor": "white",
             "linecolor": "white",
             "minorgridcolor": "white",
             "startlinecolor": "#2a3f5f"
            },
            "type": "carpet"
           }
          ],
          "choropleth": [
           {
            "colorbar": {
             "outlinewidth": 0,
             "ticks": ""
            },
            "type": "choropleth"
           }
          ],
          "contour": [
           {
            "colorbar": {
             "outlinewidth": 0,
             "ticks": ""
            },
            "colorscale": [
             [
              0,
              "#0d0887"
             ],
             [
              0.1111111111111111,
              "#46039f"
             ],
             [
              0.2222222222222222,
              "#7201a8"
             ],
             [
              0.3333333333333333,
              "#9c179e"
             ],
             [
              0.4444444444444444,
              "#bd3786"
             ],
             [
              0.5555555555555556,
              "#d8576b"
             ],
             [
              0.6666666666666666,
              "#ed7953"
             ],
             [
              0.7777777777777778,
              "#fb9f3a"
             ],
             [
              0.8888888888888888,
              "#fdca26"
             ],
             [
              1,
              "#f0f921"
             ]
            ],
            "type": "contour"
           }
          ],
          "contourcarpet": [
           {
            "colorbar": {
             "outlinewidth": 0,
             "ticks": ""
            },
            "type": "contourcarpet"
           }
          ],
          "heatmap": [
           {
            "colorbar": {
             "outlinewidth": 0,
             "ticks": ""
            },
            "colorscale": [
             [
              0,
              "#0d0887"
             ],
             [
              0.1111111111111111,
              "#46039f"
             ],
             [
              0.2222222222222222,
              "#7201a8"
             ],
             [
              0.3333333333333333,
              "#9c179e"
             ],
             [
              0.4444444444444444,
              "#bd3786"
             ],
             [
              0.5555555555555556,
              "#d8576b"
             ],
             [
              0.6666666666666666,
              "#ed7953"
             ],
             [
              0.7777777777777778,
              "#fb9f3a"
             ],
             [
              0.8888888888888888,
              "#fdca26"
             ],
             [
              1,
              "#f0f921"
             ]
            ],
            "type": "heatmap"
           }
          ],
          "histogram": [
           {
            "marker": {
             "pattern": {
              "fillmode": "overlay",
              "size": 10,
              "solidity": 0.2
             }
            },
            "type": "histogram"
           }
          ],
          "histogram2d": [
           {
            "colorbar": {
             "outlinewidth": 0,
             "ticks": ""
            },
            "colorscale": [
             [
              0,
              "#0d0887"
             ],
             [
              0.1111111111111111,
              "#46039f"
             ],
             [
              0.2222222222222222,
              "#7201a8"
             ],
             [
              0.3333333333333333,
              "#9c179e"
             ],
             [
              0.4444444444444444,
              "#bd3786"
             ],
             [
              0.5555555555555556,
              "#d8576b"
             ],
             [
              0.6666666666666666,
              "#ed7953"
             ],
             [
              0.7777777777777778,
              "#fb9f3a"
             ],
             [
              0.8888888888888888,
              "#fdca26"
             ],
             [
              1,
              "#f0f921"
             ]
            ],
            "type": "histogram2d"
           }
          ],
          "histogram2dcontour": [
           {
            "colorbar": {
             "outlinewidth": 0,
             "ticks": ""
            },
            "colorscale": [
             [
              0,
              "#0d0887"
             ],
             [
              0.1111111111111111,
              "#46039f"
             ],
             [
              0.2222222222222222,
              "#7201a8"
             ],
             [
              0.3333333333333333,
              "#9c179e"
             ],
             [
              0.4444444444444444,
              "#bd3786"
             ],
             [
              0.5555555555555556,
              "#d8576b"
             ],
             [
              0.6666666666666666,
              "#ed7953"
             ],
             [
              0.7777777777777778,
              "#fb9f3a"
             ],
             [
              0.8888888888888888,
              "#fdca26"
             ],
             [
              1,
              "#f0f921"
             ]
            ],
            "type": "histogram2dcontour"
           }
          ],
          "mesh3d": [
           {
            "colorbar": {
             "outlinewidth": 0,
             "ticks": ""
            },
            "type": "mesh3d"
           }
          ],
          "parcoords": [
           {
            "line": {
             "colorbar": {
              "outlinewidth": 0,
              "ticks": ""
             }
            },
            "type": "parcoords"
           }
          ],
          "pie": [
           {
            "automargin": true,
            "type": "pie"
           }
          ],
          "scatter": [
           {
            "fillpattern": {
             "fillmode": "overlay",
             "size": 10,
             "solidity": 0.2
            },
            "type": "scatter"
           }
          ],
          "scatter3d": [
           {
            "line": {
             "colorbar": {
              "outlinewidth": 0,
              "ticks": ""
             }
            },
            "marker": {
             "colorbar": {
              "outlinewidth": 0,
              "ticks": ""
             }
            },
            "type": "scatter3d"
           }
          ],
          "scattercarpet": [
           {
            "marker": {
             "colorbar": {
              "outlinewidth": 0,
              "ticks": ""
             }
            },
            "type": "scattercarpet"
           }
          ],
          "scattergeo": [
           {
            "marker": {
             "colorbar": {
              "outlinewidth": 0,
              "ticks": ""
             }
            },
            "type": "scattergeo"
           }
          ],
          "scattergl": [
           {
            "marker": {
             "colorbar": {
              "outlinewidth": 0,
              "ticks": ""
             }
            },
            "type": "scattergl"
           }
          ],
          "scattermap": [
           {
            "marker": {
             "colorbar": {
              "outlinewidth": 0,
              "ticks": ""
             }
            },
            "type": "scattermap"
           }
          ],
          "scattermapbox": [
           {
            "marker": {
             "colorbar": {
              "outlinewidth": 0,
              "ticks": ""
             }
            },
            "type": "scattermapbox"
           }
          ],
          "scatterpolar": [
           {
            "marker": {
             "colorbar": {
              "outlinewidth": 0,
              "ticks": ""
             }
            },
            "type": "scatterpolar"
           }
          ],
          "scatterpolargl": [
           {
            "marker": {
             "colorbar": {
              "outlinewidth": 0,
              "ticks": ""
             }
            },
            "type": "scatterpolargl"
           }
          ],
          "scatterternary": [
           {
            "marker": {
             "colorbar": {
              "outlinewidth": 0,
              "ticks": ""
             }
            },
            "type": "scatterternary"
           }
          ],
          "surface": [
           {
            "colorbar": {
             "outlinewidth": 0,
             "ticks": ""
            },
            "colorscale": [
             [
              0,
              "#0d0887"
             ],
             [
              0.1111111111111111,
              "#46039f"
             ],
             [
              0.2222222222222222,
              "#7201a8"
             ],
             [
              0.3333333333333333,
              "#9c179e"
             ],
             [
              0.4444444444444444,
              "#bd3786"
             ],
             [
              0.5555555555555556,
              "#d8576b"
             ],
             [
              0.6666666666666666,
              "#ed7953"
             ],
             [
              0.7777777777777778,
              "#fb9f3a"
             ],
             [
              0.8888888888888888,
              "#fdca26"
             ],
             [
              1,
              "#f0f921"
             ]
            ],
            "type": "surface"
           }
          ],
          "table": [
           {
            "cells": {
             "fill": {
              "color": "#EBF0F8"
             },
             "line": {
              "color": "white"
             }
            },
            "header": {
             "fill": {
              "color": "#C8D4E3"
             },
             "line": {
              "color": "white"
             }
            },
            "type": "table"
           }
          ]
         },
         "layout": {
          "annotationdefaults": {
           "arrowcolor": "#2a3f5f",
           "arrowhead": 0,
           "arrowwidth": 1
          },
          "autotypenumbers": "strict",
          "coloraxis": {
           "colorbar": {
            "outlinewidth": 0,
            "ticks": ""
           }
          },
          "colorscale": {
           "diverging": [
            [
             0,
             "#8e0152"
            ],
            [
             0.1,
             "#c51b7d"
            ],
            [
             0.2,
             "#de77ae"
            ],
            [
             0.3,
             "#f1b6da"
            ],
            [
             0.4,
             "#fde0ef"
            ],
            [
             0.5,
             "#f7f7f7"
            ],
            [
             0.6,
             "#e6f5d0"
            ],
            [
             0.7,
             "#b8e186"
            ],
            [
             0.8,
             "#7fbc41"
            ],
            [
             0.9,
             "#4d9221"
            ],
            [
             1,
             "#276419"
            ]
           ],
           "sequential": [
            [
             0,
             "#0d0887"
            ],
            [
             0.1111111111111111,
             "#46039f"
            ],
            [
             0.2222222222222222,
             "#7201a8"
            ],
            [
             0.3333333333333333,
             "#9c179e"
            ],
            [
             0.4444444444444444,
             "#bd3786"
            ],
            [
             0.5555555555555556,
             "#d8576b"
            ],
            [
             0.6666666666666666,
             "#ed7953"
            ],
            [
             0.7777777777777778,
             "#fb9f3a"
            ],
            [
             0.8888888888888888,
             "#fdca26"
            ],
            [
             1,
             "#f0f921"
            ]
           ],
           "sequentialminus": [
            [
             0,
             "#0d0887"
            ],
            [
             0.1111111111111111,
             "#46039f"
            ],
            [
             0.2222222222222222,
             "#7201a8"
            ],
            [
             0.3333333333333333,
             "#9c179e"
            ],
            [
             0.4444444444444444,
             "#bd3786"
            ],
            [
             0.5555555555555556,
             "#d8576b"
            ],
            [
             0.6666666666666666,
             "#ed7953"
            ],
            [
             0.7777777777777778,
             "#fb9f3a"
            ],
            [
             0.8888888888888888,
             "#fdca26"
            ],
            [
             1,
             "#f0f921"
            ]
           ]
          },
          "colorway": [
           "#636efa",
           "#EF553B",
           "#00cc96",
           "#ab63fa",
           "#FFA15A",
           "#19d3f3",
           "#FF6692",
           "#B6E880",
           "#FF97FF",
           "#FECB52"
          ],
          "font": {
           "color": "#2a3f5f"
          },
          "geo": {
           "bgcolor": "white",
           "lakecolor": "white",
           "landcolor": "#E5ECF6",
           "showlakes": true,
           "showland": true,
           "subunitcolor": "white"
          },
          "hoverlabel": {
           "align": "left"
          },
          "hovermode": "closest",
          "mapbox": {
           "style": "light"
          },
          "paper_bgcolor": "white",
          "plot_bgcolor": "#E5ECF6",
          "polar": {
           "angularaxis": {
            "gridcolor": "white",
            "linecolor": "white",
            "ticks": ""
           },
           "bgcolor": "#E5ECF6",
           "radialaxis": {
            "gridcolor": "white",
            "linecolor": "white",
            "ticks": ""
           }
          },
          "scene": {
           "xaxis": {
            "backgroundcolor": "#E5ECF6",
            "gridcolor": "white",
            "gridwidth": 2,
            "linecolor": "white",
            "showbackground": true,
            "ticks": "",
            "zerolinecolor": "white"
           },
           "yaxis": {
            "backgroundcolor": "#E5ECF6",
            "gridcolor": "white",
            "gridwidth": 2,
            "linecolor": "white",
            "showbackground": true,
            "ticks": "",
            "zerolinecolor": "white"
           },
           "zaxis": {
            "backgroundcolor": "#E5ECF6",
            "gridcolor": "white",
            "gridwidth": 2,
            "linecolor": "white",
            "showbackground": true,
            "ticks": "",
            "zerolinecolor": "white"
           }
          },
          "shapedefaults": {
           "line": {
            "color": "#2a3f5f"
           }
          },
          "ternary": {
           "aaxis": {
            "gridcolor": "white",
            "linecolor": "white",
            "ticks": ""
           },
           "baxis": {
            "gridcolor": "white",
            "linecolor": "white",
            "ticks": ""
           },
           "bgcolor": "#E5ECF6",
           "caxis": {
            "gridcolor": "white",
            "linecolor": "white",
            "ticks": ""
           }
          },
          "title": {
           "x": 0.05
          },
          "xaxis": {
           "automargin": true,
           "gridcolor": "white",
           "linecolor": "white",
           "ticks": "",
           "title": {
            "standoff": 15
           },
           "zerolinecolor": "white",
           "zerolinewidth": 2
          },
          "yaxis": {
           "automargin": true,
           "gridcolor": "white",
           "linecolor": "white",
           "ticks": "",
           "title": {
            "standoff": 15
           },
           "zerolinecolor": "white",
           "zerolinewidth": 2
          }
         }
        },
        "title": {
         "text": "Распределение значений по полю teenhome"
        },
        "width": 400,
        "xaxis": {
         "title": {
          "text": "Значение"
         }
        },
        "yaxis": {
         "title": {
          "text": "Количество"
         }
        }
       }
      },
      "image/png": "[encoded data removed]"
     },
     "metadata": {},
     "output_type": "display_data"
    },
    {
     "name": "stdout",
     "output_type": "stream",
     "text": [
      "teenhome\n",
      "====================\n",
      "Среднее: 0.507\n",
      "Min: 0.000\n",
      "Max: 2.000\n",
      "Уникальные значения:\n",
      "[0 1 2]\n",
      "====================\n"
     ]
    }
   ],
   "source": [
    "describe_feature('teenhome')"
   ]
  },
  {
   "cell_type": "markdown",
   "id": "d59c021e-9f9d-41fc-9904-b0cf1e74dae4",
   "metadata": {},
   "source": [
    "`teenhome` - дискретный численный признак количества детей-подростков у клиента. Распределение похоже на показатель наличия маленьких детей. Больше всего клиентов без детей подростков - 1041, 922 клиента имеют одного ребенка-подростка, и всего 49 клиентов - 2 ребенка-подростка."
   ]
  },
  {
   "cell_type": "markdown",
   "id": "14bbe02a-79eb-4988-bb8a-72973cebb359",
   "metadata": {},
   "source": [
    "### 3.1.9. Признак `children_total`"
   ]
  },
  {
   "cell_type": "markdown",
   "id": "90a3952d-5c5d-4e5e-8196-f65515fc90a0",
   "metadata": {},
   "source": [
    "Выведем описательную статистику призназа `children_total`:"
   ]
  },
  {
   "cell_type": "code",
   "execution_count": 123,
   "id": "1498d6fe-0d04-4828-9669-5eb566b776df",
   "metadata": {},
   "outputs": [
    {
     "data": {
      "application/vnd.plotly.v1+json": {
       "config": {
        "plotlyServerURL": "https://plot.ly"
       },
       "data": [
        {
         "type": "bar",
         "x": {
          "bdata": "AQACAw==",
          "dtype": "i1"
         },
         "y": {
          "bdata": "/wM4AngBLQA=",
          "dtype": "i2"
         }
        }
       ],
       "layout": {
        "height": 350,
        "template": {
         "data": {
          "bar": [
           {
            "error_x": {
             "color": "#2a3f5f"
            },
            "error_y": {
             "color": "#2a3f5f"
            },
            "marker": {
             "line": {
              "color": "#E5ECF6",
              "width": 0.5
             },
             "pattern": {
              "fillmode": "overlay",
              "size": 10,
              "solidity": 0.2
             }
            },
            "type": "bar"
           }
          ],
          "barpolar": [
           {
            "marker": {
             "line": {
              "color": "#E5ECF6",
              "width": 0.5
             },
             "pattern": {
              "fillmode": "overlay",
              "size": 10,
              "solidity": 0.2
             }
            },
            "type": "barpolar"
           }
          ],
          "carpet": [
           {
            "aaxis": {
             "endlinecolor": "#2a3f5f",
             "gridcolor": "white",
             "linecolor": "white",
             "minorgridcolor": "white",
             "startlinecolor": "#2a3f5f"
            },
            "baxis": {
             "endlinecolor": "#2a3f5f",
             "gridcolor": "white",
             "linecolor": "white",
             "minorgridcolor": "white",
             "startlinecolor": "#2a3f5f"
            },
            "type": "carpet"
           }
          ],
          "choropleth": [
           {
            "colorbar": {
             "outlinewidth": 0,
             "ticks": ""
            },
            "type": "choropleth"
           }
          ],
          "contour": [
           {
            "colorbar": {
             "outlinewidth": 0,
             "ticks": ""
            },
            "colorscale": [
             [
              0,
              "#0d0887"
             ],
             [
              0.1111111111111111,
              "#46039f"
             ],
             [
              0.2222222222222222,
              "#7201a8"
             ],
             [
              0.3333333333333333,
              "#9c179e"
             ],
             [
              0.4444444444444444,
              "#bd3786"
             ],
             [
              0.5555555555555556,
              "#d8576b"
             ],
             [
              0.6666666666666666,
              "#ed7953"
             ],
             [
              0.7777777777777778,
              "#fb9f3a"
             ],
             [
              0.8888888888888888,
              "#fdca26"
             ],
             [
              1,
              "#f0f921"
             ]
            ],
            "type": "contour"
           }
          ],
          "contourcarpet": [
           {
            "colorbar": {
             "outlinewidth": 0,
             "ticks": ""
            },
            "type": "contourcarpet"
           }
          ],
          "heatmap": [
           {
            "colorbar": {
             "outlinewidth": 0,
             "ticks": ""
            },
            "colorscale": [
             [
              0,
              "#0d0887"
             ],
             [
              0.1111111111111111,
              "#46039f"
             ],
             [
              0.2222222222222222,
              "#7201a8"
             ],
             [
              0.3333333333333333,
              "#9c179e"
             ],
             [
              0.4444444444444444,
              "#bd3786"
             ],
             [
              0.5555555555555556,
              "#d8576b"
             ],
             [
              0.6666666666666666,
              "#ed7953"
             ],
             [
              0.7777777777777778,
              "#fb9f3a"
             ],
             [
              0.8888888888888888,
              "#fdca26"
             ],
             [
              1,
              "#f0f921"
             ]
            ],
            "type": "heatmap"
           }
          ],
          "histogram": [
           {
            "marker": {
             "pattern": {
              "fillmode": "overlay",
              "size": 10,
              "solidity": 0.2
             }
            },
            "type": "histogram"
           }
          ],
          "histogram2d": [
           {
            "colorbar": {
             "outlinewidth": 0,
             "ticks": ""
            },
            "colorscale": [
             [
              0,
              "#0d0887"
             ],
             [
              0.1111111111111111,
              "#46039f"
             ],
             [
              0.2222222222222222,
              "#7201a8"
             ],
             [
              0.3333333333333333,
              "#9c179e"
             ],
             [
              0.4444444444444444,
              "#bd3786"
             ],
             [
              0.5555555555555556,
              "#d8576b"
             ],
             [
              0.6666666666666666,
              "#ed7953"
             ],
             [
              0.7777777777777778,
              "#fb9f3a"
             ],
             [
              0.8888888888888888,
              "#fdca26"
             ],
             [
              1,
              "#f0f921"
             ]
            ],
            "type": "histogram2d"
           }
          ],
          "histogram2dcontour": [
           {
            "colorbar": {
             "outlinewidth": 0,
             "ticks": ""
            },
            "colorscale": [
             [
              0,
              "#0d0887"
             ],
             [
              0.1111111111111111,
              "#46039f"
             ],
             [
              0.2222222222222222,
              "#7201a8"
             ],
             [
              0.3333333333333333,
              "#9c179e"
             ],
             [
              0.4444444444444444,
              "#bd3786"
             ],
             [
              0.5555555555555556,
              "#d8576b"
             ],
             [
              0.6666666666666666,
              "#ed7953"
             ],
             [
              0.7777777777777778,
              "#fb9f3a"
             ],
             [
              0.8888888888888888,
              "#fdca26"
             ],
             [
              1,
              "#f0f921"
             ]
            ],
            "type": "histogram2dcontour"
           }
          ],
          "mesh3d": [
           {
            "colorbar": {
             "outlinewidth": 0,
             "ticks": ""
            },
            "type": "mesh3d"
           }
          ],
          "parcoords": [
           {
            "line": {
             "colorbar": {
              "outlinewidth": 0,
              "ticks": ""
             }
            },
            "type": "parcoords"
           }
          ],
          "pie": [
           {
            "automargin": true,
            "type": "pie"
           }
          ],
          "scatter": [
           {
            "fillpattern": {
             "fillmode": "overlay",
             "size": 10,
             "solidity": 0.2
            },
            "type": "scatter"
           }
          ],
          "scatter3d": [
           {
            "line": {
             "colorbar": {
              "outlinewidth": 0,
              "ticks": ""
             }
            },
            "marker": {
             "colorbar": {
              "outlinewidth": 0,
              "ticks": ""
             }
            },
            "type": "scatter3d"
           }
          ],
          "scattercarpet": [
           {
            "marker": {
             "colorbar": {
              "outlinewidth": 0,
              "ticks": ""
             }
            },
            "type": "scattercarpet"
           }
          ],
          "scattergeo": [
           {
            "marker": {
             "colorbar": {
              "outlinewidth": 0,
              "ticks": ""
             }
            },
            "type": "scattergeo"
           }
          ],
          "scattergl": [
           {
            "marker": {
             "colorbar": {
              "outlinewidth": 0,
              "ticks": ""
             }
            },
            "type": "scattergl"
           }
          ],
          "scattermap": [
           {
            "marker": {
             "colorbar": {
              "outlinewidth": 0,
              "ticks": ""
             }
            },
            "type": "scattermap"
           }
          ],
          "scattermapbox": [
           {
            "marker": {
             "colorbar": {
              "outlinewidth": 0,
              "ticks": ""
             }
            },
            "type": "scattermapbox"
           }
          ],
          "scatterpolar": [
           {
            "marker": {
             "colorbar": {
              "outlinewidth": 0,
              "ticks": ""
             }
            },
            "type": "scatterpolar"
           }
          ],
          "scatterpolargl": [
           {
            "marker": {
             "colorbar": {
              "outlinewidth": 0,
              "ticks": ""
             }
            },
            "type": "scatterpolargl"
           }
          ],
          "scatterternary": [
           {
            "marker": {
             "colorbar": {
              "outlinewidth": 0,
              "ticks": ""
             }
            },
            "type": "scatterternary"
           }
          ],
          "surface": [
           {
            "colorbar": {
             "outlinewidth": 0,
             "ticks": ""
            },
            "colorscale": [
             [
              0,
              "#0d0887"
             ],
             [
              0.1111111111111111,
              "#46039f"
             ],
             [
              0.2222222222222222,
              "#7201a8"
             ],
             [
              0.3333333333333333,
              "#9c179e"
             ],
             [
              0.4444444444444444,
              "#bd3786"
             ],
             [
              0.5555555555555556,
              "#d8576b"
             ],
             [
              0.6666666666666666,
              "#ed7953"
             ],
             [
              0.7777777777777778,
              "#fb9f3a"
             ],
             [
              0.8888888888888888,
              "#fdca26"
             ],
             [
              1,
              "#f0f921"
             ]
            ],
            "type": "surface"
           }
          ],
          "table": [
           {
            "cells": {
             "fill": {
              "color": "#EBF0F8"
             },
             "line": {
              "color": "white"
             }
            },
            "header": {
             "fill": {
              "color": "#C8D4E3"
             },
             "line": {
              "color": "white"
             }
            },
            "type": "table"
           }
          ]
         },
         "layout": {
          "annotationdefaults": {
           "arrowcolor": "#2a3f5f",
           "arrowhead": 0,
           "arrowwidth": 1
          },
          "autotypenumbers": "strict",
          "coloraxis": {
           "colorbar": {
            "outlinewidth": 0,
            "ticks": ""
           }
          },
          "colorscale": {
           "diverging": [
            [
             0,
             "#8e0152"
            ],
            [
             0.1,
             "#c51b7d"
            ],
            [
             0.2,
             "#de77ae"
            ],
            [
             0.3,
             "#f1b6da"
            ],
            [
             0.4,
             "#fde0ef"
            ],
            [
             0.5,
             "#f7f7f7"
            ],
            [
             0.6,
             "#e6f5d0"
            ],
            [
             0.7,
             "#b8e186"
            ],
            [
             0.8,
             "#7fbc41"
            ],
            [
             0.9,
             "#4d9221"
            ],
            [
             1,
             "#276419"
            ]
           ],
           "sequential": [
            [
             0,
             "#0d0887"
            ],
            [
             0.1111111111111111,
             "#46039f"
            ],
            [
             0.2222222222222222,
             "#7201a8"
            ],
            [
             0.3333333333333333,
             "#9c179e"
            ],
            [
             0.4444444444444444,
             "#bd3786"
            ],
            [
             0.5555555555555556,
             "#d8576b"
            ],
            [
             0.6666666666666666,
             "#ed7953"
            ],
            [
             0.7777777777777778,
             "#fb9f3a"
            ],
            [
             0.8888888888888888,
             "#fdca26"
            ],
            [
             1,
             "#f0f921"
            ]
           ],
           "sequentialminus": [
            [
             0,
             "#0d0887"
            ],
            [
             0.1111111111111111,
             "#46039f"
            ],
            [
             0.2222222222222222,
             "#7201a8"
            ],
            [
             0.3333333333333333,
             "#9c179e"
            ],
            [
             0.4444444444444444,
             "#bd3786"
            ],
            [
             0.5555555555555556,
             "#d8576b"
            ],
            [
             0.6666666666666666,
             "#ed7953"
            ],
            [
             0.7777777777777778,
             "#fb9f3a"
            ],
            [
             0.8888888888888888,
             "#fdca26"
            ],
            [
             1,
             "#f0f921"
            ]
           ]
          },
          "colorway": [
           "#636efa",
           "#EF553B",
           "#00cc96",
           "#ab63fa",
           "#FFA15A",
           "#19d3f3",
           "#FF6692",
           "#B6E880",
           "#FF97FF",
           "#FECB52"
          ],
          "font": {
           "color": "#2a3f5f"
          },
          "geo": {
           "bgcolor": "white",
           "lakecolor": "white",
           "landcolor": "#E5ECF6",
           "showlakes": true,
           "showland": true,
           "subunitcolor": "white"
          },
          "hoverlabel": {
           "align": "left"
          },
          "hovermode": "closest",
          "mapbox": {
           "style": "light"
          },
          "paper_bgcolor": "white",
          "plot_bgcolor": "#E5ECF6",
          "polar": {
           "angularaxis": {
            "gridcolor": "white",
            "linecolor": "white",
            "ticks": ""
           },
           "bgcolor": "#E5ECF6",
           "radialaxis": {
            "gridcolor": "white",
            "linecolor": "white",
            "ticks": ""
           }
          },
          "scene": {
           "xaxis": {
            "backgroundcolor": "#E5ECF6",
            "gridcolor": "white",
            "gridwidth": 2,
            "linecolor": "white",
            "showbackground": true,
            "ticks": "",
            "zerolinecolor": "white"
           },
           "yaxis": {
            "backgroundcolor": "#E5ECF6",
            "gridcolor": "white",
            "gridwidth": 2,
            "linecolor": "white",
            "showbackground": true,
            "ticks": "",
            "zerolinecolor": "white"
           },
           "zaxis": {
            "backgroundcolor": "#E5ECF6",
            "gridcolor": "white",
            "gridwidth": 2,
            "linecolor": "white",
            "showbackground": true,
            "ticks": "",
            "zerolinecolor": "white"
           }
          },
          "shapedefaults": {
           "line": {
            "color": "#2a3f5f"
           }
          },
          "ternary": {
           "aaxis": {
            "gridcolor": "white",
            "linecolor": "white",
            "ticks": ""
           },
           "baxis": {
            "gridcolor": "white",
            "linecolor": "white",
            "ticks": ""
           },
           "bgcolor": "#E5ECF6",
           "caxis": {
            "gridcolor": "white",
            "linecolor": "white",
            "ticks": ""
           }
          },
          "title": {
           "x": 0.05
          },
          "xaxis": {
           "automargin": true,
           "gridcolor": "white",
           "linecolor": "white",
           "ticks": "",
           "title": {
            "standoff": 15
           },
           "zerolinecolor": "white",
           "zerolinewidth": 2
          },
          "yaxis": {
           "automargin": true,
           "gridcolor": "white",
           "linecolor": "white",
           "ticks": "",
           "title": {
            "standoff": 15
           },
           "zerolinecolor": "white",
           "zerolinewidth": 2
          }
         }
        },
        "title": {
         "text": "Распределение значений по полю children_total"
        },
        "width": 400,
        "xaxis": {
         "title": {
          "text": "Значение"
         }
        },
        "yaxis": {
         "title": {
          "text": "Количество"
         }
        }
       }
      },
      "image/png": "[encoded data removed]"
     },
     "metadata": {},
     "output_type": "display_data"
    },
    {
     "name": "stdout",
     "output_type": "stream",
     "text": [
      "children_total\n",
      "====================\n",
      "Среднее: 0.949\n",
      "Min: 0.000\n",
      "Max: 3.000\n",
      "Уникальные значения:\n",
      "[0 1 2 3]\n",
      "====================\n"
     ]
    }
   ],
   "source": [
    "describe_feature('children_total')"
   ]
  },
  {
   "cell_type": "markdown",
   "id": "414e58a4-fcb9-4c14-aff2-ad64c1f97526",
   "metadata": {},
   "source": [
    "`children_total` - дискретный численный признак общего количества детей у клиентов, добавленный при обогащении данных. Больше всего клиентов, имеющих одного ребенка (1023), на втором месте клиенты без детей - 568, три ребенка - самое редкое явление - всего 45 клиентов"
   ]
  },
  {
   "cell_type": "markdown",
   "id": "5af3d629-5f84-4e7b-b1b9-fa323b8c07ba",
   "metadata": {},
   "source": [
    "### 3.1.10. Признак `is_parent`"
   ]
  },
  {
   "cell_type": "markdown",
   "id": "64429be9-055c-42a2-808a-16a4d97cee25",
   "metadata": {},
   "source": [
    "Выведем описательную статистику призназа `is_parent`:"
   ]
  },
  {
   "cell_type": "code",
   "execution_count": 117,
   "id": "bef0d472-39d2-4013-a6a3-006e939f5165",
   "metadata": {},
   "outputs": [
    {
     "data": {
      "application/vnd.plotly.v1+json": {
       "config": {
        "plotlyServerURL": "https://plot.ly"
       },
       "data": [
        {
         "type": "bar",
         "x": {
          "bdata": "AQA=",
          "dtype": "i1"
         },
         "y": {
          "bdata": "pAU4Ag==",
          "dtype": "i2"
         }
        }
       ],
       "layout": {
        "height": 350,
        "template": {
         "data": {
          "bar": [
           {
            "error_x": {
             "color": "#2a3f5f"
            },
            "error_y": {
             "color": "#2a3f5f"
            },
            "marker": {
             "line": {
              "color": "#E5ECF6",
              "width": 0.5
             },
             "pattern": {
              "fillmode": "overlay",
              "size": 10,
              "solidity": 0.2
             }
            },
            "type": "bar"
           }
          ],
          "barpolar": [
           {
            "marker": {
             "line": {
              "color": "#E5ECF6",
              "width": 0.5
             },
             "pattern": {
              "fillmode": "overlay",
              "size": 10,
              "solidity": 0.2
             }
            },
            "type": "barpolar"
           }
          ],
          "carpet": [
           {
            "aaxis": {
             "endlinecolor": "#2a3f5f",
             "gridcolor": "white",
             "linecolor": "white",
             "minorgridcolor": "white",
             "startlinecolor": "#2a3f5f"
            },
            "baxis": {
             "endlinecolor": "#2a3f5f",
             "gridcolor": "white",
             "linecolor": "white",
             "minorgridcolor": "white",
             "startlinecolor": "#2a3f5f"
            },
            "type": "carpet"
           }
          ],
          "choropleth": [
           {
            "colorbar": {
             "outlinewidth": 0,
             "ticks": ""
            },
            "type": "choropleth"
           }
          ],
          "contour": [
           {
            "colorbar": {
             "outlinewidth": 0,
             "ticks": ""
            },
            "colorscale": [
             [
              0,
              "#0d0887"
             ],
             [
              0.1111111111111111,
              "#46039f"
             ],
             [
              0.2222222222222222,
              "#7201a8"
             ],
             [
              0.3333333333333333,
              "#9c179e"
             ],
             [
              0.4444444444444444,
              "#bd3786"
             ],
             [
              0.5555555555555556,
              "#d8576b"
             ],
             [
              0.6666666666666666,
              "#ed7953"
             ],
             [
              0.7777777777777778,
              "#fb9f3a"
             ],
             [
              0.8888888888888888,
              "#fdca26"
             ],
             [
              1,
              "#f0f921"
             ]
            ],
            "type": "contour"
           }
          ],
          "contourcarpet": [
           {
            "colorbar": {
             "outlinewidth": 0,
             "ticks": ""
            },
            "type": "contourcarpet"
           }
          ],
          "heatmap": [
           {
            "colorbar": {
             "outlinewidth": 0,
             "ticks": ""
            },
            "colorscale": [
             [
              0,
              "#0d0887"
             ],
             [
              0.1111111111111111,
              "#46039f"
             ],
             [
              0.2222222222222222,
              "#7201a8"
             ],
             [
              0.3333333333333333,
              "#9c179e"
             ],
             [
              0.4444444444444444,
              "#bd3786"
             ],
             [
              0.5555555555555556,
              "#d8576b"
             ],
             [
              0.6666666666666666,
              "#ed7953"
             ],
             [
              0.7777777777777778,
              "#fb9f3a"
             ],
             [
              0.8888888888888888,
              "#fdca26"
             ],
             [
              1,
              "#f0f921"
             ]
            ],
            "type": "heatmap"
           }
          ],
          "histogram": [
           {
            "marker": {
             "pattern": {
              "fillmode": "overlay",
              "size": 10,
              "solidity": 0.2
             }
            },
            "type": "histogram"
           }
          ],
          "histogram2d": [
           {
            "colorbar": {
             "outlinewidth": 0,
             "ticks": ""
            },
            "colorscale": [
             [
              0,
              "#0d0887"
             ],
             [
              0.1111111111111111,
              "#46039f"
             ],
             [
              0.2222222222222222,
              "#7201a8"
             ],
             [
              0.3333333333333333,
              "#9c179e"
             ],
             [
              0.4444444444444444,
              "#bd3786"
             ],
             [
              0.5555555555555556,
              "#d8576b"
             ],
             [
              0.6666666666666666,
              "#ed7953"
             ],
             [
              0.7777777777777778,
              "#fb9f3a"
             ],
             [
              0.8888888888888888,
              "#fdca26"
             ],
             [
              1,
              "#f0f921"
             ]
            ],
            "type": "histogram2d"
           }
          ],
          "histogram2dcontour": [
           {
            "colorbar": {
             "outlinewidth": 0,
             "ticks": ""
            },
            "colorscale": [
             [
              0,
              "#0d0887"
             ],
             [
              0.1111111111111111,
              "#46039f"
             ],
             [
              0.2222222222222222,
              "#7201a8"
             ],
             [
              0.3333333333333333,
              "#9c179e"
             ],
             [
              0.4444444444444444,
              "#bd3786"
             ],
             [
              0.5555555555555556,
              "#d8576b"
             ],
             [
              0.6666666666666666,
              "#ed7953"
             ],
             [
              0.7777777777777778,
              "#fb9f3a"
             ],
             [
              0.8888888888888888,
              "#fdca26"
             ],
             [
              1,
              "#f0f921"
             ]
            ],
            "type": "histogram2dcontour"
           }
          ],
          "mesh3d": [
           {
            "colorbar": {
             "outlinewidth": 0,
             "ticks": ""
            },
            "type": "mesh3d"
           }
          ],
          "parcoords": [
           {
            "line": {
             "colorbar": {
              "outlinewidth": 0,
              "ticks": ""
             }
            },
            "type": "parcoords"
           }
          ],
          "pie": [
           {
            "automargin": true,
            "type": "pie"
           }
          ],
          "scatter": [
           {
            "fillpattern": {
             "fillmode": "overlay",
             "size": 10,
             "solidity": 0.2
            },
            "type": "scatter"
           }
          ],
          "scatter3d": [
           {
            "line": {
             "colorbar": {
              "outlinewidth": 0,
              "ticks": ""
             }
            },
            "marker": {
             "colorbar": {
              "outlinewidth": 0,
              "ticks": ""
             }
            },
            "type": "scatter3d"
           }
          ],
          "scattercarpet": [
           {
            "marker": {
             "colorbar": {
              "outlinewidth": 0,
              "ticks": ""
             }
            },
            "type": "scattercarpet"
           }
          ],
          "scattergeo": [
           {
            "marker": {
             "colorbar": {
              "outlinewidth": 0,
              "ticks": ""
             }
            },
            "type": "scattergeo"
           }
          ],
          "scattergl": [
           {
            "marker": {
             "colorbar": {
              "outlinewidth": 0,
              "ticks": ""
             }
            },
            "type": "scattergl"
           }
          ],
          "scattermap": [
           {
            "marker": {
             "colorbar": {
              "outlinewidth": 0,
              "ticks": ""
             }
            },
            "type": "scattermap"
           }
          ],
          "scattermapbox": [
           {
            "marker": {
             "colorbar": {
              "outlinewidth": 0,
              "ticks": ""
             }
            },
            "type": "scattermapbox"
           }
          ],
          "scatterpolar": [
           {
            "marker": {
             "colorbar": {
              "outlinewidth": 0,
              "ticks": ""
             }
            },
            "type": "scatterpolar"
           }
          ],
          "scatterpolargl": [
           {
            "marker": {
             "colorbar": {
              "outlinewidth": 0,
              "ticks": ""
             }
            },
            "type": "scatterpolargl"
           }
          ],
          "scatterternary": [
           {
            "marker": {
             "colorbar": {
              "outlinewidth": 0,
              "ticks": ""
             }
            },
            "type": "scatterternary"
           }
          ],
          "surface": [
           {
            "colorbar": {
             "outlinewidth": 0,
             "ticks": ""
            },
            "colorscale": [
             [
              0,
              "#0d0887"
             ],
             [
              0.1111111111111111,
              "#46039f"
             ],
             [
              0.2222222222222222,
              "#7201a8"
             ],
             [
              0.3333333333333333,
              "#9c179e"
             ],
             [
              0.4444444444444444,
              "#bd3786"
             ],
             [
              0.5555555555555556,
              "#d8576b"
             ],
             [
              0.6666666666666666,
              "#ed7953"
             ],
             [
              0.7777777777777778,
              "#fb9f3a"
             ],
             [
              0.8888888888888888,
              "#fdca26"
             ],
             [
              1,
              "#f0f921"
             ]
            ],
            "type": "surface"
           }
          ],
          "table": [
           {
            "cells": {
             "fill": {
              "color": "#EBF0F8"
             },
             "line": {
              "color": "white"
             }
            },
            "header": {
             "fill": {
              "color": "#C8D4E3"
             },
             "line": {
              "color": "white"
             }
            },
            "type": "table"
           }
          ]
         },
         "layout": {
          "annotationdefaults": {
           "arrowcolor": "#2a3f5f",
           "arrowhead": 0,
           "arrowwidth": 1
          },
          "autotypenumbers": "strict",
          "coloraxis": {
           "colorbar": {
            "outlinewidth": 0,
            "ticks": ""
           }
          },
          "colorscale": {
           "diverging": [
            [
             0,
             "#8e0152"
            ],
            [
             0.1,
             "#c51b7d"
            ],
            [
             0.2,
             "#de77ae"
            ],
            [
             0.3,
             "#f1b6da"
            ],
            [
             0.4,
             "#fde0ef"
            ],
            [
             0.5,
             "#f7f7f7"
            ],
            [
             0.6,
             "#e6f5d0"
            ],
            [
             0.7,
             "#b8e186"
            ],
            [
             0.8,
             "#7fbc41"
            ],
            [
             0.9,
             "#4d9221"
            ],
            [
             1,
             "#276419"
            ]
           ],
           "sequential": [
            [
             0,
             "#0d0887"
            ],
            [
             0.1111111111111111,
             "#46039f"
            ],
            [
             0.2222222222222222,
             "#7201a8"
            ],
            [
             0.3333333333333333,
             "#9c179e"
            ],
            [
             0.4444444444444444,
             "#bd3786"
            ],
            [
             0.5555555555555556,
             "#d8576b"
            ],
            [
             0.6666666666666666,
             "#ed7953"
            ],
            [
             0.7777777777777778,
             "#fb9f3a"
            ],
            [
             0.8888888888888888,
             "#fdca26"
            ],
            [
             1,
             "#f0f921"
            ]
           ],
           "sequentialminus": [
            [
             0,
             "#0d0887"
            ],
            [
             0.1111111111111111,
             "#46039f"
            ],
            [
             0.2222222222222222,
             "#7201a8"
            ],
            [
             0.3333333333333333,
             "#9c179e"
            ],
            [
             0.4444444444444444,
             "#bd3786"
            ],
            [
             0.5555555555555556,
             "#d8576b"
            ],
            [
             0.6666666666666666,
             "#ed7953"
            ],
            [
             0.7777777777777778,
             "#fb9f3a"
            ],
            [
             0.8888888888888888,
             "#fdca26"
            ],
            [
             1,
             "#f0f921"
            ]
           ]
          },
          "colorway": [
           "#636efa",
           "#EF553B",
           "#00cc96",
           "#ab63fa",
           "#FFA15A",
           "#19d3f3",
           "#FF6692",
           "#B6E880",
           "#FF97FF",
           "#FECB52"
          ],
          "font": {
           "color": "#2a3f5f"
          },
          "geo": {
           "bgcolor": "white",
           "lakecolor": "white",
           "landcolor": "#E5ECF6",
           "showlakes": true,
           "showland": true,
           "subunitcolor": "white"
          },
          "hoverlabel": {
           "align": "left"
          },
          "hovermode": "closest",
          "mapbox": {
           "style": "light"
          },
          "paper_bgcolor": "white",
          "plot_bgcolor": "#E5ECF6",
          "polar": {
           "angularaxis": {
            "gridcolor": "white",
            "linecolor": "white",
            "ticks": ""
           },
           "bgcolor": "#E5ECF6",
           "radialaxis": {
            "gridcolor": "white",
            "linecolor": "white",
            "ticks": ""
           }
          },
          "scene": {
           "xaxis": {
            "backgroundcolor": "#E5ECF6",
            "gridcolor": "white",
            "gridwidth": 2,
            "linecolor": "white",
            "showbackground": true,
            "ticks": "",
            "zerolinecolor": "white"
           },
           "yaxis": {
            "backgroundcolor": "#E5ECF6",
            "gridcolor": "white",
            "gridwidth": 2,
            "linecolor": "white",
            "showbackground": true,
            "ticks": "",
            "zerolinecolor": "white"
           },
           "zaxis": {
            "backgroundcolor": "#E5ECF6",
            "gridcolor": "white",
            "gridwidth": 2,
            "linecolor": "white",
            "showbackground": true,
            "ticks": "",
            "zerolinecolor": "white"
           }
          },
          "shapedefaults": {
           "line": {
            "color": "#2a3f5f"
           }
          },
          "ternary": {
           "aaxis": {
            "gridcolor": "white",
            "linecolor": "white",
            "ticks": ""
           },
           "baxis": {
            "gridcolor": "white",
            "linecolor": "white",
            "ticks": ""
           },
           "bgcolor": "#E5ECF6",
           "caxis": {
            "gridcolor": "white",
            "linecolor": "white",
            "ticks": ""
           }
          },
          "title": {
           "x": 0.05
          },
          "xaxis": {
           "automargin": true,
           "gridcolor": "white",
           "linecolor": "white",
           "ticks": "",
           "title": {
            "standoff": 15
           },
           "zerolinecolor": "white",
           "zerolinewidth": 2
          },
          "yaxis": {
           "automargin": true,
           "gridcolor": "white",
           "linecolor": "white",
           "ticks": "",
           "title": {
            "standoff": 15
           },
           "zerolinecolor": "white",
           "zerolinewidth": 2
          }
         }
        },
        "title": {
         "text": "Распределение значений по полю is_parent"
        },
        "width": 400,
        "xaxis": {
         "title": {
          "text": "Значение"
         }
        },
        "yaxis": {
         "title": {
          "text": "Количество"
         }
        }
       }
      },
      "image/png": "[encoded data removed]"
     },
     "metadata": {},
     "output_type": "display_data"
    },
    {
     "name": "stdout",
     "output_type": "stream",
     "text": [
      "is_parent\n",
      "====================\n",
      "Среднее: 0.718\n",
      "Min: 0.000\n",
      "Max: 1.000\n",
      "Уникальные значения:\n",
      "[0 1]\n",
      "====================\n"
     ]
    }
   ],
   "source": [
    "describe_feature('is_parent')"
   ]
  },
  {
   "cell_type": "markdown",
   "id": "718ce8cb-d4c2-4031-8b93-d891ccc05541",
   "metadata": {},
   "source": [
    "`is_parent` - бинарный категориальный признак добавленный на этапе обогащения данных, сообщающий есть ли дети у клиента или нет. 72% клиентов являются родителями."
   ]
  },
  {
   "cell_type": "markdown",
   "id": "b61e3425-1b7e-43b4-a760-f835ea0e1fd3",
   "metadata": {},
   "source": [
    "### 3.1.11. Признак `recency`"
   ]
  },
  {
   "cell_type": "markdown",
   "id": "b6bf530b-cb53-4c84-8bc8-717f8e147aad",
   "metadata": {},
   "source": [
    "Выведем описательную статистику призназа `recency`:"
   ]
  },
  {
   "cell_type": "code",
   "execution_count": 129,
   "id": "71398142-254f-4bf3-8e67-f5ff6e67a3b8",
   "metadata": {},
   "outputs": [
    {
     "data": {
      "application/vnd.plotly.v1+json": {
       "config": {
        "plotlyServerURL": "https://plot.ly"
       },
       "data": [
        {
         "type": "bar",
         "x": {
          "bdata": "OC5IAh4dMTZBR1BcUTMAAwgBJg0TRAwLCRgbVldeMChKJU0yHAoEFxlOEEk9OUBUGlk8XSAqYiIRU1IUWjdhYDQOTCsSNQYVPz4jH1tPVV8kL0ZDJzpYIUstRUIpDwU7YxYHLA==",
          "dtype": "i1"
         },
         "y": {
          "bdata": "HhwbGxsbGxsbGxoaGhkZGRgYGBgXFxcXFxcXFxcXFxcWFhYWFhYWFhYVFRQUFBQUFBQUFBQUFBQTExMTExMTExMSEhISEhISEhEREREREBAQEBAQEA8PDw8PDg4ODQ0NDQsLCg==",
          "dtype": "i1"
         }
        }
       ],
       "layout": {
        "height": 350,
        "template": {
         "data": {
          "bar": [
           {
            "error_x": {
             "color": "#2a3f5f"
            },
            "error_y": {
             "color": "#2a3f5f"
            },
            "marker": {
             "line": {
              "color": "#E5ECF6",
              "width": 0.5
             },
             "pattern": {
              "fillmode": "overlay",
              "size": 10,
              "solidity": 0.2
             }
            },
            "type": "bar"
           }
          ],
          "barpolar": [
           {
            "marker": {
             "line": {
              "color": "#E5ECF6",
              "width": 0.5
             },
             "pattern": {
              "fillmode": "overlay",
              "size": 10,
              "solidity": 0.2
             }
            },
            "type": "barpolar"
           }
          ],
          "carpet": [
           {
            "aaxis": {
             "endlinecolor": "#2a3f5f",
             "gridcolor": "white",
             "linecolor": "white",
             "minorgridcolor": "white",
             "startlinecolor": "#2a3f5f"
            },
            "baxis": {
             "endlinecolor": "#2a3f5f",
             "gridcolor": "white",
             "linecolor": "white",
             "minorgridcolor": "white",
             "startlinecolor": "#2a3f5f"
            },
            "type": "carpet"
           }
          ],
          "choropleth": [
           {
            "colorbar": {
             "outlinewidth": 0,
             "ticks": ""
            },
            "type": "choropleth"
           }
          ],
          "contour": [
           {
            "colorbar": {
             "outlinewidth": 0,
             "ticks": ""
            },
            "colorscale": [
             [
              0,
              "#0d0887"
             ],
             [
              0.1111111111111111,
              "#46039f"
             ],
             [
              0.2222222222222222,
              "#7201a8"
             ],
             [
              0.3333333333333333,
              "#9c179e"
             ],
             [
              0.4444444444444444,
              "#bd3786"
             ],
             [
              0.5555555555555556,
              "#d8576b"
             ],
             [
              0.6666666666666666,
              "#ed7953"
             ],
             [
              0.7777777777777778,
              "#fb9f3a"
             ],
             [
              0.8888888888888888,
              "#fdca26"
             ],
             [
              1,
              "#f0f921"
             ]
            ],
            "type": "contour"
           }
          ],
          "contourcarpet": [
           {
            "colorbar": {
             "outlinewidth": 0,
             "ticks": ""
            },
            "type": "contourcarpet"
           }
          ],
          "heatmap": [
           {
            "colorbar": {
             "outlinewidth": 0,
             "ticks": ""
            },
            "colorscale": [
             [
              0,
              "#0d0887"
             ],
             [
              0.1111111111111111,
              "#46039f"
             ],
             [
              0.2222222222222222,
              "#7201a8"
             ],
             [
              0.3333333333333333,
              "#9c179e"
             ],
             [
              0.4444444444444444,
              "#bd3786"
             ],
             [
              0.5555555555555556,
              "#d8576b"
             ],
             [
              0.6666666666666666,
              "#ed7953"
             ],
             [
              0.7777777777777778,
              "#fb9f3a"
             ],
             [
              0.8888888888888888,
              "#fdca26"
             ],
             [
              1,
              "#f0f921"
             ]
            ],
            "type": "heatmap"
           }
          ],
          "histogram": [
           {
            "marker": {
             "pattern": {
              "fillmode": "overlay",
              "size": 10,
              "solidity": 0.2
             }
            },
            "type": "histogram"
           }
          ],
          "histogram2d": [
           {
            "colorbar": {
             "outlinewidth": 0,
             "ticks": ""
            },
            "colorscale": [
             [
              0,
              "#0d0887"
             ],
             [
              0.1111111111111111,
              "#46039f"
             ],
             [
              0.2222222222222222,
              "#7201a8"
             ],
             [
              0.3333333333333333,
              "#9c179e"
             ],
             [
              0.4444444444444444,
              "#bd3786"
             ],
             [
              0.5555555555555556,
              "#d8576b"
             ],
             [
              0.6666666666666666,
              "#ed7953"
             ],
             [
              0.7777777777777778,
              "#fb9f3a"
             ],
             [
              0.8888888888888888,
              "#fdca26"
             ],
             [
              1,
              "#f0f921"
             ]
            ],
            "type": "histogram2d"
           }
          ],
          "histogram2dcontour": [
           {
            "colorbar": {
             "outlinewidth": 0,
             "ticks": ""
            },
            "colorscale": [
             [
              0,
              "#0d0887"
             ],
             [
              0.1111111111111111,
              "#46039f"
             ],
             [
              0.2222222222222222,
              "#7201a8"
             ],
             [
              0.3333333333333333,
              "#9c179e"
             ],
             [
              0.4444444444444444,
              "#bd3786"
             ],
             [
              0.5555555555555556,
              "#d8576b"
             ],
             [
              0.6666666666666666,
              "#ed7953"
             ],
             [
              0.7777777777777778,
              "#fb9f3a"
             ],
             [
              0.8888888888888888,
              "#fdca26"
             ],
             [
              1,
              "#f0f921"
             ]
            ],
            "type": "histogram2dcontour"
           }
          ],
          "mesh3d": [
           {
            "colorbar": {
             "outlinewidth": 0,
             "ticks": ""
            },
            "type": "mesh3d"
           }
          ],
          "parcoords": [
           {
            "line": {
             "colorbar": {
              "outlinewidth": 0,
              "ticks": ""
             }
            },
            "type": "parcoords"
           }
          ],
          "pie": [
           {
            "automargin": true,
            "type": "pie"
           }
          ],
          "scatter": [
           {
            "fillpattern": {
             "fillmode": "overlay",
             "size": 10,
             "solidity": 0.2
            },
            "type": "scatter"
           }
          ],
          "scatter3d": [
           {
            "line": {
             "colorbar": {
              "outlinewidth": 0,
              "ticks": ""
             }
            },
            "marker": {
             "colorbar": {
              "outlinewidth": 0,
              "ticks": ""
             }
            },
            "type": "scatter3d"
           }
          ],
          "scattercarpet": [
           {
            "marker": {
             "colorbar": {
              "outlinewidth": 0,
              "ticks": ""
             }
            },
            "type": "scattercarpet"
           }
          ],
          "scattergeo": [
           {
            "marker": {
             "colorbar": {
              "outlinewidth": 0,
              "ticks": ""
             }
            },
            "type": "scattergeo"
           }
          ],
          "scattergl": [
           {
            "marker": {
             "colorbar": {
              "outlinewidth": 0,
              "ticks": ""
             }
            },
            "type": "scattergl"
           }
          ],
          "scattermap": [
           {
            "marker": {
             "colorbar": {
              "outlinewidth": 0,
              "ticks": ""
             }
            },
            "type": "scattermap"
           }
          ],
          "scattermapbox": [
           {
            "marker": {
             "colorbar": {
              "outlinewidth": 0,
              "ticks": ""
             }
            },
            "type": "scattermapbox"
           }
          ],
          "scatterpolar": [
           {
            "marker": {
             "colorbar": {
              "outlinewidth": 0,
              "ticks": ""
             }
            },
            "type": "scatterpolar"
           }
          ],
          "scatterpolargl": [
           {
            "marker": {
             "colorbar": {
              "outlinewidth": 0,
              "ticks": ""
             }
            },
            "type": "scatterpolargl"
           }
          ],
          "scatterternary": [
           {
            "marker": {
             "colorbar": {
              "outlinewidth": 0,
              "ticks": ""
             }
            },
            "type": "scatterternary"
           }
          ],
          "surface": [
           {
            "colorbar": {
             "outlinewidth": 0,
             "ticks": ""
            },
            "colorscale": [
             [
              0,
              "#0d0887"
             ],
             [
              0.1111111111111111,
              "#46039f"
             ],
             [
              0.2222222222222222,
              "#7201a8"
             ],
             [
              0.3333333333333333,
              "#9c179e"
             ],
             [
              0.4444444444444444,
              "#bd3786"
             ],
             [
              0.5555555555555556,
              "#d8576b"
             ],
             [
              0.6666666666666666,
              "#ed7953"
             ],
             [
              0.7777777777777778,
              "#fb9f3a"
             ],
             [
              0.8888888888888888,
              "#fdca26"
             ],
             [
              1,
              "#f0f921"
             ]
            ],
            "type": "surface"
           }
          ],
          "table": [
           {
            "cells": {
             "fill": {
              "color": "#EBF0F8"
             },
             "line": {
              "color": "white"
             }
            },
            "header": {
             "fill": {
              "color": "#C8D4E3"
             },
             "line": {
              "color": "white"
             }
            },
            "type": "table"
           }
          ]
         },
         "layout": {
          "annotationdefaults": {
           "arrowcolor": "#2a3f5f",
           "arrowhead": 0,
           "arrowwidth": 1
          },
          "autotypenumbers": "strict",
          "coloraxis": {
           "colorbar": {
            "outlinewidth": 0,
            "ticks": ""
           }
          },
          "colorscale": {
           "diverging": [
            [
             0,
             "#8e0152"
            ],
            [
             0.1,
             "#c51b7d"
            ],
            [
             0.2,
             "#de77ae"
            ],
            [
             0.3,
             "#f1b6da"
            ],
            [
             0.4,
             "#fde0ef"
            ],
            [
             0.5,
             "#f7f7f7"
            ],
            [
             0.6,
             "#e6f5d0"
            ],
            [
             0.7,
             "#b8e186"
            ],
            [
             0.8,
             "#7fbc41"
            ],
            [
             0.9,
             "#4d9221"
            ],
            [
             1,
             "#276419"
            ]
           ],
           "sequential": [
            [
             0,
             "#0d0887"
            ],
            [
             0.1111111111111111,
             "#46039f"
            ],
            [
             0.2222222222222222,
             "#7201a8"
            ],
            [
             0.3333333333333333,
             "#9c179e"
            ],
            [
             0.4444444444444444,
             "#bd3786"
            ],
            [
             0.5555555555555556,
             "#d8576b"
            ],
            [
             0.6666666666666666,
             "#ed7953"
            ],
            [
             0.7777777777777778,
             "#fb9f3a"
            ],
            [
             0.8888888888888888,
             "#fdca26"
            ],
            [
             1,
             "#f0f921"
            ]
           ],
           "sequentialminus": [
            [
             0,
             "#0d0887"
            ],
            [
             0.1111111111111111,
             "#46039f"
            ],
            [
             0.2222222222222222,
             "#7201a8"
            ],
            [
             0.3333333333333333,
             "#9c179e"
            ],
            [
             0.4444444444444444,
             "#bd3786"
            ],
            [
             0.5555555555555556,
             "#d8576b"
            ],
            [
             0.6666666666666666,
             "#ed7953"
            ],
            [
             0.7777777777777778,
             "#fb9f3a"
            ],
            [
             0.8888888888888888,
             "#fdca26"
            ],
            [
             1,
             "#f0f921"
            ]
           ]
          },
          "colorway": [
           "#636efa",
           "#EF553B",
           "#00cc96",
           "#ab63fa",
           "#FFA15A",
           "#19d3f3",
           "#FF6692",
           "#B6E880",
           "#FF97FF",
           "#FECB52"
          ],
          "font": {
           "color": "#2a3f5f"
          },
          "geo": {
           "bgcolor": "white",
           "lakecolor": "white",
           "landcolor": "#E5ECF6",
           "showlakes": true,
           "showland": true,
           "subunitcolor": "white"
          },
          "hoverlabel": {
           "align": "left"
          },
          "hovermode": "closest",
          "mapbox": {
           "style": "light"
          },
          "paper_bgcolor": "white",
          "plot_bgcolor": "#E5ECF6",
          "polar": {
           "angularaxis": {
            "gridcolor": "white",
            "linecolor": "white",
            "ticks": ""
           },
           "bgcolor": "#E5ECF6",
           "radialaxis": {
            "gridcolor": "white",
            "linecolor": "white",
            "ticks": ""
           }
          },
          "scene": {
           "xaxis": {
            "backgroundcolor": "#E5ECF6",
            "gridcolor": "white",
            "gridwidth": 2,
            "linecolor": "white",
            "showbackground": true,
            "ticks": "",
            "zerolinecolor": "white"
           },
           "yaxis": {
            "backgroundcolor": "#E5ECF6",
            "gridcolor": "white",
            "gridwidth": 2,
            "linecolor": "white",
            "showbackground": true,
            "ticks": "",
            "zerolinecolor": "white"
           },
           "zaxis": {
            "backgroundcolor": "#E5ECF6",
            "gridcolor": "white",
            "gridwidth": 2,
            "linecolor": "white",
            "showbackground": true,
            "ticks": "",
            "zerolinecolor": "white"
           }
          },
          "shapedefaults": {
           "line": {
            "color": "#2a3f5f"
           }
          },
          "ternary": {
           "aaxis": {
            "gridcolor": "white",
            "linecolor": "white",
            "ticks": ""
           },
           "baxis": {
            "gridcolor": "white",
            "linecolor": "white",
            "ticks": ""
           },
           "bgcolor": "#E5ECF6",
           "caxis": {
            "gridcolor": "white",
            "linecolor": "white",
            "ticks": ""
           }
          },
          "title": {
           "x": 0.05
          },
          "xaxis": {
           "automargin": true,
           "gridcolor": "white",
           "linecolor": "white",
           "ticks": "",
           "title": {
            "standoff": 15
           },
           "zerolinecolor": "white",
           "zerolinewidth": 2
          },
          "yaxis": {
           "automargin": true,
           "gridcolor": "white",
           "linecolor": "white",
           "ticks": "",
           "title": {
            "standoff": 15
           },
           "zerolinecolor": "white",
           "zerolinewidth": 2
          }
         }
        },
        "title": {
         "text": "Распределение значений по полю recency"
        },
        "width": 400,
        "xaxis": {
         "title": {
          "text": "Значение"
         }
        },
        "yaxis": {
         "title": {
          "text": "Количество"
         }
        }
       }
      },
      "image/png": "[encoded data removed]"
     },
     "metadata": {},
     "output_type": "display_data"
    },
    {
     "name": "stdout",
     "output_type": "stream",
     "text": [
      "recency\n",
      "====================\n",
      "Среднее: 48.985\n",
      "Min: 0.000\n",
      "Max: 99.000\n",
      "Уникальные значения:\n",
      "[ 0  1  2  3  4  5  6  7  8  9 10 11 12 13 14 15 16 17 18 19 20 21 22 23\n",
      " 24 25 26 27 28 29 30 31 32 33 34 35 36 37 38 39 40 41 42 43 44 45 46 47\n",
      " 48 49 50 51 52 53 54 55 56 57 58 59 60 61 62 63 64 65 66 67 68 69 70 71\n",
      " 72 73 74 75 76 77 78 79 80 81 82 83 84 85 86 87 88 89 90 91 92 93 94 95\n",
      " 96 97 98 99]\n",
      "====================\n"
     ]
    }
   ],
   "source": [
    "describe_feature('recency')"
   ]
  },
  {
   "cell_type": "markdown",
   "id": "666bbe7e-c6e1-4175-ab98-15645270e779",
   "metadata": {},
   "source": [
    "`recency` - дискретный численный признак, показывающий количество дней прошедших с последней покупки. Показатель варьируется от 0 до 99 дней, по распределению нельзя сказать что есть какие-то ярко выраженные пики, распределение относительно равномерное."
   ]
  },
  {
   "cell_type": "markdown",
   "id": "63edb65a-e38d-45de-92bf-da4f958e0455",
   "metadata": {},
   "source": [
    "### 3.1.12. Признак `complain`"
   ]
  },
  {
   "cell_type": "markdown",
   "id": "f695d305-5318-42b8-8326-fc29f3756aae",
   "metadata": {},
   "source": [
    "Выведем описательную статистику призназа `complain`:"
   ]
  },
  {
   "cell_type": "code",
   "execution_count": 130,
   "id": "367e2d94-6232-4f07-ba5d-bae37407f42e",
   "metadata": {},
   "outputs": [
    {
     "data": {
      "application/vnd.plotly.v1+json": {
       "config": {
        "plotlyServerURL": "https://plot.ly"
       },
       "data": [
        {
         "type": "bar",
         "x": {
          "bdata": "AAE=",
          "dtype": "i1"
         },
         "y": {
          "bdata": "yQcTAA==",
          "dtype": "i2"
         }
        }
       ],
       "layout": {
        "height": 350,
        "template": {
         "data": {
          "bar": [
           {
            "error_x": {
             "color": "#2a3f5f"
            },
            "error_y": {
             "color": "#2a3f5f"
            },
            "marker": {
             "line": {
              "color": "#E5ECF6",
              "width": 0.5
             },
             "pattern": {
              "fillmode": "overlay",
              "size": 10,
              "solidity": 0.2
             }
            },
            "type": "bar"
           }
          ],
          "barpolar": [
           {
            "marker": {
             "line": {
              "color": "#E5ECF6",
              "width": 0.5
             },
             "pattern": {
              "fillmode": "overlay",
              "size": 10,
              "solidity": 0.2
             }
            },
            "type": "barpolar"
           }
          ],
          "carpet": [
           {
            "aaxis": {
             "endlinecolor": "#2a3f5f",
             "gridcolor": "white",
             "linecolor": "white",
             "minorgridcolor": "white",
             "startlinecolor": "#2a3f5f"
            },
            "baxis": {
             "endlinecolor": "#2a3f5f",
             "gridcolor": "white",
             "linecolor": "white",
             "minorgridcolor": "white",
             "startlinecolor": "#2a3f5f"
            },
            "type": "carpet"
           }
          ],
          "choropleth": [
           {
            "colorbar": {
             "outlinewidth": 0,
             "ticks": ""
            },
            "type": "choropleth"
           }
          ],
          "contour": [
           {
            "colorbar": {
             "outlinewidth": 0,
             "ticks": ""
            },
            "colorscale": [
             [
              0,
              "#0d0887"
             ],
             [
              0.1111111111111111,
              "#46039f"
             ],
             [
              0.2222222222222222,
              "#7201a8"
             ],
             [
              0.3333333333333333,
              "#9c179e"
             ],
             [
              0.4444444444444444,
              "#bd3786"
             ],
             [
              0.5555555555555556,
              "#d8576b"
             ],
             [
              0.6666666666666666,
              "#ed7953"
             ],
             [
              0.7777777777777778,
              "#fb9f3a"
             ],
             [
              0.8888888888888888,
              "#fdca26"
             ],
             [
              1,
              "#f0f921"
             ]
            ],
            "type": "contour"
           }
          ],
          "contourcarpet": [
           {
            "colorbar": {
             "outlinewidth": 0,
             "ticks": ""
            },
            "type": "contourcarpet"
           }
          ],
          "heatmap": [
           {
            "colorbar": {
             "outlinewidth": 0,
             "ticks": ""
            },
            "colorscale": [
             [
              0,
              "#0d0887"
             ],
             [
              0.1111111111111111,
              "#46039f"
             ],
             [
              0.2222222222222222,
              "#7201a8"
             ],
             [
              0.3333333333333333,
              "#9c179e"
             ],
             [
              0.4444444444444444,
              "#bd3786"
             ],
             [
              0.5555555555555556,
              "#d8576b"
             ],
             [
              0.6666666666666666,
              "#ed7953"
             ],
             [
              0.7777777777777778,
              "#fb9f3a"
             ],
             [
              0.8888888888888888,
              "#fdca26"
             ],
             [
              1,
              "#f0f921"
             ]
            ],
            "type": "heatmap"
           }
          ],
          "histogram": [
           {
            "marker": {
             "pattern": {
              "fillmode": "overlay",
              "size": 10,
              "solidity": 0.2
             }
            },
            "type": "histogram"
           }
          ],
          "histogram2d": [
           {
            "colorbar": {
             "outlinewidth": 0,
             "ticks": ""
            },
            "colorscale": [
             [
              0,
              "#0d0887"
             ],
             [
              0.1111111111111111,
              "#46039f"
             ],
             [
              0.2222222222222222,
              "#7201a8"
             ],
             [
              0.3333333333333333,
              "#9c179e"
             ],
             [
              0.4444444444444444,
              "#bd3786"
             ],
             [
              0.5555555555555556,
              "#d8576b"
             ],
             [
              0.6666666666666666,
              "#ed7953"
             ],
             [
              0.7777777777777778,
              "#fb9f3a"
             ],
             [
              0.8888888888888888,
              "#fdca26"
             ],
             [
              1,
              "#f0f921"
             ]
            ],
            "type": "histogram2d"
           }
          ],
          "histogram2dcontour": [
           {
            "colorbar": {
             "outlinewidth": 0,
             "ticks": ""
            },
            "colorscale": [
             [
              0,
              "#0d0887"
             ],
             [
              0.1111111111111111,
              "#46039f"
             ],
             [
              0.2222222222222222,
              "#7201a8"
             ],
             [
              0.3333333333333333,
              "#9c179e"
             ],
             [
              0.4444444444444444,
              "#bd3786"
             ],
             [
              0.5555555555555556,
              "#d8576b"
             ],
             [
              0.6666666666666666,
              "#ed7953"
             ],
             [
              0.7777777777777778,
              "#fb9f3a"
             ],
             [
              0.8888888888888888,
              "#fdca26"
             ],
             [
              1,
              "#f0f921"
             ]
            ],
            "type": "histogram2dcontour"
           }
          ],
          "mesh3d": [
           {
            "colorbar": {
             "outlinewidth": 0,
             "ticks": ""
            },
            "type": "mesh3d"
           }
          ],
          "parcoords": [
           {
            "line": {
             "colorbar": {
              "outlinewidth": 0,
              "ticks": ""
             }
            },
            "type": "parcoords"
           }
          ],
          "pie": [
           {
            "automargin": true,
            "type": "pie"
           }
          ],
          "scatter": [
           {
            "fillpattern": {
             "fillmode": "overlay",
             "size": 10,
             "solidity": 0.2
            },
            "type": "scatter"
           }
          ],
          "scatter3d": [
           {
            "line": {
             "colorbar": {
              "outlinewidth": 0,
              "ticks": ""
             }
            },
            "marker": {
             "colorbar": {
              "outlinewidth": 0,
              "ticks": ""
             }
            },
            "type": "scatter3d"
           }
          ],
          "scattercarpet": [
           {
            "marker": {
             "colorbar": {
              "outlinewidth": 0,
              "ticks": ""
             }
            },
            "type": "scattercarpet"
           }
          ],
          "scattergeo": [
           {
            "marker": {
             "colorbar": {
              "outlinewidth": 0,
              "ticks": ""
             }
            },
            "type": "scattergeo"
           }
          ],
          "scattergl": [
           {
            "marker": {
             "colorbar": {
              "outlinewidth": 0,
              "ticks": ""
             }
            },
            "type": "scattergl"
           }
          ],
          "scattermap": [
           {
            "marker": {
             "colorbar": {
              "outlinewidth": 0,
              "ticks": ""
             }
            },
            "type": "scattermap"
           }
          ],
          "scattermapbox": [
           {
            "marker": {
             "colorbar": {
              "outlinewidth": 0,
              "ticks": ""
             }
            },
            "type": "scattermapbox"
           }
          ],
          "scatterpolar": [
           {
            "marker": {
             "colorbar": {
              "outlinewidth": 0,
              "ticks": ""
             }
            },
            "type": "scatterpolar"
           }
          ],
          "scatterpolargl": [
           {
            "marker": {
             "colorbar": {
              "outlinewidth": 0,
              "ticks": ""
             }
            },
            "type": "scatterpolargl"
           }
          ],
          "scatterternary": [
           {
            "marker": {
             "colorbar": {
              "outlinewidth": 0,
              "ticks": ""
             }
            },
            "type": "scatterternary"
           }
          ],
          "surface": [
           {
            "colorbar": {
             "outlinewidth": 0,
             "ticks": ""
            },
            "colorscale": [
             [
              0,
              "#0d0887"
             ],
             [
              0.1111111111111111,
              "#46039f"
             ],
             [
              0.2222222222222222,
              "#7201a8"
             ],
             [
              0.3333333333333333,
              "#9c179e"
             ],
             [
              0.4444444444444444,
              "#bd3786"
             ],
             [
              0.5555555555555556,
              "#d8576b"
             ],
             [
              0.6666666666666666,
              "#ed7953"
             ],
             [
              0.7777777777777778,
              "#fb9f3a"
             ],
             [
              0.8888888888888888,
              "#fdca26"
             ],
             [
              1,
              "#f0f921"
             ]
            ],
            "type": "surface"
           }
          ],
          "table": [
           {
            "cells": {
             "fill": {
              "color": "#EBF0F8"
             },
             "line": {
              "color": "white"
             }
            },
            "header": {
             "fill": {
              "color": "#C8D4E3"
             },
             "line": {
              "color": "white"
             }
            },
            "type": "table"
           }
          ]
         },
         "layout": {
          "annotationdefaults": {
           "arrowcolor": "#2a3f5f",
           "arrowhead": 0,
           "arrowwidth": 1
          },
          "autotypenumbers": "strict",
          "coloraxis": {
           "colorbar": {
            "outlinewidth": 0,
            "ticks": ""
           }
          },
          "colorscale": {
           "diverging": [
            [
             0,
             "#8e0152"
            ],
            [
             0.1,
             "#c51b7d"
            ],
            [
             0.2,
             "#de77ae"
            ],
            [
             0.3,
             "#f1b6da"
            ],
            [
             0.4,
             "#fde0ef"
            ],
            [
             0.5,
             "#f7f7f7"
            ],
            [
             0.6,
             "#e6f5d0"
            ],
            [
             0.7,
             "#b8e186"
            ],
            [
             0.8,
             "#7fbc41"
            ],
            [
             0.9,
             "#4d9221"
            ],
            [
             1,
             "#276419"
            ]
           ],
           "sequential": [
            [
             0,
             "#0d0887"
            ],
            [
             0.1111111111111111,
             "#46039f"
            ],
            [
             0.2222222222222222,
             "#7201a8"
            ],
            [
             0.3333333333333333,
             "#9c179e"
            ],
            [
             0.4444444444444444,
             "#bd3786"
            ],
            [
             0.5555555555555556,
             "#d8576b"
            ],
            [
             0.6666666666666666,
             "#ed7953"
            ],
            [
             0.7777777777777778,
             "#fb9f3a"
            ],
            [
             0.8888888888888888,
             "#fdca26"
            ],
            [
             1,
             "#f0f921"
            ]
           ],
           "sequentialminus": [
            [
             0,
             "#0d0887"
            ],
            [
             0.1111111111111111,
             "#46039f"
            ],
            [
             0.2222222222222222,
             "#7201a8"
            ],
            [
             0.3333333333333333,
             "#9c179e"
            ],
            [
             0.4444444444444444,
             "#bd3786"
            ],
            [
             0.5555555555555556,
             "#d8576b"
            ],
            [
             0.6666666666666666,
             "#ed7953"
            ],
            [
             0.7777777777777778,
             "#fb9f3a"
            ],
            [
             0.8888888888888888,
             "#fdca26"
            ],
            [
             1,
             "#f0f921"
            ]
           ]
          },
          "colorway": [
           "#636efa",
           "#EF553B",
           "#00cc96",
           "#ab63fa",
           "#FFA15A",
           "#19d3f3",
           "#FF6692",
           "#B6E880",
           "#FF97FF",
           "#FECB52"
          ],
          "font": {
           "color": "#2a3f5f"
          },
          "geo": {
           "bgcolor": "white",
           "lakecolor": "white",
           "landcolor": "#E5ECF6",
           "showlakes": true,
           "showland": true,
           "subunitcolor": "white"
          },
          "hoverlabel": {
           "align": "left"
          },
          "hovermode": "closest",
          "mapbox": {
           "style": "light"
          },
          "paper_bgcolor": "white",
          "plot_bgcolor": "#E5ECF6",
          "polar": {
           "angularaxis": {
            "gridcolor": "white",
            "linecolor": "white",
            "ticks": ""
           },
           "bgcolor": "#E5ECF6",
           "radialaxis": {
            "gridcolor": "white",
            "linecolor": "white",
            "ticks": ""
           }
          },
          "scene": {
           "xaxis": {
            "backgroundcolor": "#E5ECF6",
            "gridcolor": "white",
            "gridwidth": 2,
            "linecolor": "white",
            "showbackground": true,
            "ticks": "",
            "zerolinecolor": "white"
           },
           "yaxis": {
            "backgroundcolor": "#E5ECF6",
            "gridcolor": "white",
            "gridwidth": 2,
            "linecolor": "white",
            "showbackground": true,
            "ticks": "",
            "zerolinecolor": "white"
           },
           "zaxis": {
            "backgroundcolor": "#E5ECF6",
            "gridcolor": "white",
            "gridwidth": 2,
            "linecolor": "white",
            "showbackground": true,
            "ticks": "",
            "zerolinecolor": "white"
           }
          },
          "shapedefaults": {
           "line": {
            "color": "#2a3f5f"
           }
          },
          "ternary": {
           "aaxis": {
            "gridcolor": "white",
            "linecolor": "white",
            "ticks": ""
           },
           "baxis": {
            "gridcolor": "white",
            "linecolor": "white",
            "ticks": ""
           },
           "bgcolor": "#E5ECF6",
           "caxis": {
            "gridcolor": "white",
            "linecolor": "white",
            "ticks": ""
           }
          },
          "title": {
           "x": 0.05
          },
          "xaxis": {
           "automargin": true,
           "gridcolor": "white",
           "linecolor": "white",
           "ticks": "",
           "title": {
            "standoff": 15
           },
           "zerolinecolor": "white",
           "zerolinewidth": 2
          },
          "yaxis": {
           "automargin": true,
           "gridcolor": "white",
           "linecolor": "white",
           "ticks": "",
           "title": {
            "standoff": 15
           },
           "zerolinecolor": "white",
           "zerolinewidth": 2
          }
         }
        },
        "title": {
         "text": "Распределение значений по полю complain"
        },
        "width": 400,
        "xaxis": {
         "title": {
          "text": "Значение"
         }
        },
        "yaxis": {
         "title": {
          "text": "Количество"
         }
        }
       }
      },
      "image/png": "[encoded data removed]"
     },
     "metadata": {},
     "output_type": "display_data"
    },
    {
     "name": "stdout",
     "output_type": "stream",
     "text": [
      "complain\n",
      "====================\n",
      "Среднее: 0.009\n",
      "Min: 0.000\n",
      "Max: 1.000\n",
      "Уникальные значения:\n",
      "[0 1]\n",
      "====================\n"
     ]
    }
   ],
   "source": [
    "describe_feature('complain')"
   ]
  },
  {
   "cell_type": "markdown",
   "id": "b7567851-ca8f-4d81-8d2a-0cad7e0f3e86",
   "metadata": {},
   "source": [
    "`complain` - бинарный категориальный признак, указывающий на факт жалоб со стороны клиента. Клиентов, которые направляли жалобы всего 19 человек (менее 1%). Скорее всего с учетом данного распределения, такой признак не несет особой пользы при обучении моделей в дальнейшем, по сути это нулевой столбец."
   ]
  },
  {
   "cell_type": "code",
   "execution_count": null,
   "id": "59243fc7-f6ef-454e-bf3d-93b65b10aabd",
   "metadata": {},
   "outputs": [],
   "source": []
  },
  {
   "cell_type": "code",
   "execution_count": 45,
   "id": "6df308de-758f-4d8d-b689-9c9152bf4f5d",
   "metadata": {},
   "outputs": [
    {
     "data": {
      "text/plain": [
       "['year_birth',\n",
       " 'education',\n",
       " 'marital_status',\n",
       " 'income',\n",
       " 'kidhome',\n",
       " 'teenhome',\n",
       " 'dt_customer',\n",
       " 'recency',\n",
       " 'mntwines',\n",
       " 'mntfruits',\n",
       " 'mntmeatproducts',\n",
       " 'mntfishproducts',\n",
       " 'mntsweetproducts',\n",
       " 'mntgoldprods',\n",
       " 'numdealspurchases',\n",
       " 'numwebpurchases',\n",
       " 'numcatalogpurchases',\n",
       " 'numstorepurchases',\n",
       " 'numwebvisitsmonth',\n",
       " 'response',\n",
       " 'complain',\n",
       " 'registration_age',\n",
       " 'is_parent',\n",
       " 'mstatus_unified',\n",
       " 'mnt_total',\n",
       " 'total_purchases',\n",
       " 'avg_check']"
      ]
     },
     "execution_count": 45,
     "metadata": {},
     "output_type": "execute_result"
    }
   ],
   "source": [
    " 'dt_customer',\n",
    "\n",
    " \n",
    " 'mntwines',\n",
    " 'mntfruits',\n",
    " 'mntmeatproducts',\n",
    " 'mntfishproducts',\n",
    " 'mntsweetproducts',\n",
    " 'mntgoldprods',\n",
    " \n",
    " 'numdealspurchases',\n",
    " 'numwebpurchases',\n",
    " 'numcatalogpurchases',\n",
    " 'numstorepurchases',\n",
    " 'numwebvisitsmonth',\n",
    " \n",
    " 'complain',\n",
    "\n",
    " 'registration_age',\n",
    " 'mnt_total',\n",
    " 'total_purchases',\n",
    " 'avg_check'"
   ]
  },
  {
   "cell_type": "code",
   "execution_count": null,
   "id": "6a5e4321-53b1-41ff-a91a-cdca675f49b8",
   "metadata": {},
   "outputs": [],
   "source": []
  },
  {
   "cell_type": "code",
   "execution_count": null,
   "id": "b834f568-14aa-4ab4-8633-b33d671b4a6e",
   "metadata": {},
   "outputs": [],
   "source": []
  },
  {
   "cell_type": "code",
   "execution_count": null,
   "id": "6b410fe4-8785-4037-ac63-f9b0b973de92",
   "metadata": {},
   "outputs": [],
   "source": []
  },
  {
   "cell_type": "code",
   "execution_count": null,
   "id": "7a4fc22b-eb61-4915-a3ee-687f799a491c",
   "metadata": {},
   "outputs": [],
   "source": []
  },
  {
   "cell_type": "code",
   "execution_count": null,
   "id": "883c83db-7ea4-463b-b97f-aec336b53d3c",
   "metadata": {},
   "outputs": [],
   "source": []
  },
  {
   "cell_type": "code",
   "execution_count": null,
   "id": "76ea98e8-2cdb-477a-a69f-6630cebe7042",
   "metadata": {},
   "outputs": [],
   "source": []
  },
  {
   "cell_type": "code",
   "execution_count": null,
   "id": "cc3e273d-53c6-4e45-b02f-d2b7b7f03f36",
   "metadata": {},
   "outputs": [],
   "source": []
  },
  {
   "cell_type": "code",
   "execution_count": null,
   "id": "5fbf8753-de2e-43cd-9c96-af037c00d0a7",
   "metadata": {},
   "outputs": [],
   "source": []
  },
  {
   "cell_type": "code",
   "execution_count": null,
   "id": "8441b9e6-5be2-4e08-9f5c-c5ff4ade85fa",
   "metadata": {},
   "outputs": [],
   "source": []
  },
  {
   "cell_type": "code",
   "execution_count": null,
   "id": "35e42e24-1149-467b-8b54-169c81d6e28f",
   "metadata": {},
   "outputs": [],
   "source": []
  },
  {
   "cell_type": "code",
   "execution_count": null,
   "id": "b460473d-3a1a-4d03-9636-41ac15910ba4",
   "metadata": {},
   "outputs": [],
   "source": []
  },
  {
   "cell_type": "markdown",
   "id": "66294f6b-9dc2-4754-ab83-ce1301542d6d",
   "metadata": {},
   "source": [
    "### 3.2. Средние значения признаков по группам принявших и не принявших предложение о покупке клиентов"
   ]
  },
  {
   "cell_type": "code",
   "execution_count": null,
   "id": "57a5d794-1d76-4abb-ae4f-34f629b46f22",
   "metadata": {},
   "outputs": [],
   "source": []
  },
  {
   "cell_type": "code",
   "execution_count": null,
   "id": "cc4283b4-8101-4722-8497-043adb17d6a4",
   "metadata": {},
   "outputs": [],
   "source": []
  },
  {
   "cell_type": "code",
   "execution_count": null,
   "id": "62b6aee0-7137-4358-bfc8-250fda0e2d1c",
   "metadata": {},
   "outputs": [],
   "source": []
  },
  {
   "cell_type": "markdown",
   "id": "322fa200-d2c4-4894-ac46-a53c700ce95c",
   "metadata": {},
   "source": [
    "### 3.3. Матрица корреляций признаков"
   ]
  },
  {
   "cell_type": "code",
   "execution_count": null,
   "id": "f6acc371-f029-4a43-a337-6fae25e44690",
   "metadata": {},
   "outputs": [],
   "source": []
  },
  {
   "cell_type": "code",
   "execution_count": null,
   "id": "fea57112-98ae-496e-813d-3cad485ddb6f",
   "metadata": {},
   "outputs": [],
   "source": []
  },
  {
   "cell_type": "code",
   "execution_count": null,
   "id": "874264d5-dc50-4d4c-bc28-99f76aaa53f5",
   "metadata": {},
   "outputs": [],
   "source": []
  },
  {
   "cell_type": "markdown",
   "id": "9650f22a-db0b-422b-b775-4e1c2cb43dc6",
   "metadata": {},
   "source": [
    "### 3.4. Выводы по исследовательскому анализу данных"
   ]
  },
  {
   "cell_type": "code",
   "execution_count": null,
   "id": "4502739c-0dc4-42cb-9a67-9b91e8162657",
   "metadata": {},
   "outputs": [],
   "source": []
  },
  {
   "cell_type": "code",
   "execution_count": null,
   "id": "cf06d619-d488-4db9-b44b-ec277c693c26",
   "metadata": {},
   "outputs": [],
   "source": []
  },
  {
   "cell_type": "code",
   "execution_count": null,
   "id": "023f1b9a-15f6-4551-94e6-66f6f86512d5",
   "metadata": {},
   "outputs": [],
   "source": []
  },
  {
   "cell_type": "markdown",
   "id": "1b3288e0-2f51-46e8-9254-34a8c29b247b",
   "metadata": {},
   "source": [
    "## 4. Выбор и обучение модели для определения вероятности покупки товара"
   ]
  },
  {
   "cell_type": "code",
   "execution_count": null,
   "id": "90b4eaf2-cf1e-4176-8aa3-e39188831222",
   "metadata": {},
   "outputs": [],
   "source": []
  },
  {
   "cell_type": "code",
   "execution_count": null,
   "id": "e81acbd8-551a-47b0-af64-1c2d9b60b26a",
   "metadata": {},
   "outputs": [],
   "source": []
  },
  {
   "cell_type": "code",
   "execution_count": null,
   "id": "a4486f0f-5c58-46c5-88e9-fa435adfe41d",
   "metadata": {},
   "outputs": [],
   "source": []
  },
  {
   "cell_type": "code",
   "execution_count": null,
   "id": "835e6e9c-c77d-4c86-9750-708c419b0e05",
   "metadata": {},
   "outputs": [],
   "source": []
  },
  {
   "cell_type": "markdown",
   "id": "8ccd0a7d-0fe5-4f18-95f5-09059989c176",
   "metadata": {},
   "source": [
    "## 5. Кластеризация покупателей"
   ]
  },
  {
   "cell_type": "code",
   "execution_count": null,
   "id": "0acc6c0e-de7e-4ea4-bc02-65ea6bc6a329",
   "metadata": {},
   "outputs": [],
   "source": []
  },
  {
   "cell_type": "code",
   "execution_count": null,
   "id": "5d698b5a-1697-4357-87f4-c7baadb1a034",
   "metadata": {},
   "outputs": [],
   "source": []
  },
  {
   "cell_type": "code",
   "execution_count": null,
   "id": "aa27dc89-b487-4897-b58d-4be0394742b2",
   "metadata": {},
   "outputs": [],
   "source": []
  },
  {
   "cell_type": "code",
   "execution_count": null,
   "id": "4499644c-919f-4222-bdc4-4bf4105c54e2",
   "metadata": {},
   "outputs": [],
   "source": []
  },
  {
   "cell_type": "code",
   "execution_count": null,
   "id": "0ed00379-0b9a-49cf-be6c-a0e25b60148c",
   "metadata": {},
   "outputs": [],
   "source": []
  },
  {
   "cell_type": "code",
   "execution_count": null,
   "id": "65f41560-b121-4f85-b9b5-54e3b325cdd0",
   "metadata": {},
   "outputs": [],
   "source": []
  },
  {
   "cell_type": "markdown",
   "id": "e48b6f57-6c07-4929-acd1-b083cb4b1e00",
   "metadata": {},
   "source": [
    "## 6. Портрет покупателя"
   ]
  },
  {
   "cell_type": "code",
   "execution_count": null,
   "id": "223fce00-ce8a-4593-a81e-68c303d84419",
   "metadata": {},
   "outputs": [],
   "source": []
  },
  {
   "cell_type": "code",
   "execution_count": null,
   "id": "17f4eb90-4471-4cd6-bc94-e477a15b806a",
   "metadata": {},
   "outputs": [],
   "source": []
  },
  {
   "cell_type": "code",
   "execution_count": null,
   "id": "25e65bbf-b0a9-4650-a6ce-27c923a5520f",
   "metadata": {},
   "outputs": [],
   "source": []
  },
  {
   "cell_type": "markdown",
   "id": "f2462f24-e193-4a02-ac21-a9e8c46d015c",
   "metadata": {},
   "source": [
    "## 7. Общие выводы по результатам работы"
   ]
  },
  {
   "cell_type": "code",
   "execution_count": null,
   "id": "a31dbfc0-cabd-45eb-971b-0945d6975734",
   "metadata": {},
   "outputs": [],
   "source": []
  },
  {
   "cell_type": "code",
   "execution_count": null,
   "id": "961e9127-6cab-41f1-b327-8dd63116efd5",
   "metadata": {},
   "outputs": [],
   "source": []
  },
  {
   "cell_type": "code",
   "execution_count": null,
   "id": "7a36c9c1-f7e5-4cd6-b36c-50925785de60",
   "metadata": {},
   "outputs": [],
   "source": []
  }
 ],
 "metadata": {
  "kernelspec": {
   "display_name": "Python 3 (ipykernel)",
   "language": "python",
   "name": "python3"
  },
  "language_info": {
   "codemirror_mode": {
    "name": "ipython",
    "version": 3
   },
   "file_extension": ".py",
   "mimetype": "text/x-python",
   "name": "python",
   "nbconvert_exporter": "python",
   "pygments_lexer": "ipython3",
   "version": "3.13.2"
  }
 },
 "nbformat": 4,
 "nbformat_minor": 5
}
