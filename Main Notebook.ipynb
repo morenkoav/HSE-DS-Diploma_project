{
 "cells": [
  {
   "cell_type": "markdown",
   "id": "1aaaf376-8ebd-436e-8bb2-773fa9d9df58",
   "metadata": {},
   "source": [
    "# Итоговый проект по программе \"Специалист по Data Science\"\n",
    "\n",
    "## Тема: Определение вероятности покупки товара на основе данных о клиенте и его покупательской истории с помощью методов машинного обучения"
   ]
  },
  {
   "cell_type": "markdown",
   "id": "ff8fd132-bf63-4a04-baaf-eb7048784d37",
   "metadata": {},
   "source": [
    "**Цель проекта:** Продемонстрировать освоение ключевых методов анализа данных и их приминение на практике на основе задачи определения вероятности совершения покупки на основе данных о клиенте и его покупательской истории\n",
    "\n",
    "\n",
    "**Задачи проекта:** \n",
    "1. Провести предобработку и исследовательский анализ данных полученного датасета\n",
    "2. Составить портрет покупателя\n",
    "3. Провести кластеризацию покупателей\n",
    "4. Выбрать и обучить модель определения вероятности покупки товара\n",
    "\n",
    "\n",
    "**Исходные данные:**\n",
    "* Датасет [\"Superstore Marketing Campaign Dataset\"](https://www.kaggle.com/datasets/ahsan81/superstore-marketing-campaign-dataset)\n",
    "\n",
    "**Содержание отчета:**\n",
    "* 1. Загрузка датасета и знакомство с данными\n",
    "* 2. Предобработка данных\n",
    "* 3. Исследовательский анализ данных\n",
    "* 4. Портрет покупателя\n",
    "* 5. Кластеризация покупателей\n",
    "* 6. Выбор и обучение модели для определения вероятности покупки товара\n",
    "* 7. Общие выводы по результатам работы"
   ]
  },
  {
   "cell_type": "markdown",
   "id": "df0adeaf-b23a-45b1-b0b3-f4ec1cf23f5b",
   "metadata": {},
   "source": [
    "## 1. Загрузка датасета и знакомство с данными"
   ]
  },
  {
   "cell_type": "code",
   "execution_count": null,
   "id": "d4ea5eac-028e-4cb5-ad9d-053580cb6cba",
   "metadata": {},
   "outputs": [],
   "source": []
  },
  {
   "cell_type": "code",
   "execution_count": null,
   "id": "aae1a8d3-821f-48fc-a091-3c733bcaf36d",
   "metadata": {},
   "outputs": [],
   "source": []
  },
  {
   "cell_type": "code",
   "execution_count": null,
   "id": "199117fd-2877-4117-8c9c-f1658f320adf",
   "metadata": {},
   "outputs": [],
   "source": []
  },
  {
   "cell_type": "code",
   "execution_count": null,
   "id": "863eeba6-2953-4cdb-a818-b708684d395f",
   "metadata": {},
   "outputs": [],
   "source": []
  },
  {
   "cell_type": "markdown",
   "id": "2321111e-61dd-4146-9a8e-3123283115e1",
   "metadata": {},
   "source": [
    "## 2. Предобработка данных"
   ]
  },
  {
   "cell_type": "code",
   "execution_count": null,
   "id": "2f733268-cbbe-4e46-96b6-5f8670fa5d84",
   "metadata": {},
   "outputs": [],
   "source": []
  },
  {
   "cell_type": "code",
   "execution_count": null,
   "id": "a0bac197-c3b0-4933-a668-0524e0a9c597",
   "metadata": {},
   "outputs": [],
   "source": []
  },
  {
   "cell_type": "code",
   "execution_count": null,
   "id": "b366b9ce-7d8b-42cf-a1e9-f41f148af9ad",
   "metadata": {},
   "outputs": [],
   "source": []
  },
  {
   "cell_type": "code",
   "execution_count": null,
   "id": "ada0e4c8-3264-465a-a218-67cc76cc9bf4",
   "metadata": {},
   "outputs": [],
   "source": []
  },
  {
   "cell_type": "markdown",
   "id": "3ae066e8-fa37-40b9-80d5-94673e366341",
   "metadata": {},
   "source": [
    "## 3. Исследовательский анализ данных"
   ]
  },
  {
   "cell_type": "code",
   "execution_count": null,
   "id": "ebdb953b-e4f2-4e0a-bf26-b4bb10a99fdc",
   "metadata": {},
   "outputs": [],
   "source": []
  },
  {
   "cell_type": "code",
   "execution_count": null,
   "id": "43e650b6-a09d-46ca-a83c-e55a991bd09d",
   "metadata": {},
   "outputs": [],
   "source": []
  },
  {
   "cell_type": "code",
   "execution_count": null,
   "id": "0b60d275-8a93-4760-b040-c145de2a7390",
   "metadata": {},
   "outputs": [],
   "source": []
  },
  {
   "cell_type": "code",
   "execution_count": null,
   "id": "874264d5-dc50-4d4c-bc28-99f76aaa53f5",
   "metadata": {},
   "outputs": [],
   "source": []
  },
  {
   "cell_type": "markdown",
   "id": "e48b6f57-6c07-4929-acd1-b083cb4b1e00",
   "metadata": {},
   "source": [
    "## 4. Портрет покупателя"
   ]
  },
  {
   "cell_type": "code",
   "execution_count": null,
   "id": "223fce00-ce8a-4593-a81e-68c303d84419",
   "metadata": {},
   "outputs": [],
   "source": []
  },
  {
   "cell_type": "code",
   "execution_count": null,
   "id": "17f4eb90-4471-4cd6-bc94-e477a15b806a",
   "metadata": {},
   "outputs": [],
   "source": []
  },
  {
   "cell_type": "code",
   "execution_count": null,
   "id": "25e65bbf-b0a9-4650-a6ce-27c923a5520f",
   "metadata": {},
   "outputs": [],
   "source": []
  },
  {
   "cell_type": "markdown",
   "id": "f730b7ea-2598-470a-9ce8-0343e3d0c865",
   "metadata": {},
   "source": [
    "## 5. Кластеризация покупателей"
   ]
  },
  {
   "cell_type": "code",
   "execution_count": null,
   "id": "7e3274fa-586c-4c9d-8e98-0dcfb7988fd2",
   "metadata": {},
   "outputs": [],
   "source": []
  },
  {
   "cell_type": "code",
   "execution_count": null,
   "id": "f8211c80-2cf3-4a85-86be-4eda05e21c11",
   "metadata": {},
   "outputs": [],
   "source": []
  },
  {
   "cell_type": "code",
   "execution_count": null,
   "id": "5eae4fc9-a461-4cb4-a85b-65d3e710e3c4",
   "metadata": {},
   "outputs": [],
   "source": []
  },
  {
   "cell_type": "markdown",
   "id": "f2699df5-f277-49f5-ae5c-9536dbc71d4e",
   "metadata": {},
   "source": [
    "## 6. Выбор и обучение модели для определения вероятности покупки товара"
   ]
  },
  {
   "cell_type": "code",
   "execution_count": null,
   "id": "f56c8eaf-e418-40a5-8b32-fec0caa44711",
   "metadata": {},
   "outputs": [],
   "source": []
  },
  {
   "cell_type": "code",
   "execution_count": null,
   "id": "358c4846-8569-4b87-b82a-6448cb32fe52",
   "metadata": {},
   "outputs": [],
   "source": []
  },
  {
   "cell_type": "code",
   "execution_count": null,
   "id": "5b55a180-cfa8-4d5e-9769-bf5b0601180e",
   "metadata": {},
   "outputs": [],
   "source": []
  },
  {
   "cell_type": "markdown",
   "id": "f2462f24-e193-4a02-ac21-a9e8c46d015c",
   "metadata": {},
   "source": [
    "## 7. Общие выводы по результатам работы"
   ]
  },
  {
   "cell_type": "code",
   "execution_count": null,
   "id": "a31dbfc0-cabd-45eb-971b-0945d6975734",
   "metadata": {},
   "outputs": [],
   "source": []
  },
  {
   "cell_type": "code",
   "execution_count": null,
   "id": "961e9127-6cab-41f1-b327-8dd63116efd5",
   "metadata": {},
   "outputs": [],
   "source": []
  },
  {
   "cell_type": "code",
   "execution_count": null,
   "id": "7a36c9c1-f7e5-4cd6-b36c-50925785de60",
   "metadata": {},
   "outputs": [],
   "source": []
  }
 ],
 "metadata": {
  "kernelspec": {
   "display_name": "Python 3 (ipykernel)",
   "language": "python",
   "name": "python3"
  },
  "language_info": {
   "codemirror_mode": {
    "name": "ipython",
    "version": 3
   },
   "file_extension": ".py",
   "mimetype": "text/x-python",
   "name": "python",
   "nbconvert_exporter": "python",
   "pygments_lexer": "ipython3",
   "version": "3.13.2"
  }
 },
 "nbformat": 4,
 "nbformat_minor": 5
}
