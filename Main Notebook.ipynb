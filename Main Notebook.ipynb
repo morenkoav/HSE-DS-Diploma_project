{
 "cells": [
  {
   "cell_type": "markdown",
   "id": "1aaaf376-8ebd-436e-8bb2-773fa9d9df58",
   "metadata": {},
   "source": [
    "# Итоговый проект по программе \"Специалист по Data Science\"\n",
    "\n",
    "## Тема: Определение вероятности покупки товара на основе данных о клиенте и его покупательской истории с помощью методов машинного обучения"
   ]
  },
  {
   "cell_type": "markdown",
   "id": "ff8fd132-bf63-4a04-baaf-eb7048784d37",
   "metadata": {},
   "source": [
    "**Цель проекта:** Продемонстрировать освоение ключевых методов анализа данных и их приминение на практике на основе задачи определения вероятности совершения покупки на основе данных о клиенте и его покупательской истории\n",
    "\n",
    "\n",
    "**Задачи проекта:** \n",
    "1. Провести предобработку и исследовательский анализ данных полученного датасета\n",
    "2. Составить портрет покупателя\n",
    "3. Провести кластеризацию покупателей\n",
    "4. Выбрать и обучить модель определения вероятности покупки товара\n",
    "\n",
    "\n",
    "**Исходные данные:**\n",
    "* Датасет [\"Superstore Marketing Campaign Dataset\"](https://www.kaggle.com/datasets/ahsan81/superstore-marketing-campaign-dataset)\n",
    "\n",
    "**Содержание отчета:**\n",
    "* 1. Загрузка датасета и знакомство с данными\n",
    "* 2. Предобработка данных\n",
    "* 3. Исследовательский анализ данных\n",
    "* 4. Портрет покупателя\n",
    "* 5. Кластеризация покупателей\n",
    "* 6. Выбор и обучение модели для определения вероятности покупки товара\n",
    "* 7. Общие выводы по результатам работы"
   ]
  },
  {
   "cell_type": "markdown",
   "id": "df0adeaf-b23a-45b1-b0b3-f4ec1cf23f5b",
   "metadata": {},
   "source": [
    "## 1. Загрузка датасета и знакомство с данными"
   ]
  },
  {
   "cell_type": "code",
   "execution_count": 6,
   "id": "d4ea5eac-028e-4cb5-ad9d-053580cb6cba",
   "metadata": {},
   "outputs": [],
   "source": [
    "# Импорт необходимых библиотек\n",
    "\n",
    "import pandas as pd\n",
    "\n",
    "import warnings\n",
    "\n",
    "# Настройка отоброжения датасета в тетрадке\n",
    "pd.set_option('display.max_columns', None) # вывод результатов без сокращения количества столбцов\n",
    "\n",
    "# Отключаем предупреждения\n",
    "warnings.filterwarnings('ignore')"
   ]
  },
  {
   "cell_type": "code",
   "execution_count": 3,
   "id": "aae1a8d3-821f-48fc-a091-3c733bcaf36d",
   "metadata": {},
   "outputs": [],
   "source": [
    "# Загрузка датасета\n",
    "\n",
    "data = pd.read_csv('superstore_data.csv')"
   ]
  },
  {
   "cell_type": "code",
   "execution_count": 7,
   "id": "199117fd-2877-4117-8c9c-f1658f320adf",
   "metadata": {},
   "outputs": [
    {
     "data": {
      "text/html": [
       "<div>\n",
       "<style scoped>\n",
       "    .dataframe tbody tr th:only-of-type {\n",
       "        vertical-align: middle;\n",
       "    }\n",
       "\n",
       "    .dataframe tbody tr th {\n",
       "        vertical-align: top;\n",
       "    }\n",
       "\n",
       "    .dataframe thead th {\n",
       "        text-align: right;\n",
       "    }\n",
       "</style>\n",
       "<table border=\"1\" class=\"dataframe\">\n",
       "  <thead>\n",
       "    <tr style=\"text-align: right;\">\n",
       "      <th></th>\n",
       "      <th>Id</th>\n",
       "      <th>Year_Birth</th>\n",
       "      <th>Education</th>\n",
       "      <th>Marital_Status</th>\n",
       "      <th>Income</th>\n",
       "      <th>Kidhome</th>\n",
       "      <th>Teenhome</th>\n",
       "      <th>Dt_Customer</th>\n",
       "      <th>Recency</th>\n",
       "      <th>MntWines</th>\n",
       "      <th>MntFruits</th>\n",
       "      <th>MntMeatProducts</th>\n",
       "      <th>MntFishProducts</th>\n",
       "      <th>MntSweetProducts</th>\n",
       "      <th>MntGoldProds</th>\n",
       "      <th>NumDealsPurchases</th>\n",
       "      <th>NumWebPurchases</th>\n",
       "      <th>NumCatalogPurchases</th>\n",
       "      <th>NumStorePurchases</th>\n",
       "      <th>NumWebVisitsMonth</th>\n",
       "      <th>Response</th>\n",
       "      <th>Complain</th>\n",
       "    </tr>\n",
       "  </thead>\n",
       "  <tbody>\n",
       "    <tr>\n",
       "      <th>0</th>\n",
       "      <td>1826</td>\n",
       "      <td>1970</td>\n",
       "      <td>Graduation</td>\n",
       "      <td>Divorced</td>\n",
       "      <td>84835.0</td>\n",
       "      <td>0</td>\n",
       "      <td>0</td>\n",
       "      <td>6/16/2014</td>\n",
       "      <td>0</td>\n",
       "      <td>189</td>\n",
       "      <td>104</td>\n",
       "      <td>379</td>\n",
       "      <td>111</td>\n",
       "      <td>189</td>\n",
       "      <td>218</td>\n",
       "      <td>1</td>\n",
       "      <td>4</td>\n",
       "      <td>4</td>\n",
       "      <td>6</td>\n",
       "      <td>1</td>\n",
       "      <td>1</td>\n",
       "      <td>0</td>\n",
       "    </tr>\n",
       "    <tr>\n",
       "      <th>1</th>\n",
       "      <td>1</td>\n",
       "      <td>1961</td>\n",
       "      <td>Graduation</td>\n",
       "      <td>Single</td>\n",
       "      <td>57091.0</td>\n",
       "      <td>0</td>\n",
       "      <td>0</td>\n",
       "      <td>6/15/2014</td>\n",
       "      <td>0</td>\n",
       "      <td>464</td>\n",
       "      <td>5</td>\n",
       "      <td>64</td>\n",
       "      <td>7</td>\n",
       "      <td>0</td>\n",
       "      <td>37</td>\n",
       "      <td>1</td>\n",
       "      <td>7</td>\n",
       "      <td>3</td>\n",
       "      <td>7</td>\n",
       "      <td>5</td>\n",
       "      <td>1</td>\n",
       "      <td>0</td>\n",
       "    </tr>\n",
       "    <tr>\n",
       "      <th>2</th>\n",
       "      <td>10476</td>\n",
       "      <td>1958</td>\n",
       "      <td>Graduation</td>\n",
       "      <td>Married</td>\n",
       "      <td>67267.0</td>\n",
       "      <td>0</td>\n",
       "      <td>1</td>\n",
       "      <td>5/13/2014</td>\n",
       "      <td>0</td>\n",
       "      <td>134</td>\n",
       "      <td>11</td>\n",
       "      <td>59</td>\n",
       "      <td>15</td>\n",
       "      <td>2</td>\n",
       "      <td>30</td>\n",
       "      <td>1</td>\n",
       "      <td>3</td>\n",
       "      <td>2</td>\n",
       "      <td>5</td>\n",
       "      <td>2</td>\n",
       "      <td>0</td>\n",
       "      <td>0</td>\n",
       "    </tr>\n",
       "    <tr>\n",
       "      <th>3</th>\n",
       "      <td>1386</td>\n",
       "      <td>1967</td>\n",
       "      <td>Graduation</td>\n",
       "      <td>Together</td>\n",
       "      <td>32474.0</td>\n",
       "      <td>1</td>\n",
       "      <td>1</td>\n",
       "      <td>11/5/2014</td>\n",
       "      <td>0</td>\n",
       "      <td>10</td>\n",
       "      <td>0</td>\n",
       "      <td>1</td>\n",
       "      <td>0</td>\n",
       "      <td>0</td>\n",
       "      <td>0</td>\n",
       "      <td>1</td>\n",
       "      <td>1</td>\n",
       "      <td>0</td>\n",
       "      <td>2</td>\n",
       "      <td>7</td>\n",
       "      <td>0</td>\n",
       "      <td>0</td>\n",
       "    </tr>\n",
       "    <tr>\n",
       "      <th>4</th>\n",
       "      <td>5371</td>\n",
       "      <td>1989</td>\n",
       "      <td>Graduation</td>\n",
       "      <td>Single</td>\n",
       "      <td>21474.0</td>\n",
       "      <td>1</td>\n",
       "      <td>0</td>\n",
       "      <td>8/4/2014</td>\n",
       "      <td>0</td>\n",
       "      <td>6</td>\n",
       "      <td>16</td>\n",
       "      <td>24</td>\n",
       "      <td>11</td>\n",
       "      <td>0</td>\n",
       "      <td>34</td>\n",
       "      <td>2</td>\n",
       "      <td>3</td>\n",
       "      <td>1</td>\n",
       "      <td>2</td>\n",
       "      <td>7</td>\n",
       "      <td>1</td>\n",
       "      <td>0</td>\n",
       "    </tr>\n",
       "  </tbody>\n",
       "</table>\n",
       "</div>"
      ],
      "text/plain": [
       "      Id  Year_Birth   Education Marital_Status   Income  Kidhome  Teenhome  \\\n",
       "0   1826        1970  Graduation       Divorced  84835.0        0         0   \n",
       "1      1        1961  Graduation         Single  57091.0        0         0   \n",
       "2  10476        1958  Graduation        Married  67267.0        0         1   \n",
       "3   1386        1967  Graduation       Together  32474.0        1         1   \n",
       "4   5371        1989  Graduation         Single  21474.0        1         0   \n",
       "\n",
       "  Dt_Customer  Recency  MntWines  MntFruits  MntMeatProducts  MntFishProducts  \\\n",
       "0   6/16/2014        0       189        104              379              111   \n",
       "1   6/15/2014        0       464          5               64                7   \n",
       "2   5/13/2014        0       134         11               59               15   \n",
       "3   11/5/2014        0        10          0                1                0   \n",
       "4    8/4/2014        0         6         16               24               11   \n",
       "\n",
       "   MntSweetProducts  MntGoldProds  NumDealsPurchases  NumWebPurchases  \\\n",
       "0               189           218                  1                4   \n",
       "1                 0            37                  1                7   \n",
       "2                 2            30                  1                3   \n",
       "3                 0             0                  1                1   \n",
       "4                 0            34                  2                3   \n",
       "\n",
       "   NumCatalogPurchases  NumStorePurchases  NumWebVisitsMonth  Response  \\\n",
       "0                    4                  6                  1         1   \n",
       "1                    3                  7                  5         1   \n",
       "2                    2                  5                  2         0   \n",
       "3                    0                  2                  7         0   \n",
       "4                    1                  2                  7         1   \n",
       "\n",
       "   Complain  \n",
       "0         0  \n",
       "1         0  \n",
       "2         0  \n",
       "3         0  \n",
       "4         0  "
      ]
     },
     "execution_count": 7,
     "metadata": {},
     "output_type": "execute_result"
    }
   ],
   "source": [
    "# Откроем датасет и посмотрим на данные\n",
    "\n",
    "data.head()"
   ]
  },
  {
   "cell_type": "code",
   "execution_count": 8,
   "id": "863eeba6-2953-4cdb-a818-b708684d395f",
   "metadata": {},
   "outputs": [
    {
     "name": "stdout",
     "output_type": "stream",
     "text": [
      "<class 'pandas.core.frame.DataFrame'>\n",
      "RangeIndex: 2240 entries, 0 to 2239\n",
      "Data columns (total 22 columns):\n",
      " #   Column               Non-Null Count  Dtype  \n",
      "---  ------               --------------  -----  \n",
      " 0   Id                   2240 non-null   int64  \n",
      " 1   Year_Birth           2240 non-null   int64  \n",
      " 2   Education            2240 non-null   object \n",
      " 3   Marital_Status       2240 non-null   object \n",
      " 4   Income               2216 non-null   float64\n",
      " 5   Kidhome              2240 non-null   int64  \n",
      " 6   Teenhome             2240 non-null   int64  \n",
      " 7   Dt_Customer          2240 non-null   object \n",
      " 8   Recency              2240 non-null   int64  \n",
      " 9   MntWines             2240 non-null   int64  \n",
      " 10  MntFruits            2240 non-null   int64  \n",
      " 11  MntMeatProducts      2240 non-null   int64  \n",
      " 12  MntFishProducts      2240 non-null   int64  \n",
      " 13  MntSweetProducts     2240 non-null   int64  \n",
      " 14  MntGoldProds         2240 non-null   int64  \n",
      " 15  NumDealsPurchases    2240 non-null   int64  \n",
      " 16  NumWebPurchases      2240 non-null   int64  \n",
      " 17  NumCatalogPurchases  2240 non-null   int64  \n",
      " 18  NumStorePurchases    2240 non-null   int64  \n",
      " 19  NumWebVisitsMonth    2240 non-null   int64  \n",
      " 20  Response             2240 non-null   int64  \n",
      " 21  Complain             2240 non-null   int64  \n",
      "dtypes: float64(1), int64(18), object(3)\n",
      "memory usage: 385.1+ KB\n"
     ]
    }
   ],
   "source": [
    "# Посмотрим общую информацию о датасете\n",
    "\n",
    "data.info()"
   ]
  },
  {
   "cell_type": "markdown",
   "id": "252b0d5f-eb85-4517-9f80-56e7a07510c4",
   "metadata": {},
   "source": [
    "В датасете содиржится меформация о 2240 клиентов с 22 признаками. К датасету прилагалось следующее описание:\n",
    "\n",
    "* ``Id`` - уникальный идентификатор клиента\n",
    "* ``Year_Birth`` - год рождения клиента\n",
    "* ``Education`` - уровень образования клиента\n",
    "* ``Marital_Status`` - семейное положение клиента\n",
    "* ``Income`` - годовой доход домохозяйства клиента\n",
    "* ``Kidhome`` - количество маленьких детей у клиента\n",
    "* ``Teenhome`` - количество детей-подростков \n",
    "* ``Dt_Customer`` - дата регистрации клиента\n",
    "* ``Recency`` - количество дней с последней покупки\n",
    "* ``MntWines`` - сумма, потраченная на вино за последние два года\n",
    "* ``MntFruits`` -  сумма, потраченная на фрукты за последние два года\n",
    "* ``MntMeatProducts`` -  сумма, потраченная на мясо за последние два года\n",
    "* ``MntFishProducts`` -  сумма, потраченная на рыбу за последние два года\n",
    "* ``MntSweetProducts`` -  сумма, потраченная на сладости за последние два года\n",
    "* ``MntGoldProds`` -  сумма, потраченная на \"золотые продукты\" за последние два года. \"Золотые продукты\" - это продукты, размещаемые на \"золотой полке\" — это полка, расположенная на уровне глаз покупателей, на высоте от 1,2 до 1,7 метра от пола (с учётом среднего роста взрослого человека). В детских магазинах золотая полка находится на уровне от 0,3 до 1 метра от пола. \n",
    "* ``NumDealsPurchases`` - количество покупок со скидкой\n",
    "* ``NumWebPurchases`` - количество покупок совершенных на сайте компании\n",
    "* ``NumCatalogPurchases`` - количество покупок, совершенных с помощью каталога (покупка товаров, которые должны быть отправлены по почте)\n",
    "* ``NumStorePurchases`` - количество покупок совершенных непосредственно в магазине\n",
    "* ``NumWebVisitsMonth`` - количество посещений сайта компании за последний месяц\n",
    "* ``Response`` - ответ клиента (целевая переменная), 1 - клиент принял предложение о покупке, 0 - не принял\n",
    "* ``Complain`` - жалобы клиента, 1 - жалобы были, 0 - жалоб не было"
   ]
  },
  {
   "cell_type": "markdown",
   "id": "2321111e-61dd-4146-9a8e-3123283115e1",
   "metadata": {},
   "source": [
    "## 2. Предобработка данных"
   ]
  },
  {
   "cell_type": "markdown",
   "id": "9643376f-a548-4c5a-8d85-b74cb46aba55",
   "metadata": {},
   "source": [
    "Исходя из выполненного обзора данных необходимо выполнить:\n",
    "* Привести типы данных в соответствие\n",
    "* Проверить пропуски в датасете\n",
    "* Проверить наличие явных и неявных дубликатов\n",
    "* По возможности дообогатить данные\n",
    "* Удалить столбцы не несущие смысла для дальнейшего анализа"
   ]
  },
  {
   "cell_type": "markdown",
   "id": "ae3c8003-6001-46fd-ae40-b41100d008eb",
   "metadata": {},
   "source": [
    "### 2.1. Типы данных"
   ]
  },
  {
   "cell_type": "markdown",
   "id": "33296c8b-8b92-49bb-a095-0504404f776f",
   "metadata": {},
   "source": [
    "Поле ``Dt_Customer`` содержит дату регистрации клиента и  представлена в строковом виде - необходимо привести к типу даты."
   ]
  },
  {
   "cell_type": "code",
   "execution_count": 14,
   "id": "ada0e4c8-3264-465a-a218-67cc76cc9bf4",
   "metadata": {},
   "outputs": [],
   "source": [
    "# Преобразуем Dt_Customer к типу даты\n",
    "\n",
    "data['Dt_Customer'] = pd.to_datetime(data['Dt_Customer'])"
   ]
  },
  {
   "cell_type": "markdown",
   "id": "dff13572-8393-4b83-ae5e-04cff9bc666c",
   "metadata": {},
   "source": [
    "В остальных полях типы данных указаны корректно."
   ]
  },
  {
   "cell_type": "markdown",
   "id": "1c3c7350-239a-4bdf-aa1c-fb47ce6ddf96",
   "metadata": {},
   "source": [
    "### 2.1. Пропуски данных"
   ]
  },
  {
   "cell_type": "code",
   "execution_count": 18,
   "id": "e9ce72ed-3de5-44e9-be89-41a56eba93ea",
   "metadata": {},
   "outputs": [
    {
     "name": "stdout",
     "output_type": "stream",
     "text": [
      "========================================\n",
      "NULLS\n",
      "Id                      0\n",
      "Year_Birth              0\n",
      "Education               0\n",
      "Marital_Status          0\n",
      "Income                 24\n",
      "Kidhome                 0\n",
      "Teenhome                0\n",
      "Dt_Customer             0\n",
      "Recency                 0\n",
      "MntWines                0\n",
      "MntFruits               0\n",
      "MntMeatProducts         0\n",
      "MntFishProducts         0\n",
      "MntSweetProducts        0\n",
      "MntGoldProds            0\n",
      "NumDealsPurchases       0\n",
      "NumWebPurchases         0\n",
      "NumCatalogPurchases     0\n",
      "NumStorePurchases       0\n",
      "NumWebVisitsMonth       0\n",
      "Response                0\n",
      "Complain                0\n",
      "dtype: int64\n",
      "========================================\n",
      "NANs\n",
      "Id                      0\n",
      "Year_Birth              0\n",
      "Education               0\n",
      "Marital_Status          0\n",
      "Income                 24\n",
      "Kidhome                 0\n",
      "Teenhome                0\n",
      "Dt_Customer             0\n",
      "Recency                 0\n",
      "MntWines                0\n",
      "MntFruits               0\n",
      "MntMeatProducts         0\n",
      "MntFishProducts         0\n",
      "MntSweetProducts        0\n",
      "MntGoldProds            0\n",
      "NumDealsPurchases       0\n",
      "NumWebPurchases         0\n",
      "NumCatalogPurchases     0\n",
      "NumStorePurchases       0\n",
      "NumWebVisitsMonth       0\n",
      "Response                0\n",
      "Complain                0\n",
      "dtype: int64\n",
      "========================================\n",
      "The history saving thread hit an unexpected error (OperationalError('attempt to write a readonly database')).History will not be written to the database.\n"
     ]
    }
   ],
   "source": [
    "# Проверим наличие NAN и NULL в датасете\n",
    "\n",
    "print(20*'==')\n",
    "print('NULLS')\n",
    "print(data.isnull().sum())\n",
    "print(20*'==')\n",
    "print('NANs')\n",
    "print(data.isna().sum())\n",
    "print(20*'==')"
   ]
  },
  {
   "cell_type": "markdown",
   "id": "b5ee8f39-3b9d-41dc-9ff3-be978bd726cd",
   "metadata": {},
   "source": [
    "Обнаружено 24 пропуска по полю Income. "
   ]
  },
  {
   "cell_type": "code",
   "execution_count": 24,
   "id": "0c846575-a139-4837-a8f4-af0b5684abd1",
   "metadata": {},
   "outputs": [
    {
     "name": "stdout",
     "output_type": "stream",
     "text": [
      "Доля пропущенных данных в датасете: 1.07%\n"
     ]
    }
   ],
   "source": [
    "print(f'Доля пропущенных данных в датасете: {data.query('Income.isna()').shape[0] / data.shape[0] * 100:.2f}%')"
   ]
  },
  {
   "cell_type": "markdown",
   "id": "4164c75b-d103-4a32-9976-86f90e2f8790",
   "metadata": {},
   "source": [
    "Заполнять пропуски не будем, удалим пропущенные значения (1% - допустимый уровень потерь при предобработке данных), чтобы не искажать данные, что может негативно повлиять на обучение моделей. Результат сохраним в новый датафрейм с очищенными данными."
   ]
  },
  {
   "cell_type": "code",
   "execution_count": 25,
   "id": "37897596-b68d-4b5e-bfb7-09918dedb5e3",
   "metadata": {},
   "outputs": [],
   "source": [
    "# Создадим новый датафрейм в котором будут храниться очищенные данные для дальнейшей работы.\n",
    "\n",
    "df = data.dropna()"
   ]
  },
  {
   "cell_type": "markdown",
   "id": "dec1c0b5-6381-45cd-a78d-561aec8563b9",
   "metadata": {},
   "source": [
    "### 2.2. Дубликаты данных"
   ]
  },
  {
   "cell_type": "code",
   "execution_count": null,
   "id": "93fb4fc2-4185-4816-ae2f-87490dbc77bd",
   "metadata": {},
   "outputs": [],
   "source": []
  },
  {
   "cell_type": "markdown",
   "id": "62b84d7d-cc1e-4cfb-834d-3af3ce5588e1",
   "metadata": {},
   "source": [
    "### 2.3. Выводы по предобработке данных"
   ]
  },
  {
   "cell_type": "code",
   "execution_count": null,
   "id": "1a0892d1-c086-479d-9476-4fa150c3ad3c",
   "metadata": {},
   "outputs": [],
   "source": []
  },
  {
   "cell_type": "markdown",
   "id": "3ae066e8-fa37-40b9-80d5-94673e366341",
   "metadata": {},
   "source": [
    "## 3. Исследовательский анализ данных"
   ]
  },
  {
   "cell_type": "code",
   "execution_count": null,
   "id": "ebdb953b-e4f2-4e0a-bf26-b4bb10a99fdc",
   "metadata": {},
   "outputs": [],
   "source": []
  },
  {
   "cell_type": "code",
   "execution_count": null,
   "id": "43e650b6-a09d-46ca-a83c-e55a991bd09d",
   "metadata": {},
   "outputs": [],
   "source": []
  },
  {
   "cell_type": "code",
   "execution_count": null,
   "id": "0b60d275-8a93-4760-b040-c145de2a7390",
   "metadata": {},
   "outputs": [],
   "source": []
  },
  {
   "cell_type": "code",
   "execution_count": null,
   "id": "874264d5-dc50-4d4c-bc28-99f76aaa53f5",
   "metadata": {},
   "outputs": [],
   "source": []
  },
  {
   "cell_type": "markdown",
   "id": "e48b6f57-6c07-4929-acd1-b083cb4b1e00",
   "metadata": {},
   "source": [
    "## 4. Портрет покупателя"
   ]
  },
  {
   "cell_type": "code",
   "execution_count": null,
   "id": "223fce00-ce8a-4593-a81e-68c303d84419",
   "metadata": {},
   "outputs": [],
   "source": []
  },
  {
   "cell_type": "code",
   "execution_count": null,
   "id": "17f4eb90-4471-4cd6-bc94-e477a15b806a",
   "metadata": {},
   "outputs": [],
   "source": []
  },
  {
   "cell_type": "code",
   "execution_count": null,
   "id": "25e65bbf-b0a9-4650-a6ce-27c923a5520f",
   "metadata": {},
   "outputs": [],
   "source": []
  },
  {
   "cell_type": "markdown",
   "id": "f730b7ea-2598-470a-9ce8-0343e3d0c865",
   "metadata": {},
   "source": [
    "## 5. Кластеризация покупателей"
   ]
  },
  {
   "cell_type": "code",
   "execution_count": null,
   "id": "7e3274fa-586c-4c9d-8e98-0dcfb7988fd2",
   "metadata": {},
   "outputs": [],
   "source": []
  },
  {
   "cell_type": "code",
   "execution_count": null,
   "id": "f8211c80-2cf3-4a85-86be-4eda05e21c11",
   "metadata": {},
   "outputs": [],
   "source": []
  },
  {
   "cell_type": "code",
   "execution_count": null,
   "id": "5eae4fc9-a461-4cb4-a85b-65d3e710e3c4",
   "metadata": {},
   "outputs": [],
   "source": []
  },
  {
   "cell_type": "markdown",
   "id": "f2699df5-f277-49f5-ae5c-9536dbc71d4e",
   "metadata": {},
   "source": [
    "## 6. Выбор и обучение модели для определения вероятности покупки товара"
   ]
  },
  {
   "cell_type": "code",
   "execution_count": null,
   "id": "f56c8eaf-e418-40a5-8b32-fec0caa44711",
   "metadata": {},
   "outputs": [],
   "source": []
  },
  {
   "cell_type": "code",
   "execution_count": null,
   "id": "358c4846-8569-4b87-b82a-6448cb32fe52",
   "metadata": {},
   "outputs": [],
   "source": []
  },
  {
   "cell_type": "code",
   "execution_count": null,
   "id": "5b55a180-cfa8-4d5e-9769-bf5b0601180e",
   "metadata": {},
   "outputs": [],
   "source": []
  },
  {
   "cell_type": "markdown",
   "id": "f2462f24-e193-4a02-ac21-a9e8c46d015c",
   "metadata": {},
   "source": [
    "## 7. Общие выводы по результатам работы"
   ]
  },
  {
   "cell_type": "code",
   "execution_count": null,
   "id": "a31dbfc0-cabd-45eb-971b-0945d6975734",
   "metadata": {},
   "outputs": [],
   "source": []
  },
  {
   "cell_type": "code",
   "execution_count": null,
   "id": "961e9127-6cab-41f1-b327-8dd63116efd5",
   "metadata": {},
   "outputs": [],
   "source": []
  },
  {
   "cell_type": "code",
   "execution_count": null,
   "id": "7a36c9c1-f7e5-4cd6-b36c-50925785de60",
   "metadata": {},
   "outputs": [],
   "source": []
  }
 ],
 "metadata": {
  "kernelspec": {
   "display_name": "Python 3 (ipykernel)",
   "language": "python",
   "name": "python3"
  },
  "language_info": {
   "codemirror_mode": {
    "name": "ipython",
    "version": 3
   },
   "file_extension": ".py",
   "mimetype": "text/x-python",
   "name": "python",
   "nbconvert_exporter": "python",
   "pygments_lexer": "ipython3",
   "version": "3.13.2"
  }
 },
 "nbformat": 4,
 "nbformat_minor": 5
}
